{
 "cells": [
  {
   "cell_type": "markdown",
   "metadata": {},
   "source": [
    "# BLAST Loop "
   ]
  },
  {
   "cell_type": "markdown",
   "metadata": {},
   "source": [
    "#\n",
    "\n",
    "want to be able to take a list of genes to search and search them in a list of organisms\n",
    "\n",
    "can do this with two loops, one to hold the organism, one to hold the list of genes (unless we can have have multiple queries per run as you can with the GUI BLAST page.\n",
    "\n",
    "____________________________________\n",
    "Script:\n",
    "\n",
    "    open gene_list.txt\n",
    "        #file containing the list of genes to search\n",
    "    read contents of gene list into list genelist\n",
    "    open organism_list.txt\n",
    "    read contents of organism_list.txt to list orglist\n",
    "    \n",
    "    for gene in genelist:\n",
    "        open gene_AscNumb.txt to allow writing\n",
    "        for organism in orglist:\n",
    "    \n",
    "            BLAST with E-value cutoff to [database at NCBI]organism\n",
    "            #E-value presumably an option within the BLAST command line\n",
    "            #selective enough to ensure meaning behind  hits we get\n",
    "            Tail \n",
    "            #to trim the headers and such from the top of the hit table\n",
    "            Cut the Hit-Table to retrieve gene ascension info\n",
    "            Sort and uniq to remove duplicate ascentions \n",
    "            #not sure if needed in a nonredundant database\n",
    "           \n",
    "            Append output to gene_AscNumb.txt\n",
    "        close(gene_AscNumb.txt)\n",
    "\n",
    "this will give gene by gene a file full of the best hits for each gene in order by organism, listed by ascension number."
   ]
  },
  {
   "cell_type": "markdown",
   "metadata": {},
   "source": []
  }
 ],
 "metadata": {
  "anaconda-cloud": {},
  "kernelspec": {
   "display_name": "Python [default]",
   "language": "python",
   "name": "python3"
  },
  "language_info": {
   "codemirror_mode": {
    "name": "ipython",
    "version": 3
   },
   "file_extension": ".py",
   "mimetype": "text/x-python",
   "name": "python",
   "nbconvert_exporter": "python",
   "pygments_lexer": "ipython3",
   "version": "3.5.2"
  }
 },
 "nbformat": 4,
 "nbformat_minor": 2
}
