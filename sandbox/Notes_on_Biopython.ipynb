{
 "cells": [
  {
   "cell_type": "code",
   "execution_count": null,
   "metadata": {
    "collapsed": true
   },
   "outputs": [],
   "source": [
    "from Bio import SeqIO #imports the relevant stuff\n",
    "for seq_record in SeqIO.parse(\"ls_orchid.fasta\", \"fasta\"): #we are parsing and setting up a loop at the same time\n",
    "    print(seq_record.id)\n",
    "    print(repr(seq_record.seq))\n",
    "    print(len(seq_record))"
   ]
  },
  {
   "cell_type": "markdown",
   "metadata": {
    "collapsed": false
   },
   "source": [
    "from Bio import SeqIO\n",
    "for seq_record in SeqIO.parse(\"ls_orchid.gbk\", \"genbank\"): #file name and format string as the two variables\n",
    "    print(seq_record.id)\n",
    "    print(repr(seq_record.seq))\n",
    "    print(len(seq_record))"
   ]
  },
  {
   "cell_type": "code",
   "execution_count": 4,
   "metadata": {
    "collapsed": true
   },
   "outputs": [],
   "source": [
    "#making a seq record object\n",
    "from Bio.Seq import Seq\n",
    "simple_seq= Seq(\"GATC\")\n",
    "from Bio.SeqRecord import SeqRecord\n",
    "simple_seq_r=SeqRecord(simple_seq)\n"
   ]
  },
  {
   "cell_type": "code",
   "execution_count": 5,
   "metadata": {
    "collapsed": false
   },
   "outputs": [
    {
     "data": {
      "text/plain": [
       "'<unknown id>'"
      ]
     },
     "execution_count": 5,
     "metadata": {},
     "output_type": "execute_result"
    }
   ],
   "source": [
    "simple_seq_r.id"
   ]
  },
  {
   "cell_type": "code",
   "execution_count": 7,
   "metadata": {
    "collapsed": false
   },
   "outputs": [
    {
     "name": "stdout",
     "output_type": "stream",
     "text": [
      "Made up sequence\n"
     ]
    }
   ],
   "source": [
    "simple_seq_r.id=\"AC12345\"\n",
    "simple_seq_r.description=\"Made up sequence\"\n",
    "print(simple_seq_r.description)"
   ]
  },
  {
   "cell_type": "code",
   "execution_count": 8,
   "metadata": {
    "collapsed": false
   },
   "outputs": [
    {
     "data": {
      "text/plain": [
       "Seq('GATC', Alphabet())"
      ]
     },
     "execution_count": 8,
     "metadata": {},
     "output_type": "execute_result"
    }
   ],
   "source": [
    "simple_seq_r.seq"
   ]
  },
  {
   "cell_type": "code",
   "execution_count": 9,
   "metadata": {
    "collapsed": true
   },
   "outputs": [],
   "source": [
    "#SeqRecord had dicitonary attribute annotations\n",
    "#give the key a name and pass it some value, it can be a list\n"
   ]
  },
  {
   "cell_type": "markdown",
   "metadata": {},
   "source": [
    "seq feature objects\n",
    "idea is to describe a sequences essential features\n",
    "has a number of attributes\n",
    ".type is type of feature e.g. gene or CDS (coding sequence)\n",
    ".location= location of SeqFeature, includes shorthand attributes for properties of location\n",
    "\n",
    "\n",
    "Postions and location\n",
    "postion refers to single position on a sequence, may or not be fuzzy\n",
    "location is sequence bounded by some positions\n",
    "\n",
    "\n",
    "Featurelocation objects\n",
    "CompoundLocation Objects\n",
    "fuzzy position represents us saying it occurs before or after a certain position using < and >, within means between two points\n"
   ]
  },
  {
   "cell_type": "code",
   "execution_count": 10,
   "metadata": {
    "collapsed": true
   },
   "outputs": [],
   "source": [
    "from Bio import SeqFeature\n",
    "start_pos=SeqFeature.AfterPosition(5)\n",
    "end_pos=SeqFeature.BetweenPosition(9, left=8, right=9)\n",
    "my_location=SeqFeature.FeatureLocation(start_pos, end_pos)"
   ]
  },
  {
   "cell_type": "code",
   "execution_count": 11,
   "metadata": {
    "collapsed": false
   },
   "outputs": [
    {
     "name": "stdout",
     "output_type": "stream",
     "text": [
      "[>5:(8^9)]\n"
     ]
    }
   ],
   "source": [
    "print(my_location)"
   ]
  },
  {
   "cell_type": "code",
   "execution_count": 13,
   "metadata": {
    "collapsed": false
   },
   "outputs": [
    {
     "name": "stdout",
     "output_type": "stream",
     "text": [
      ">5\n"
     ]
    }
   ],
   "source": [
    "print(my_location.start)"
   ]
  },
  {
   "cell_type": "code",
   "execution_count": 14,
   "metadata": {
    "collapsed": false
   },
   "outputs": [
    {
     "data": {
      "text/plain": [
       "5"
      ]
     },
     "execution_count": 14,
     "metadata": {},
     "output_type": "execute_result"
    }
   ],
   "source": [
    "int(my_location.start)"
   ]
  },
  {
   "cell_type": "markdown",
   "metadata": {},
   "source": [
    "#can test if a base or residue for a parent coordinate is within the feature orr locaiton or not\n",
    "from Bio import SeqIO\n",
    "my_snp = 4350\n",
    "record = SeqIO.read(\"NC_005816.gb\", \"genbank\")\n",
    "for feature in record.features:\n",
    "        if my_snp in feature:\n",
    "            print(\"%s %s\" % (feature.type, feature.qualifiers.get('db_xref')))"
   ]
  },
  {
   "cell_type": "markdown",
   "metadata": {},
   "source": [
    "# BLAST practice\n",
    "\n",
    "\n"
   ]
  },
  {
   "cell_type": "code",
   "execution_count": 17,
   "metadata": {
    "collapsed": true
   },
   "outputs": [],
   "source": [
    "#three arguments \n",
    "#the type of search\n",
    "#the database to search against\n",
    "#GI number of query sequence\n",
    "#optional args include base url to run over cloud, qblast to return results in various formats, default is XML, expect sets e-value threshold\n",
    "from Bio.Blast import NCBIWWW\n",
    "result_handle=NCBIWWW.qblast(\"blastn\", \"nt\", \"8332116\")\n",
    "#could have read in FASTA file as SeqRecord and supply seq itself\n",
    "#may want to save local copy of output file first\n",
    "save_file=open(\"my_blast.xml\", \"w\")  #we are opening a file that does not yet exist to write to it\n",
    "save_file.write(result_handle.read())  #writing the result of our blast search to local file\n",
    "save_file.close() #closing it to allow the file to actually write it\n",
    "result_handle.close() #not sure why we close this\n",
    "\n"
   ]
  },
  {
   "cell_type": "code",
   "execution_count": 18,
   "metadata": {
    "collapsed": true
   },
   "outputs": [],
   "source": [
    "result_handle=open('my_blast.xml')"
   ]
  },
  {
   "cell_type": "code",
   "execution_count": 19,
   "metadata": {
    "collapsed": false
   },
   "outputs": [],
   "source": [
    "from Bio.Blast import NCBIXML\n",
    "blast_record= NCBIXML.parse(result_handle)\n",
    "#can use next function to step through each result, but only works once\n",
    "#can use a for loop but still only step through once to do the thing you want once\n",
    "#for blast_record in blast_records:\n",
    "#    print()\n",
    "    \n",
    "#can also make a list of the blast records and step through them\n",
    "#problematic if your list is very big, run into memory problems\n",
    "blast_record_list=list(blast_records)\n",
    "#blast record class contains lots of stuff"
   ]
  },
  {
   "cell_type": "code",
   "execution_count": 23,
   "metadata": {
    "collapsed": true
   },
   "outputs": [],
   "source": [
    "from Bio.Blast import NCBIXML\n",
    "blast_record = NCBIXML.read(result_handle)\n",
    "\n",
    "\n",
    "#seem to need this to make the lower loop run"
   ]
  },
  {
   "cell_type": "code",
   "execution_count": 24,
   "metadata": {
    "collapsed": false
   },
   "outputs": [
    {
     "name": "stdout",
     "output_type": "stream",
     "text": [
      "****Alignment*****\n",
      "sequence:  gi|731339628|ref|XM_010682658.1| PREDICTED: Beta vulgaris subsp. vulgaris cold-regulated 413 plasma membrane protein 2 (LOC104895996), mRNA\n",
      "length:  847\n",
      "e value 1.5135e-108\n",
      "TTGGCCATGAAAACTGATCAATTGGCCGTGGCTAATATGATCGATTCCGATATCAATGAGCTTAAAATGGCAACA...\n",
      "||||||||||||||||| ||| ||||  |||||||| |||| ||||  ||||| ||||| ||||| || ||    ...\n",
      "TTGGCCATGAAAACTGAGCAAATGGCGTTGGCTAATTTGATAGATTATGATATGAATGAACTTAAGATCGCTTTG...\n",
      "****Alignment*****\n",
      "sequence:  gi|1009144954|ref|XM_016034586.1| PREDICTED: Ziziphus jujuba cold-regulated 413 plasma membrane protein 2-like (LOC107424728), mRNA\n",
      "length:  827\n",
      "e value 7.84012e-106\n",
      "AAAATGGGGAGAGAAATGAAGTACTTGGCCATGAAAACTGATCAATTGGCCGTGGCTAATATGATCGATTCCGAT...\n",
      "|||||||||||    ||| |||  ||||| |||| |||||||| |   |||  |||| |  ||||  |||| |||...\n",
      "AAAATGGGGAGG---ATGGAGTTTTTGGCTATGAGAACTGATCCA---GCCACGGCTGACTTGATAAATTCTGAT...\n",
      "****Alignment*****\n",
      "sequence:  gi|1098839281|ref|XM_018970776.1| PREDICTED: Juglans regia cold-regulated 413 plasma membrane protein 2 (LOC108995251), mRNA\n",
      "length:  977\n",
      "e value 1.16358e-103\n",
      "AATGGGGAGAGAAATGAAGTACTTGGCCATGAAAACTGATCAATT---------GGCCGTGGCTAATATGATCGA...\n",
      "||||||||| |||  | | || |||||||||||||||||||             ||||  |||  || |||||||...\n",
      "AATGGGGAG-GAA--GGATTATTTGGCCATGAAAACTGATCCGGCCACGGCCACGGCCACGGCGGATTTGATCGA...\n",
      "****Alignment*****\n",
      "sequence:  gi|985431980|ref|XM_006466626.2| PREDICTED: Citrus sinensis cold-regulated 413 plasma membrane protein 2 (LOC102620025), transcript variant X4, mRNA\n",
      "length:  888\n",
      "e value 8.94557e-99\n",
      "AAATGGGGAGAGAAATGAAGTACTTGGCCATGAAAACTGATCAATTGGCCGTGGCTAATATGATCGATTCCGATA...\n",
      "|||||||||||    |||| || ||||| |||||||||||| |   ||  |  ||  |  |||||   || ||| ...\n",
      "AAATGGGGAGAT---TGAATTATTTGGCTATGAAAACTGATGATCAGGTTGCAGCAGAGTTGATCAGCTCTGATT...\n",
      "****Alignment*****\n",
      "sequence:  gi|985431979|ref|XM_006466624.2| PREDICTED: Citrus sinensis cold-regulated 413 plasma membrane protein 2 (LOC102620025), transcript variant X2, mRNA\n",
      "length:  900\n",
      "e value 8.94557e-99\n",
      "AAATGGGGAGAGAAATGAAGTACTTGGCCATGAAAACTGATCAATTGGCCGTGGCTAATATGATCGATTCCGATA...\n",
      "|||||||||||    |||| || ||||| |||||||||||| |   ||  |  ||  |  |||||   || ||| ...\n",
      "AAATGGGGAGAT---TGAATTATTTGGCTATGAAAACTGATGATCAGGTTGCAGCAGAGTTGATCAGCTCTGATT...\n",
      "****Alignment*****\n",
      "sequence:  gi|985431978|ref|XM_006466623.2| PREDICTED: Citrus sinensis cold-regulated 413 plasma membrane protein 2 (LOC102620025), transcript variant X1, mRNA\n",
      "length:  970\n",
      "e value 8.94557e-99\n",
      "AAATGGGGAGAGAAATGAAGTACTTGGCCATGAAAACTGATCAATTGGCCGTGGCTAATATGATCGATTCCGATA...\n",
      "|||||||||||    |||| || ||||| |||||||||||| |   ||  |  ||  |  |||||   || ||| ...\n",
      "AAATGGGGAGAT---TGAATTATTTGGCTATGAAAACTGATGATCAGGTTGCAGCAGAGTTGATCAGCTCTGATT...\n",
      "****Alignment*****\n",
      "sequence:  gi|568824605|ref|XM_006466625.1| PREDICTED: Citrus sinensis cold-regulated 413 plasma membrane protein 2 (LOC102620025), transcript variant X3, mRNA\n",
      "length:  911\n",
      "e value 8.94557e-99\n",
      "AAATGGGGAGAGAAATGAAGTACTTGGCCATGAAAACTGATCAATTGGCCGTGGCTAATATGATCGATTCCGATA...\n",
      "|||||||||||    |||| || ||||| |||||||||||| |   ||  |  ||  |  |||||   || ||| ...\n",
      "AAATGGGGAGAT---TGAATTATTTGGCTATGAAAACTGATGATCAGGTTGCAGCAGAGTTGATCAGCTCTGATT...\n",
      "****Alignment*****\n",
      "sequence:  gi|567866318|ref|XM_006425719.1| Citrus clementina hypothetical protein (CICLE_v10026511mg) mRNA, complete cds\n",
      "length:  1122\n",
      "e value 8.94557e-99\n",
      "AAATGGGGAGAGAAATGAAGTACTTGGCCATGAAAACTGATCAATTGGCCGTGGCTAATATGATCGATTCCGATA...\n",
      "|||||||||||    |||| || ||||| |||||||||||| |   ||  |  ||  |  |||||   || ||| ...\n",
      "AAATGGGGAGAT---TGAATTATTTGGCTATGAAAACTGATGATCAGGTTGCAGCAGAGTTGATCAGCTCTGATT...\n",
      "****Alignment*****\n",
      "sequence:  gi|567866316|ref|XM_006425718.1| Citrus clementina hypothetical protein (CICLE_v10026511mg) mRNA, complete cds\n",
      "length:  1202\n",
      "e value 8.94557e-99\n",
      "AAATGGGGAGAGAAATGAAGTACTTGGCCATGAAAACTGATCAATTGGCCGTGGCTAATATGATCGATTCCGATA...\n",
      "|||||||||||    |||| || ||||| |||||||||||| |   ||  |  ||  |  |||||   || ||| ...\n",
      "AAATGGGGAGAT---TGAATTATTTGGCTATGAAAACTGATGATCAGGTTGCAGCAGAGTTGATCAGCTCTGATT...\n",
      "****Alignment*****\n",
      "sequence:  gi|567866314|ref|XM_006425717.1| Citrus clementina hypothetical protein (CICLE_v10026511mg) mRNA, complete cds\n",
      "length:  971\n",
      "e value 8.94557e-99\n",
      "AAATGGGGAGAGAAATGAAGTACTTGGCCATGAAAACTGATCAATTGGCCGTGGCTAATATGATCGATTCCGATA...\n",
      "|||||||||||    |||| || ||||| |||||||||||| |   ||  |  ||  |  |||||   || ||| ...\n",
      "AAATGGGGAGAT---TGAATTATTTGGCTATGAAAACTGATGATCAGGTTGCAGCAGAGTTGATCAGCTCTGATT...\n",
      "****Alignment*****\n",
      "sequence:  gi|567866312|ref|XM_006425716.1| Citrus clementina hypothetical protein (CICLE_v10026511mg) mRNA, complete cds\n",
      "length:  886\n",
      "e value 8.94557e-99\n",
      "AAATGGGGAGAGAAATGAAGTACTTGGCCATGAAAACTGATCAATTGGCCGTGGCTAATATGATCGATTCCGATA...\n",
      "|||||||||||    |||| || ||||| |||||||||||| |   ||  |  ||  |  |||||   || ||| ...\n",
      "AAATGGGGAGAT---TGAATTATTTGGCTATGAAAACTGATGATCAGGTTGCAGCAGAGTTGATCAGCTCTGATT...\n",
      "****Alignment*****\n",
      "sequence:  gi|1063463253|ref|XM_007047033.2| PREDICTED: Theobroma cacao cold-regulated 413 plasma membrane protein 2 (LOC18611025), transcript variant X2, mRNA\n",
      "length:  1071\n",
      "e value 1.6174e-95\n",
      "TGTGAACAGA-AAATGGGGAGAGAAATGAAGTACTTGGCCATGAAAACTGATCAATTGGCCGTGGCTAATATGAT...\n",
      "|| |||| || |||||||||||   ||| | || ||||| |||||||| ||||   | || |  |   || ||||...\n",
      "TGAGAACTGAGAAATGGGGAGA---ATGGACTATTTGGCTATGAAAACAGATCCTGTAGCAGAAG---ATTTGAT...\n",
      "****Alignment*****\n",
      "sequence:  gi|1063463252|ref|XM_007047032.2| PREDICTED: Theobroma cacao cold-regulated 413 plasma membrane protein 2 (LOC18611025), transcript variant X1, mRNA\n",
      "length:  1065\n",
      "e value 1.6174e-95\n",
      "TGTGAACAGA-AAATGGGGAGAGAAATGAAGTACTTGGCCATGAAAACTGATCAATTGGCCGTGGCTAATATGAT...\n",
      "|| |||| || |||||||||||   ||| | || ||||| |||||||| ||||   | || |  |   || ||||...\n",
      "TGAGAACTGAGAAATGGGGAGA---ATGGACTATTTGGCTATGAAAACAGATCCTGTAGCAGAAG---ATTTGAT...\n",
      "****Alignment*****\n",
      "sequence:  gi|1098846744|ref|XM_018974650.1| PREDICTED: Juglans regia cold-regulated 413 plasma membrane protein 2-like (LOC108998174), mRNA\n",
      "length:  975\n",
      "e value 8.37832e-93\n",
      "AATGGGGAGAGAAATGAAGTACTTGGCCATGAAAACTGATCAATTGGCCGTGGCTAATATGATCGATTCCGATAT...\n",
      "|||||||||    ||||| || ||||| |||||||||||||    |||  ||| | || ||||||  || |||||...\n",
      "AATGGGGAGG---ATGAATTATTTGGCTATGAAAACTGATCC---GGCAATGGATGATTTGATCGGCTCTGATAT...\n",
      "****Alignment*****\n",
      "sequence:  gi|1079253150|ref|XM_009343631.2| PREDICTED: Pyrus x bretschneideri cold-regulated 413 plasma membrane protein 2-like (LOC103933927), mRNA\n",
      "length:  861\n",
      "e value 1.51484e-89\n",
      "TGATCGATTCCGATATCAATGAGCTTAAAATGGCAACAATGAGGCTCATCAATGATGCTAGTATGCTCGGTCATT...\n",
      "|||| ||||| |||||||| ||||| || || ||| | | ||| ||||||| |||||| |  | ||| |||  ||...\n",
      "TGATAGATTCAGATATCAAAGAGCTCAAGATTGCAGCCAAGAGACTCATCAGTGATGCCACCAAGCTTGGTGGTT...\n",
      "****Alignment*****\n",
      "sequence:  gi|1079253149|ref|XM_009343644.2| PREDICTED: Pyrus x bretschneideri cold-regulated 413 plasma membrane protein 2-like (LOC103933943), mRNA\n",
      "length:  876\n",
      "e value 1.51484e-89\n",
      "TGATCGATTCCGATATCAATGAGCTTAAAATGGCAACAATGAGGCTCATCAATGATGCTAGTATGCTCGGTCATT...\n",
      "|||| ||||| |||||||| ||||| || || ||| | | ||| ||||||| |||||| |  | ||| |||  ||...\n",
      "TGATAGATTCAGATATCAAAGAGCTCAAGATTGCAGCCAAGAGACTCATCAGTGATGCCACCAAGCTTGGTGGTT...\n",
      "****Alignment*****\n",
      "sequence:  gi|1079239703|ref|XM_009378191.2| PREDICTED: Pyrus x bretschneideri cold-regulated 413 plasma membrane protein 2 (LOC103965177), mRNA\n",
      "length:  885\n",
      "e value 1.51484e-89\n",
      "TGATCGATTCCGATATCAATGAGCTTAAAATGGCAACAATGAGGCTCATCAATGATGCTAGTATGCTCGGTCATT...\n",
      "|||| ||||| |||||||| ||||| || || ||| | | ||| ||||||| |||||| |  | ||| |||  ||...\n",
      "TGATAGATTCAGATATCAAAGAGCTCAAGATTGCAGCCAAGAGACTCATCAGTGATGCCACCAAGCTTGGTGGTT...\n",
      "****Alignment*****\n",
      "sequence:  gi|743838297|ref|XM_011027373.1| PREDICTED: Populus euphratica cold-regulated 413 plasma membrane protein 2 (LOC105126500), transcript variant X2, mRNA\n",
      "length:  1132\n",
      "e value 5.2873e-89\n",
      "AAAATGGGGAGAGAAATGAAGTACTTGGCCATGAAAACTGATCAATTGGCCGTGGCTAATATGATCGATTCCGAT...\n",
      "|||||||||||    ||| |||  |||   ||||| |||||| |    | |   |||||| | || |||||||||...\n",
      "AAAATGGGGAGG---ATGGAGTTTTTGAAGATGAAGACTGATGATGAAGTCAGCGCTAATTTAATTGATTCCGAT...\n",
      "****Alignment*****\n",
      "sequence:  gi|743838293|ref|XM_011027372.1| PREDICTED: Populus euphratica cold-regulated 413 plasma membrane protein 2 (LOC105126500), transcript variant X1, mRNA\n",
      "length:  980\n",
      "e value 5.2873e-89\n",
      "AAAATGGGGAGAGAAATGAAGTACTTGGCCATGAAAACTGATCAATTGGCCGTGGCTAATATGATCGATTCCGAT...\n",
      "|||||||||||    ||| |||  |||   ||||| |||||| |    | |   |||||| | || |||||||||...\n",
      "AAAATGGGGAGG---ATGGAGTTTTTGAAGATGAAGACTGATGATGAAGTCAGCGCTAATTTAATTGATTCCGAT...\n",
      "****Alignment*****\n",
      "sequence:  gi|595807351|ref|XM_007202530.1| Prunus persica hypothetical protein (PRUPE_ppa011608mg) mRNA, complete cds\n",
      "length:  788\n",
      "e value 3.33665e-85\n",
      "TGATCGATTCCGATATCAATGAGCTTAAAATGGCAACAATGAGGCTCATCAATGATGCTAGTATGCTCGGTCATT...\n",
      "||||  |||| || |||||||| || || || ||| | | ||  |||||||||||||| | || ||| |||   |...\n",
      "TGATAAATTCAGACATCAATGATCTCAAGATTGCAGCCAAGAAACTCATCAATGATGCCACTAAGCTTGGTGGGT...\n",
      "****Alignment*****\n",
      "sequence:  gi|566180892|ref|XM_006380679.1| Populus trichocarpa cold-acclimation family protein (POPTR_0007s12060g) mRNA, complete cds\n",
      "length:  1182\n",
      "e value 4.06487e-84\n",
      "AAAATGGGGAGAGAAATGAAGTACTTGGCCATGAAAACTGATCAATTGGCCGTGGCTAATATGATCGATTCCGAT...\n",
      "|||||||||||    ||| |||  |||   ||||| |||||| |    | |   |||||| | || || ||||||...\n",
      "AAAATGGGGAGG---ATGGAGTTTTTGAAGATGAAGACTGATGATGAAGTCAGCGCTAATTTAATTGAGTCCGAT...\n",
      "****Alignment*****\n",
      "sequence:  gi|764593175|ref|XM_004300526.2| PREDICTED: Fragaria vesca subsp. vesca cold-regulated 413 plasma membrane protein 2 (LOC101313417), mRNA\n",
      "length:  1105\n",
      "e value 1.41878e-83\n",
      "ATGGGGAGAGAAATGAAGTACTTGGCCATGAAAACTGATCAATTGGCCGTGGCTAAT---ATGATCGATTCCGAT...\n",
      "|||||||| |   || | || ||||| ||||||||||| | | | ||   ||| |||    ||||  ||||||||...\n",
      "ATGGGGAGGG---TGGACTATTTGGCTATGAAAACTGACCCAGTTGC---GGCCAATGAGTTGATGAATTCCGAT...\n",
      "****Alignment*****\n",
      "sequence:  gi|1104507484|ref|XM_002274845.4| PREDICTED: Vitis vinifera cold-regulated 413 plasma membrane protein 2 (LOC100267774), mRNA\n",
      "length:  893\n",
      "e value 4.95203e-83\n",
      "TGAACAGAAAATGGGGAGAGAAATGAAGTACTTGGCCATGAAAACTGATCAATTGGCCGTGGCTAATATGATCGA...\n",
      "||||  ||||||||||||    ||| ||||  |||| |||||||||||||    |  |    | ||| ||||  |...\n",
      "TGAAACGAAAATGGGGAGG---ATGGAGTATCTGGCTATGAAAACTGATCCC--GAACCAACCCAAT-TGATTAA...\n",
      "****Alignment*****\n",
      "sequence:  gi|349709091|emb|FQ378501.1| Vitis vinifera clone SS0AEB13YG07\n",
      "length:  834\n",
      "e value 4.95203e-83\n",
      "TGAACAGAAAATGGGGAGAGAAATGAAGTACTTGGCCATGAAAACTGATCAATTGGCCGTGGCTAATATGATCGA...\n",
      "||||  ||||||||||||    ||| ||||  |||| |||||||||||||    |  |    | ||| ||||  |...\n",
      "TGAAACGAAAATGGGGAGG---ATGGAGTATCTGGCTATGAAAACTGATCCC--GAACCAACCCAAT-TGATTAA...\n",
      "****Alignment*****\n",
      "sequence:  gi|1102738967|ref|XM_010256725.2| PREDICTED: Nelumbo nucifera cold-regulated 413 plasma membrane protein 2 (LOC104595819), mRNA\n",
      "length:  901\n",
      "e value 6.0328e-82\n",
      "AAAATGGGGAGAGAAATGAAGTACTTGGCCATGAAAACTGATCAATTGGCCGTGGCTAATATGATCGATTCCGAT...\n",
      "|||||||||||    ||  ||||  ||||||||||||||||||   || |    |   |  ||||   |||||| ...\n",
      "AAAATGGGGAGG---ATTCAGTATCTGGCCATGAAAACTGATCCGATGACAACCG---AGTTGATTAGTTCCGAC...\n",
      "****Alignment*****\n",
      "sequence:  gi|1027112245|ref|XM_008243375.2| PREDICTED: Prunus mume cold-regulated 413 plasma membrane protein 2-like (LOC103340011), mRNA\n",
      "length:  932\n",
      "e value 1.09076e-78\n",
      "TGATCGATTCCGATATCAATGAGCTTAAAATGGCAACAATGAGGCTCATCAATGATGCTAGTATGCTCGGTCATT...\n",
      "||||  |||| || |||||||| || || || ||| | | ||  |||||||| ||||| | || ||| |||   |...\n",
      "TGATAAATTCAGACATCAATGATCTCAAGATTGCAGCCAAGAAACTCATCAAAGATGCCACTAAGCTTGGTGGGT...\n",
      "****Alignment*****\n",
      "sequence:  gi|1000958535|ref|XM_002522339.2| PREDICTED: Ricinus communis cold-regulated 413 plasma membrane protein 2 (LOC8260581), mRNA\n",
      "length:  943\n",
      "e value 3.80711e-78\n",
      "TAATATGATCGATTCCGATATCAATGAGCTTAAAATGGCAACAATGAGGCTCATCAATGATGCTAGTATGCTCGG...\n",
      "|||| ||||  | || ||||||||||| || ||  | ||  | | ||  || ||||||||||||| ||  || ||...\n",
      "TAATTTGATACAGTCTGATATCAATGAACTCAAGGTTGCTGCTAAGAAACTTATCAATGATGCTACTAGACTTGG...\n",
      "****Alignment*****\n",
      "sequence:  gi|848856318|ref|XM_013000712.1| PREDICTED: Erythranthe guttatus cold-regulated 413 plasma membrane protein 2 (LOC105975512), mRNA\n",
      "length:  923\n",
      "e value 3.80711e-78\n",
      "AAAATGGGGAGAGAAATGAAGTACTTGGCCATGAAAACTGATCAATTGGCCGTGGCTAATATGATCGATTCCGAT...\n",
      "||||||||||||   ||  | ||||| || |||||||| ||||||    | | |||     || |||||||||| ...\n",
      "AAAATGGGGAGA---ATTGATTACTTAGCGATGAAAACCGATCAAGAAACGGCGGCGT---TGCTCGATTCCGAC...\n",
      "****Alignment*****\n",
      "sequence:  gi|1039849994|ref|XM_008339966.2| PREDICTED: Malus x domestica cold-regulated 413 plasma membrane protein 2 (LOC103401258), mRNA\n",
      "length:  1055\n",
      "e value 5.65026e-76\n",
      "TGATCGATTCCGATATCAATGAGCTTAAAATGGCAACAATGAGGCTCATCAATGATGCTAGTATGCTCGGTCATT...\n",
      "|||| ||||| |||||||| ||||| || || ||| | | ||| ||||||| |||||| |  |  || |||  ||...\n",
      "TGATAGATTCAGATATCAAAGAGCTCAAGATTGCAGCCAAGAGACTCATCAGTGATGCCACCAARCTTGGTGGTT...\n",
      "****Alignment*****\n",
      "sequence:  gi|1029070544|ref|XM_016840023.1| PREDICTED: Gossypium hirsutum cold-regulated 413 plasma membrane protein 2-like (LOC107911998), mRNA\n",
      "length:  1063\n",
      "e value 5.65026e-76\n",
      "AAATGGGGAGAGAAATGA-AGTACTTGGCCATGAAAACTGATCAATTGGCCGTGGCT-AATA--TGATCGATTCC...\n",
      "||||||||||| |   || |||| ||||| |||||||| ||||      | || ||| || |  |||||  ||||...\n",
      "AAATGGGGAGA-ATGCGACAGTATTTGGCAATGAAAACGGATC------CTGTTGCTCAAGAATTGATCAGTTCC...\n",
      "****Alignment*****\n",
      "sequence:  gi|802641059|ref|XM_012223735.1| PREDICTED: Jatropha curcas cold-regulated 413 plasma membrane protein 2-like (LOC105639621), transcript variant X2, mRNA\n",
      "length:  967\n",
      "e value 1.97213e-75\n",
      "AAAATGGGGAGAGAAATGAAGTACTTGGCCATGAAAACTGATCAATTGGCCGTGGCTAATATGATCGATTCCGAT...\n",
      "||||||||||||   ||| | ||||||   ||||  |||||| |  |    |  | | || ||||| | || |||...\n",
      "AAAATGGGGAGA---ATGGATTACTTGAAAATGAGTACTGATGATGTAAAAGCTGATGATTTGATCCAGTCTGAT...\n",
      "****Alignment*****\n",
      "sequence:  gi|802641054|ref|XM_012223734.1| PREDICTED: Jatropha curcas cold-regulated 413 plasma membrane protein 2-like (LOC105639621), transcript variant X1, mRNA\n",
      "length:  885\n",
      "e value 1.97213e-75\n",
      "AAAATGGGGAGAGAAATGAAGTACTTGGCCATGAAAACTGATCAATTGGCCGTGGCTAATATGATCGATTCCGAT...\n",
      "||||||||||||   ||| | ||||||   ||||  |||||| |  |    |  | | || ||||| | || |||...\n",
      "AAAATGGGGAGA---ATGGATTACTTGAAAATGAGTACTGATGATGTAAAAGCTGATGATTTGATCCAGTCTGAT...\n",
      "****Alignment*****\n",
      "sequence:  gi|1050628454|ref|XM_017781654.1| PREDICTED: Gossypium arboreum cold-regulated 413 plasma membrane protein 2-like (LOC108479195), transcript variant X2, mRNA\n",
      "length:  1087\n",
      "e value 6.88342e-75\n",
      "AAATGGGGAGAGAAATGA-AGTACTTGGCCATGAAAACTGATCAATTGGCCGTGGCT-AATA--TGATCGATTCC...\n",
      "||||||||||| |   || |||| ||||| |||||||| ||||      | || ||| || |  |||||  ||||...\n",
      "AAATGGGGAGA-ATGCGACAGTATTTGGCAATGAAAACGGATC------CTGTTGCTCAAGAATTGATCAGTTCC...\n",
      "****Alignment*****\n",
      "sequence:  gi|1050628452|ref|XM_017781653.1| PREDICTED: Gossypium arboreum cold-regulated 413 plasma membrane protein 2-like (LOC108479195), transcript variant X1, mRNA\n",
      "length:  1087\n",
      "e value 6.88342e-75\n",
      "AAATGGGGAGAGAAATGA-AGTACTTGGCCATGAAAACTGATCAATTGGCCGTGGCT-AATA--TGATCGATTCC...\n",
      "||||||||||| |   || |||| ||||| |||||||| ||||      | || ||| || |  |||||  ||||...\n",
      "AAATGGGGAGA-ATGCGACAGTATTTGGCAATGAAAACGGATC------CTGTTGCTCAAGAATTGATCAGTTCC...\n",
      "****Alignment*****\n",
      "sequence:  gi|823184330|ref|XM_012633708.1| PREDICTED: Gossypium raimondii cold-regulated 413 plasma membrane protein 2-like (LOC105802207), mRNA\n",
      "length:  1068\n",
      "e value 6.88342e-75\n",
      "AAATGGGGAGAGAAATGA-AGTACTTGGCCATGAAAACTGATCAATTGGCCGTGGCT-AATA--TGATCGATTCC...\n",
      "||||||||||| |   || |||| ||||| |||||||| ||||      | || ||| || |  |||||  ||||...\n",
      "AAATGGGGAGA-ATGCGACAGTATTTGGCAATGAAAACGGATC------CTGTTGCTCAAGAATTGATCAGTTCC...\n",
      "****Alignment*****\n",
      "sequence:  gi|1040862414|ref|XM_017386231.1| PREDICTED: Daucus carota subsp. sativus cold-regulated 413 plasma membrane protein 2 (LOC108214299), mRNA\n",
      "length:  901\n",
      "e value 1.02159e-72\n",
      "TTGGCCATGAAAACTGATCAATTGGCCGTGGCTAATATGATCGATTCCGATATCAATGAGCTTAAAATGGCAACA...\n",
      "||||| ||||||||||||||  ||  |  ||  | ||| |   |||| || || |||||||||||||||||  | ...\n",
      "TTGGCGATGAAAACTGATCATGTGAGCCAGGACATTATAA---ATTCAGACATGAATGAGCTTAAAATGGCTGCC...\n",
      "****Alignment*****\n",
      "sequence:  gi|1083882807|ref|XM_009613983.2| PREDICTED: Nicotiana tomentosiformis cold-regulated 413 plasma membrane protein 2-like (LOC104105636), mRNA\n",
      "length:  957\n",
      "e value 1.24455e-71\n",
      "AAAATGGGGAGAGAAATGAAGTACTTGGCCATGAAAACTGATCAATTGGCCGTGGCTAATATGATCGATTCCGAT...\n",
      "||||||||||||   ||| | || ||||| |||||||||||| ||  | |  |  | ||| ||||  ||   |||...\n",
      "AAAATGGGGAGA---ATGGATTATTTGGCAATGAAAACTGATGAA--GACACTAACAAAT-TGATTAATGAAGAT...\n",
      "****Alignment*****\n",
      "sequence:  gi|1025311619|ref|XM_016646515.1| PREDICTED: Nicotiana tabacum cold-regulated 413 plasma membrane protein 2-like (LOC107820253), mRNA\n",
      "length:  1006\n",
      "e value 1.24455e-71\n",
      "AAAATGGGGAGAGAAATGAAGTACTTGGCCATGAAAACTGATCAATTGGCCGTGGCTAATATGATCGATTCCGAT...\n",
      "||||||||||||   ||| | || ||||| |||||||||||| ||  | |  |  | ||| ||||  ||   |||...\n",
      "AAAATGGGGAGA---ATGGATTATTTGGCAATGAAAACTGATGAA--GACACTAACAAAT-TGATTAATGAAGAT...\n",
      "****Alignment*****\n",
      "sequence:  gi|971545995|ref|XM_006344753.2| PREDICTED: Solanum tuberosum cold-regulated 413 plasma membrane protein 2-like (LOC102596410), mRNA\n",
      "length:  1167\n",
      "e value 5.29197e-70\n",
      "AAAATGGGGAGAGAAATGAAGTACTTGGCCATGAAAACTGATCAATTGGCCGTGGCTAATATGATCGATTCCGAT...\n",
      "|||||||||||    ||| | || ||||| ||||| |||||| ||    |  |  | ||| |||| |||   |||...\n",
      "AAAATGGGGAGG---ATGGATTATTTGGCTATGAAGACTGATGAAGATAC--TAACAAAT-TGATTGATGAAGAT...\n",
      "****Alignment*****\n",
      "sequence:  gi|1109221364|ref|XM_019329623.1| PREDICTED: Ipomoea nil cold-regulated 413 plasma membrane protein 2 (LOC109180152), mRNA\n",
      "length:  1030\n",
      "e value 2.2502e-68\n",
      "CGGGTTTGGCACTCATTTCCTCAAATGGCTCGCCTGCCTTGCGGCTATTTACTTGTTGATATTGGATCGAACAAA...\n",
      "||| || ||||||  ||| || |||||| |||||| | |||| || ||||| ||| | |||||||| ||||||||...\n",
      "CGGCTTCGGCACTTCTTTTCTTAAATGGGTCGCCTCCTTTGCCGCCATTTATTTGCTCATATTGGACCGAACAAA...\n",
      "****Alignment*****\n",
      "sequence:  gi|1035395694|ref|XM_008441961.2| PREDICTED: Cucumis melo cold-regulated 413 plasma membrane protein 2-like (LOC103484724), transcript variant X2, mRNA\n",
      "length:  936\n",
      "e value 7.85398e-68\n",
      "TGATCGATTCCGATATCAATGAGCTTAAAATGGCAACAATGAGGCTCATCAATGATGCTAGTATGCTCGGTCATT...\n",
      "||||  |||| |||||| ||||||||||||| ||| | |  ||||| ||  |  |||| |  | |||||||    ...\n",
      "TGATTAATTCTGATATCCATGAGCTTAAAATTGCAGCCACTAGGCTTATTGAACATGCCACCAAGCTCGGTGGAA...\n",
      "****Alignment*****\n",
      "sequence:  gi|1035395693|ref|XM_008441960.2| PREDICTED: Cucumis melo cold-regulated 413 plasma membrane protein 2-like (LOC103484724), transcript variant X1, mRNA\n",
      "length:  1171\n",
      "e value 7.85398e-68\n",
      "TGATCGATTCCGATATCAATGAGCTTAAAATGGCAACAATGAGGCTCATCAATGATGCTAGTATGCTCGGTCATT...\n",
      "||||  |||| |||||| ||||||||||||| ||| | |  ||||| ||  |  |||| |  | |||||||    ...\n",
      "TGATTAATTCTGATATCCATGAGCTTAAAATTGCAGCCACTAGGCTTATTGAACATGCCACCAAGCTCGGTGGAA...\n",
      "****Alignment*****\n",
      "sequence:  gi|1026025263|ref|XM_016703444.1| PREDICTED: Capsicum annuum cold-regulated 413 plasma membrane protein 2 (LOC107858687), mRNA\n",
      "length:  971\n",
      "e value 7.85398e-68\n",
      "AAAATGGGGAGAGAAATGAAGTACTTGGCCATGAAAACTGATCAATTGGCCGTGGCTAATA---TGATCGATTCC...\n",
      "|||||||||||    ||| | || ||||| ||||| |||||| ||      |   |||| |   ||||  ||   ...\n",
      "AAAATGGGGAGG---ATGGATTATTTGGCTATGAAGACTGATGAA------GATACTAACAGATTGATTAATGAA...\n",
      "****Alignment*****\n",
      "sequence:  gi|828326432|ref|XM_004509143.2| PREDICTED: Cicer arietinum cold-regulated 413 plasma membrane protein 2 (LOC101494218), mRNA\n",
      "length:  895\n",
      "e value 2.74131e-67\n",
      "ATGAAGTACTTGGCCATGAAAACTGATCAATTGGCCGTGGCTAATATGATCGATTCCGATATCAATGAGCTTAAA...\n",
      "||||| || ||||| |||||||||||||   | |   |  ||||| | |||||||| ||| | ||||| || || ...\n",
      "ATGAACTATTTGGCTATGAAAACTGATCCTGTTG---TAACTAATTTAATCGATTCGGATTTGAATGAACTCAAG...\n",
      "****Alignment*****\n",
      "sequence:  gi|729300104|ref|XM_010559563.1| PREDICTED: Tarenaya hassleriana cold-regulated 413 plasma membrane protein 2 (LOC104826725), mRNA\n",
      "length:  913\n",
      "e value 9.56811e-67\n",
      "TCCGATATCAATGAGCTTAAAATGGCAACAATGAGGCTCATCAATGATGCTAGTATGCTCGGTCATTACGGGTTT...\n",
      "||||| ||  | ||||| || || ||| ||| ||  ||| |||| ||||||   ||||| |||   |   | |||...\n",
      "TCCGACATGGAGGAGCTCAAGATCGCAGCAAGGAAACTCGTCAACGATGCTGTGATGCTGGGTGGGTTGAGTTTT...\n",
      "****Alignment*****\n",
      "sequence:  gi|922336892|ref|XM_013590982.1| Medicago truncatula cold-regulated 413 plasma membrane-like protein partial mRNA\n",
      "length:  669\n",
      "e value 3.3396e-66\n",
      "AATGAAGTACTTGGCCATGAAAACTGATCAATTGGCCGTGGCTAATATGATCGATTCCGATATCAATGAGCTTAA...\n",
      "|||||| || ||||| |||||||| || |   | |   | |||| | | || ||||| ||| | |||||||||||...\n",
      "AATGAACTATTTGGCTATGAAAACGGACCCCGTTG---TAGCTAGTTTAATTGATTCAGATTTGAATGAGCTTAA...\n",
      "****Alignment*****\n",
      "sequence:  gi|955375440|ref|XM_003548859.3| PREDICTED: Glycine max cold-regulated 413 plasma membrane protein 2-like (LOC100817084), mRNA\n",
      "length:  959\n",
      "e value 2.10752e-62\n",
      "AGTACTTGGCCATGAAAACTGAT-CAATTGGCCGTGGCTAATATGATCGATTCCGATATCAATGAGCTTAAAATG...\n",
      "||||  |||| |||||||| ||| |  |||    | |||| | | ||||||| ||||||  | || || ||  | ...\n",
      "AGTATGTGGCTATGAAAACCGATGCTGTTG----TTGCTAGTTTAATCGATTACGATATAGAAGAACTCAAGGTT...\n",
      "****Alignment*****\n",
      "sequence:  gi|778718146|ref|XM_011659511.1| PREDICTED: Cucumis sativus cold-regulated 413 plasma membrane protein 2-like (LOC101222565), transcript variant X2, mRNA\n",
      "length:  774\n",
      "e value 2.10752e-62\n",
      "TGATCGATTCCGATATCAATGAGCTTAAAATGGCAACAATGAGGCTCATCAATGATGCTAGTATGCTCGGTCATT...\n",
      "||||  |||| |||||| ||||||||||||| ||| | |  |||||  |  |  |||| |  | |||||||    ...\n",
      "TGATTAATTCTGATATCCATGAGCTTAAAATTGCAGCCACTAGGCTTCTTGAACATGCCACCAAGCTCGGTGGAA...\n",
      "****Alignment*****\n",
      "sequence:  gi|778718144|ref|XM_004141977.2| PREDICTED: Cucumis sativus cold-regulated 413 plasma membrane protein 2-like (LOC101222565), transcript variant X1, mRNA\n",
      "length:  958\n",
      "e value 2.10752e-62\n",
      "TGATCGATTCCGATATCAATGAGCTTAAAATGGCAACAATGAGGCTCATCAATGATGCTAGTATGCTCGGTCATT...\n",
      "||||  |||| |||||| ||||||||||||| ||| | |  |||||  |  |  |||| |  | |||||||    ...\n",
      "TGATTAATTCTGATATCCATGAGCTTAAAATTGCAGCCACTAGGCTTCTTGAACATGCCACCAAGCTCGGTGGAA...\n",
      "****Alignment*****\n",
      "sequence:  gi|955306249|ref|XM_003519866.3| PREDICTED: Glycine max cold-regulated 413 plasma membrane protein 2-like (LOC100810337), mRNA\n",
      "length:  1388\n",
      "e value 7.35595e-62\n",
      "TGGCCATGAAAACTGAT-CAATTGGCCGTGGCTAATATGATCGATTCCGATATCAATGAGCTTAAAATGGCAACA...\n",
      "|||| |||||||| ||| |  |||    | |||| | | ||||||||||||||  | ||||| ||  | ||| | ...\n",
      "TGGCTATGAAAACGGATGCTGTTG----TTGCTAGTTTAATCGATTCCGATATACAAGAGCTCAAGGTTGCAGCC...\n"
     ]
    }
   ],
   "source": [
    "E_VALUE_THRESH=0.04\n",
    "for alignment in blast_record.alignments:\n",
    "    for hsp in alignment.hsps:\n",
    "        if hsp.expect < E_VALUE_THRESH:\n",
    "            print(\"****Alignment*****\")\n",
    "            print(\"sequence: \", alignment.title)\n",
    "            print(\"length: \", alignment.length)\n",
    "            print(\"e value\", hsp.expect)\n",
    "            print(hsp.query[0:75]+ \"...\")\n",
    "            print(hsp.match[0:75]+\"...\")\n",
    "            print(hsp.sbjct[0:75]+\"...\")"
   ]
  },
  {
   "cell_type": "code",
   "execution_count": 30,
   "metadata": {
    "collapsed": false,
    "scrolled": true
   },
   "outputs": [
    {
     "name": "stdout",
     "output_type": "stream",
     "text": [
      "gi|731339628|ref|XM_010682658.1| PREDICTED: Beta vulgaris subsp. vulgaris cold-regulated 413 plasma membrane protein 2 (LOC104895996), mRNA ; length:  847 | e value: 1.5135e-108 | score: 448.0| \n",
      "\n",
      "gi|1009144954|ref|XM_016034586.1| PREDICTED: Ziziphus jujuba cold-regulated 413 plasma membrane protein 2-like (LOC107424728), mRNA ; length:  827 | e value: 7.84012e-106 | score: 438.0| \n",
      "\n",
      "gi|1098839281|ref|XM_018970776.1| PREDICTED: Juglans regia cold-regulated 413 plasma membrane protein 2 (LOC108995251), mRNA ; length:  977 | e value: 1.16358e-103 | score: 430.0| \n",
      "\n",
      "gi|985431980|ref|XM_006466626.2| PREDICTED: Citrus sinensis cold-regulated 413 plasma membrane protein 2 (LOC102620025), transcript variant X4, mRNA ; length:  888 | e value: 8.94557e-99 | score: 412.0| \n",
      "\n",
      "gi|985431979|ref|XM_006466624.2| PREDICTED: Citrus sinensis cold-regulated 413 plasma membrane protein 2 (LOC102620025), transcript variant X2, mRNA ; length:  900 | e value: 8.94557e-99 | score: 412.0| \n",
      "\n",
      "gi|985431978|ref|XM_006466623.2| PREDICTED: Citrus sinensis cold-regulated 413 plasma membrane protein 2 (LOC102620025), transcript variant X1, mRNA ; length:  970 | e value: 8.94557e-99 | score: 412.0| \n",
      "\n",
      "gi|568824605|ref|XM_006466625.1| PREDICTED: Citrus sinensis cold-regulated 413 plasma membrane protein 2 (LOC102620025), transcript variant X3, mRNA ; length:  911 | e value: 8.94557e-99 | score: 412.0| \n",
      "\n",
      "gi|567866318|ref|XM_006425719.1| Citrus clementina hypothetical protein (CICLE_v10026511mg) mRNA, complete cds ; length:  1122 | e value: 8.94557e-99 | score: 412.0| \n",
      "\n",
      "gi|567866316|ref|XM_006425718.1| Citrus clementina hypothetical protein (CICLE_v10026511mg) mRNA, complete cds ; length:  1202 | e value: 8.94557e-99 | score: 412.0| \n",
      "\n",
      "gi|567866314|ref|XM_006425717.1| Citrus clementina hypothetical protein (CICLE_v10026511mg) mRNA, complete cds ; length:  971 | e value: 8.94557e-99 | score: 412.0| \n",
      "\n",
      "gi|567866312|ref|XM_006425716.1| Citrus clementina hypothetical protein (CICLE_v10026511mg) mRNA, complete cds ; length:  886 | e value: 8.94557e-99 | score: 412.0| \n",
      "\n",
      "gi|1063463253|ref|XM_007047033.2| PREDICTED: Theobroma cacao cold-regulated 413 plasma membrane protein 2 (LOC18611025), transcript variant X2, mRNA ; length:  1071 | e value: 1.6174e-95 | score: 400.0| \n",
      "\n",
      "gi|1063463252|ref|XM_007047032.2| PREDICTED: Theobroma cacao cold-regulated 413 plasma membrane protein 2 (LOC18611025), transcript variant X1, mRNA ; length:  1065 | e value: 1.6174e-95 | score: 400.0| \n",
      "\n",
      "gi|1098846744|ref|XM_018974650.1| PREDICTED: Juglans regia cold-regulated 413 plasma membrane protein 2-like (LOC108998174), mRNA ; length:  975 | e value: 8.37832e-93 | score: 390.0| \n",
      "\n",
      "gi|1079253150|ref|XM_009343631.2| PREDICTED: Pyrus x bretschneideri cold-regulated 413 plasma membrane protein 2-like (LOC103933927), mRNA ; length:  861 | e value: 1.51484e-89 | score: 378.0| \n",
      "\n",
      "gi|1079253149|ref|XM_009343644.2| PREDICTED: Pyrus x bretschneideri cold-regulated 413 plasma membrane protein 2-like (LOC103933943), mRNA ; length:  876 | e value: 1.51484e-89 | score: 378.0| \n",
      "\n",
      "gi|1079239703|ref|XM_009378191.2| PREDICTED: Pyrus x bretschneideri cold-regulated 413 plasma membrane protein 2 (LOC103965177), mRNA ; length:  885 | e value: 1.51484e-89 | score: 378.0| \n",
      "\n",
      "gi|743838297|ref|XM_011027373.1| PREDICTED: Populus euphratica cold-regulated 413 plasma membrane protein 2 (LOC105126500), transcript variant X2, mRNA ; length:  1132 | e value: 5.2873e-89 | score: 376.0| \n",
      "\n",
      "gi|743838293|ref|XM_011027372.1| PREDICTED: Populus euphratica cold-regulated 413 plasma membrane protein 2 (LOC105126500), transcript variant X1, mRNA ; length:  980 | e value: 5.2873e-89 | score: 376.0| \n",
      "\n",
      "gi|595807351|ref|XM_007202530.1| Prunus persica hypothetical protein (PRUPE_ppa011608mg) mRNA, complete cds ; length:  788 | e value: 3.33665e-85 | score: 362.0| \n",
      "\n",
      "gi|566180892|ref|XM_006380679.1| Populus trichocarpa cold-acclimation family protein (POPTR_0007s12060g) mRNA, complete cds ; length:  1182 | e value: 4.06487e-84 | score: 358.0| \n",
      "\n",
      "gi|764593175|ref|XM_004300526.2| PREDICTED: Fragaria vesca subsp. vesca cold-regulated 413 plasma membrane protein 2 (LOC101313417), mRNA ; length:  1105 | e value: 1.41878e-83 | score: 356.0| \n",
      "\n",
      "gi|1104507484|ref|XM_002274845.4| PREDICTED: Vitis vinifera cold-regulated 413 plasma membrane protein 2 (LOC100267774), mRNA ; length:  893 | e value: 4.95203e-83 | score: 354.0| \n",
      "\n",
      "gi|349709091|emb|FQ378501.1| Vitis vinifera clone SS0AEB13YG07 ; length:  834 | e value: 4.95203e-83 | score: 354.0| \n",
      "\n",
      "gi|1102738967|ref|XM_010256725.2| PREDICTED: Nelumbo nucifera cold-regulated 413 plasma membrane protein 2 (LOC104595819), mRNA ; length:  901 | e value: 6.0328e-82 | score: 350.0| \n",
      "\n",
      "gi|1027112245|ref|XM_008243375.2| PREDICTED: Prunus mume cold-regulated 413 plasma membrane protein 2-like (LOC103340011), mRNA ; length:  932 | e value: 1.09076e-78 | score: 338.0| \n",
      "\n",
      "gi|1000958535|ref|XM_002522339.2| PREDICTED: Ricinus communis cold-regulated 413 plasma membrane protein 2 (LOC8260581), mRNA ; length:  943 | e value: 3.80711e-78 | score: 336.0| \n",
      "\n",
      "gi|848856318|ref|XM_013000712.1| PREDICTED: Erythranthe guttatus cold-regulated 413 plasma membrane protein 2 (LOC105975512), mRNA ; length:  923 | e value: 3.80711e-78 | score: 336.0| \n",
      "\n",
      "gi|1039849994|ref|XM_008339966.2| PREDICTED: Malus x domestica cold-regulated 413 plasma membrane protein 2 (LOC103401258), mRNA ; length:  1055 | e value: 5.65026e-76 | score: 328.0| \n",
      "\n",
      "gi|1029070544|ref|XM_016840023.1| PREDICTED: Gossypium hirsutum cold-regulated 413 plasma membrane protein 2-like (LOC107911998), mRNA ; length:  1063 | e value: 5.65026e-76 | score: 328.0| \n",
      "\n",
      "gi|802641059|ref|XM_012223735.1| PREDICTED: Jatropha curcas cold-regulated 413 plasma membrane protein 2-like (LOC105639621), transcript variant X2, mRNA ; length:  967 | e value: 1.97213e-75 | score: 326.0| \n",
      "\n",
      "gi|802641054|ref|XM_012223734.1| PREDICTED: Jatropha curcas cold-regulated 413 plasma membrane protein 2-like (LOC105639621), transcript variant X1, mRNA ; length:  885 | e value: 1.97213e-75 | score: 326.0| \n",
      "\n",
      "gi|1050628454|ref|XM_017781654.1| PREDICTED: Gossypium arboreum cold-regulated 413 plasma membrane protein 2-like (LOC108479195), transcript variant X2, mRNA ; length:  1087 | e value: 6.88342e-75 | score: 324.0| \n",
      "\n",
      "gi|1050628452|ref|XM_017781653.1| PREDICTED: Gossypium arboreum cold-regulated 413 plasma membrane protein 2-like (LOC108479195), transcript variant X1, mRNA ; length:  1087 | e value: 6.88342e-75 | score: 324.0| \n",
      "\n",
      "gi|823184330|ref|XM_012633708.1| PREDICTED: Gossypium raimondii cold-regulated 413 plasma membrane protein 2-like (LOC105802207), mRNA ; length:  1068 | e value: 6.88342e-75 | score: 324.0| \n",
      "\n",
      "gi|1040862414|ref|XM_017386231.1| PREDICTED: Daucus carota subsp. sativus cold-regulated 413 plasma membrane protein 2 (LOC108214299), mRNA ; length:  901 | e value: 1.02159e-72 | score: 316.0| \n",
      "\n",
      "gi|1083882807|ref|XM_009613983.2| PREDICTED: Nicotiana tomentosiformis cold-regulated 413 plasma membrane protein 2-like (LOC104105636), mRNA ; length:  957 | e value: 1.24455e-71 | score: 312.0| \n",
      "\n",
      "gi|1025311619|ref|XM_016646515.1| PREDICTED: Nicotiana tabacum cold-regulated 413 plasma membrane protein 2-like (LOC107820253), mRNA ; length:  1006 | e value: 1.24455e-71 | score: 312.0| \n",
      "\n",
      "gi|971545995|ref|XM_006344753.2| PREDICTED: Solanum tuberosum cold-regulated 413 plasma membrane protein 2-like (LOC102596410), mRNA ; length:  1167 | e value: 5.29197e-70 | score: 306.0| \n",
      "\n",
      "gi|1109221364|ref|XM_019329623.1| PREDICTED: Ipomoea nil cold-regulated 413 plasma membrane protein 2 (LOC109180152), mRNA ; length:  1030 | e value: 2.2502e-68 | score: 300.0| \n",
      "\n",
      "gi|1035395694|ref|XM_008441961.2| PREDICTED: Cucumis melo cold-regulated 413 plasma membrane protein 2-like (LOC103484724), transcript variant X2, mRNA ; length:  936 | e value: 7.85398e-68 | score: 298.0| \n",
      "\n",
      "gi|1035395693|ref|XM_008441960.2| PREDICTED: Cucumis melo cold-regulated 413 plasma membrane protein 2-like (LOC103484724), transcript variant X1, mRNA ; length:  1171 | e value: 7.85398e-68 | score: 298.0| \n",
      "\n",
      "gi|1026025263|ref|XM_016703444.1| PREDICTED: Capsicum annuum cold-regulated 413 plasma membrane protein 2 (LOC107858687), mRNA ; length:  971 | e value: 7.85398e-68 | score: 298.0| \n",
      "\n",
      "gi|828326432|ref|XM_004509143.2| PREDICTED: Cicer arietinum cold-regulated 413 plasma membrane protein 2 (LOC101494218), mRNA ; length:  895 | e value: 2.74131e-67 | score: 296.0| \n",
      "\n",
      "gi|729300104|ref|XM_010559563.1| PREDICTED: Tarenaya hassleriana cold-regulated 413 plasma membrane protein 2 (LOC104826725), mRNA ; length:  913 | e value: 9.56811e-67 | score: 294.0| \n",
      "\n",
      "gi|922336892|ref|XM_013590982.1| Medicago truncatula cold-regulated 413 plasma membrane-like protein partial mRNA ; length:  669 | e value: 3.3396e-66 | score: 292.0| \n",
      "\n",
      "gi|955375440|ref|XM_003548859.3| PREDICTED: Glycine max cold-regulated 413 plasma membrane protein 2-like (LOC100817084), mRNA ; length:  959 | e value: 2.10752e-62 | score: 278.0| \n",
      "\n",
      "gi|778718146|ref|XM_011659511.1| PREDICTED: Cucumis sativus cold-regulated 413 plasma membrane protein 2-like (LOC101222565), transcript variant X2, mRNA ; length:  774 | e value: 2.10752e-62 | score: 278.0| \n",
      "\n",
      "gi|778718144|ref|XM_004141977.2| PREDICTED: Cucumis sativus cold-regulated 413 plasma membrane protein 2-like (LOC101222565), transcript variant X1, mRNA ; length:  958 | e value: 2.10752e-62 | score: 278.0| \n",
      "\n",
      "gi|955306249|ref|XM_003519866.3| PREDICTED: Glycine max cold-regulated 413 plasma membrane protein 2-like (LOC100810337), mRNA ; length:  1388 | e value: 7.35595e-62 | score: 276.0| \n",
      "\n"
     ]
    }
   ],
   "source": [
    "E_VALUE_THRESH=0.04\n",
    "for alignment in blast_record.alignments:\n",
    "    for hsp in alignment.hsps:\n",
    "        if hsp.expect < E_VALUE_THRESH:\n",
    "            print(alignment.title +\" ; \"+\n",
    "                  \"length: \", str(alignment.length) +\" | \"+\n",
    "                  \"e value:\", str(hsp.expect)+\" | \"+\n",
    "                  \"score:\", str(hsp.score)+\"| \\n\")"
   ]
  },
  {
   "cell_type": "markdown",
   "metadata": {},
   "source": [
    "Ok let's set up a search for something in Nematostella vectensis\n",
    "Nematostella vectensis 45351\n",
    "\n",
    "Hydra vulgaris 12836\n",
    "\n",
    "Acropora digitifera 10529\n",
    "\n",
    "Pleuorbrachia bachei 12376\n",
    "\n",
    "Mnemiopsis leidyi 30164\n",
    "\n",
    "Amphimedon queenslandica 2698\n",
    "\n",
    "Trichoplax adhaerens 354\n",
    "\n",
    "want to search against which database?\n",
    "refseq_rna\n",
    "\n",
    "\n",
    "Myosin VIIA homosapiens\n",
    "AAB03679.1 genbank id\n"
   ]
  },
  {
   "cell_type": "code",
   "execution_count": null,
   "metadata": {
    "collapsed": true
   },
   "outputs": [],
   "source": [
    "from Bio.Blast import NCBIWWW\n",
    "result_handle=NCBIWWW.qblast(\"tblastn\", \"refseq_rna\", \"8332116\")\n",
    "#could have read in FASTA file as SeqRecord and supply seq itself\n",
    "#may want to save local copy of output file first\n",
    "\n",
    "save_file=open(\"my_blast.xml\", \"w\")  #we are opening a file that does not yet exist to write to it\n",
    "save_file.write(result_handle.read())  #writing the result of our blast search to local file\n",
    "save_file.close() #closing it to allow the file to actually write it\n",
    "result_handle.close()\n",
    "\n",
    "result_handle=open('my_blast.xml')\n",
    "\n",
    "from Bio.Blast import NCBIXML\n",
    "blast_record = NCBIXML.read(result_handle)\n",
    "E_VALUE_THRESH=0.04\n",
    "for alignment in blast_record.alignments:\n",
    "    for hsp in alignment.hsps:\n",
    "        if hsp.expect < E_VALUE_THRESH:\n",
    "            print(alignment.title +\" ; \"+\n",
    "                  \"length: \", str(alignment.length) +\" | \"+\n",
    "                  \"e value:\", str(hsp.expect)+\" | \"+\n",
    "                  \"score:\", str(hsp.score)+\"| \\n\")"
   ]
  },
  {
   "cell_type": "markdown",
   "metadata": {},
   "source": [
    "#to specify database can say\n",
    "database=\"refseq_genomic\", entrez_query=\"txid7227[ORGN]\""
   ]
  },
  {
   "cell_type": "code",
   "execution_count": 40,
   "metadata": {
    "collapsed": false
   },
   "outputs": [
    {
     "name": "stdout",
     "output_type": "stream",
     "text": [
      "AAB03679.1\n",
      "MVILQQGDHVWMDLRLGQEFDVPIGAVVKLCDSGQVQVVDDEDNEHWISPQNATHIKPMHPTSVHGVEDMIRLGDLNEAGILRNLLIRYRDHLIYTYTGSILVAVNPYQLLSIYSPEHIRQYTNKKIGEMPPHIFAIADNCYFNMKRNSRDQCCIISGESGAGKTESTKLILQFLAAISGQHSWIEQQVLEATPILEAFGNAKTIRNDNSSRFGKYIDIHFNKRGAIEGAKIEQYLLEKSRVCRQALDERNYHVFYCMLEGMSEDQKKKLGLGQASDYNYLAMGNCITCEGRVDSQEYANIRSAMKVLMFTDTENWEISKLLAAILHLGNLQYEARTFENLDACEVLFSPSLATAASLLEVNPPDLMSCLTSRTLITRGETVSTPLSREQALDVRDAFVKGIYGRLFVWIVDKINAAIYKPPSQDVKNSRRSIGLLDIFGFENFAVNSFEQLCINFANEHLQQFFVRHVFKLEQEEYDLESIDWLHIEFTDNQDALDMIANKPMNIISLIDEESKFPKGTDTTMLHKLNSQHKLNANYIPPKNNHETQFGINHFAGIVYYETQGFLEKNRDTLHGDIIQLVHSSRNKFIKQIFQADVAMGAETRKRSPTLSSQFKRSLELLMRTLGACQPFFVRCIKPNEFKKPMLFDRHLCVRQLRYSGMMETIRIRRAGYPIRYSFVEFVERYRVLLPGVKPAYKQGDLRGTCQRMAEAVLGTHDDWQIGKTKIFLKDHHDMLLEVERDKAITDRVILLQKVIRGFKDRSNFLKLKNAATLIQRHWRGHNCRKNYGLMRLGFLRLQALHRSRKLHQQYRLARQRIIQFQARCRAYLVRKAFRHRLWAVLTVQAYARGMIARRLHQRLRAEYLWRLEAEKMRLAEEEKLRKEMSAKKAKEEAERKHQERLAQLAREDAERELKEKEAARRKKELLEQMERARHEPVNHSDMVDKMFGFLGTSGGLPGQEGQAPSGFEDLERGRREMVEEDLDAALPLPDEDEEDLSEYKFAKFAATYFQGTTTHSYTRRPLKQPLLYHDDEGDQLAALAVWITILRFMGDLPEPKYHTAMSDGSEKIPVMTKIYETLGKKTYKRELQALQGEGEAQLPEGQKKSSVRHKLVHLTLKKKSKLTEEVTKRLHDGESTVQGNSMLEDRPTSNLEKLHFIIGNGILRPALRDEIYCQISKQLTHNPSKSSYARGWILVSLCVGCFAPSEKFVKYLRNFIHGGPPGYAPYCEERLRRTFVNGTRTQPPSWLELQATKSKKPIMLPVTFMDGTTKTLLTDSATTAKELCNALADKISLKDRFGFSLYIALFDKVSSLGSGSDHVMDAISQCEQYAKEQGAQERNAPWRLFFRKEVFTPWHSPSEDNVATNLIYQQVVRGVKFGEYRCEKEDDLAELASQQYFVDYGSEMILERLLNLVPTYIPDREITPLKTLEKWAQLAIAAHKKGIYAQRRTDAQKVKEDVVSYARFKWPLLFSRFYEAYKFSGPSLPKNDVIVAVNWTGVYFVDEQEQVLLELSFPEIMAVSSSRECRVWLSLGCSDLGCAAPHSGWAGLTPAGPCSPCWSCRGAKTTAPSFTLATIKGDEYTFTSSNAEDIRDLVVTFLEGLRKRSKYVVALQDNPNPAGEESGFLSFAKGDLIILDHDTGEQVMNSGWANGINERTKQRGDFPTDCVYVMPTVTMPPREIVALVTMTPDQRQDVVRLLQLRTAEPEVRAKPYTLEEFSYDYFRPPPKHTLSRVMVSKARGKDRLWSHTREPLKQALLKKLLGSEELSQEACLAFIAVLKYMGDYPSKRTRSVNELTDQIFEGPLKAEPLKDEAYVQILKQLTDNHIRYSEERGWELLWLCTGLFPPSNILLPHVQRFLQSRKHCPLAIDCLQRLQKALRNGSRKYPPHLVEVEAIQHKTTQIFHKVYFPDDTDEAFEVESSTKAKDFCQNIATRLLLKSSEGFSLFVKIADKVISVPENDFFFDFVRHLTDWIKKARPIKDGIVPSLTYQVFFMKKLWTTTVPGKDPMADSIFHYYQELPKYLRGYHKCTREEVLQLGALIYRVKFEEDKSYFPSIPKLLRELVPQDLIRQVSPDDWKRSIVAYFNKHAGKSKEEAKLAFLKLIFKWPTFGSAFFEVKQTTEPNFPEILLIAINKYGVSLIDPKTKDILTTHPFTKISNWSSGNTYFHITIGNLVRGSKLLCETSLGYKMDDLLTSYISQMLTAMSKQRGSRSGK\n",
      "2215\n"
     ]
    }
   ],
   "source": [
    "# let's set up the sequence search box\n",
    "# saved Myosin VIIA sequence in\n",
    "# myosinVIIA.fasta\n",
    "\n",
    "from Bio import SeqIO\n",
    "\n",
    "for seq_record in SeqIO.parse(\"myosinVIIA.fasta\", \"fasta\"):\n",
    "    print(seq_record.id)\n",
    "    print(seq_record.seq)\n",
    "    print(len(seq_record))\n",
    "#worked fine\n",
    "MYOVIIA_seq=\"MVILQQGDHVWMDLRLGQEFDVPIGAVVKLCDSGQVQVVDDEDNEHWISPQNATHIKPMHPTSVHGVEDMIRLGDLNEAGILRNLLIRYRDHLIYTYTGSILVAVNPYQLLSIYSPEHIRQYTNKKIGEMPPHIFAIADNCYFNMKRNSRDQCCIISGESGAGKTESTKLILQFLAAISGQHSWIEQQVLEATPILEAFGNAKTIRNDNSSRFGKYIDIHFNKRGAIEGAKIEQYLLEKSRVCRQALDERNYHVFYCMLEGMSEDQKKKLGLGQASDYNYLAMGNCITCEGRVDSQEYANIRSAMKVLMFTDTENWEISKLLAAILHLGNLQYEARTFENLDACEVLFSPSLATAASLLEVNPPDLMSCLTSRTLITRGETVSTPLSREQALDVRDAFVKGIYGRLFVWIVDKINAAIYKPPSQDVKNSRRSIGLLDIFGFENFAVNSFEQLCINFANEHLQQFFVRHVFKLEQEEYDLESIDWLHIEFTDNQDALDMIANKPMNIISLIDEESKFPKGTDTTMLHKLNSQHKLNANYIPPKNNHETQFGINHFAGIVYYETQGFLEKNRDTLHGDIIQLVHSSRNKFIKQIFQADVAMGAETRKRSPTLSSQFKRSLELLMRTLGACQPFFVRCIKPNEFKKPMLFDRHLCVRQLRYSGMMETIRIRRAGYPIRYSFVEFVERYRVLLPGVKPAYKQGDLRGTCQRMAEAVLGTHDDWQIGKTKIFLKDHHDMLLEVERDKAITDRVILLQKVIRGFKDRSNFLKLKNAATLIQRHWRGHNCRKNYGLMRLGFLRLQALHRSRKLHQQYRLARQRIIQFQARCRAYLVRKAFRHRLWAVLTVQAYARGMIARRLHQRLRAEYLWRLEAEKMRLAEEEKLRKEMSAKKAKEEAERKHQERLAQLAREDAERELKEKEAARRKKELLEQMERARHEPVNHSDMVDKMFGFLGTSGGLPGQEGQAPSGFEDLERGRREMVEEDLDAALPLPDEDEEDLSEYKFAKFAATYFQGTTTHSYTRRPLKQPLLYHDDEGDQLAALAVWITILRFMGDLPEPKYHTAMSDGSEKIPVMTKIYETLGKKTYKRELQALQGEGEAQLPEGQKKSSVRHKLVHLTLKKKSKLTEEVTKRLHDGESTVQGNSMLEDRPTSNLEKLHFIIGNGILRPALRDEIYCQISKQLTHNPSKSSYARGWILVSLCVGCFAPSEKFVKYLRNFIHGGPPGYAPYCEERLRRTFVNGTRTQPPSWLELQATKSKKPIMLPVTFMDGTTKTLLTDSATTAKELCNALADKISLKDRFGFSLYIALFDKVSSLGSGSDHVMDAISQCEQYAKEQGAQERNAPWRLFFRKEVFTPWHSPSEDNVATNLIYQQVVRGVKFGEYRCEKEDDLAELASQQYFVDYGSEMILERLLNLVPTYIPDREITPLKTLEKWAQLAIAAHKKGIYAQRRTDAQKVKEDVVSYARFKWPLLFSRFYEAYKFSGPSLPKNDVIVAVNWTGVYFVDEQEQVLLELSFPEIMAVSSSRECRVWLSLGCSDLGCAAPHSGWAGLTPAGPCSPCWSCRGAKTTAPSFTLATIKGDEYTFTSSNAEDIRDLVVTFLEGLRKRSKYVVALQDNPNPAGEESGFLSFAKGDLIILDHDTGEQVMNSGWANGINERTKQRGDFPTDCVYVMPTVTMPPREIVALVTMTPDQRQDVVRLLQLRTAEPEVRAKPYTLEEFSYDYFRPPPKHTLSRVMVSKARGKDRLWSHTREPLKQALLKKLLGSEELSQEACLAFIAVLKYMGDYPSKRTRSVNELTDQIFEGPLKAEPLKDEAYVQILKQLTDNHIRYSEERGWELLWLCTGLFPPSNILLPHVQRFLQSRKHCPLAIDCLQRLQKALRNGSRKYPPHLVEVEAIQHKTTQIFHKVYFPDDTDEAFEVESSTKAKDFCQNIATRLLLKSSEGFSLFVKIADKVISVPENDFFFDFVRHLTDWIKKARPIKDGIVPSLTYQVFFMKKLWTTTVPGKDPMADSIFHYYQELPKYLRGYHKCTREEVLQLGALIYRVKFEEDKSYFPSIPKLLRELVPQDLIRQVSPDDWKRSIVAYFNKHAGKSKEEAKLAFLKLIFKWPTFGSAFFEVKQTTEPNFPEILLIAINKYGVSLIDPKTKDILTTHPFTKISNWSSGNTYFHITIGNLVRGSKLLCETSLGYKMDDLLTSYISQMLTAMSKQRGSRSGK\"\n"
   ]
  },
  {
   "cell_type": "code",
   "execution_count": 39,
   "metadata": {
    "collapsed": false
   },
   "outputs": [
    {
     "ename": "AttributeError",
     "evalue": "'generator' object has no attribute 'seq'",
     "output_type": "error",
     "traceback": [
      "\u001b[0;31m---------------------------------------------------------------------------\u001b[0m",
      "\u001b[0;31mAttributeError\u001b[0m                            Traceback (most recent call last)",
      "\u001b[0;32m<ipython-input-39-9155acda8b04>\u001b[0m in \u001b[0;36m<module>\u001b[0;34m()\u001b[0m\n\u001b[1;32m      5\u001b[0m \u001b[0;31m#    MyoVII=str(seq_record.seq)\u001b[0m\u001b[0;34m\u001b[0m\u001b[0;34m\u001b[0m\u001b[0m\n\u001b[1;32m      6\u001b[0m \u001b[0;34m\u001b[0m\u001b[0m\n\u001b[0;32m----> 7\u001b[0;31m \u001b[0mMyoVIIA\u001b[0m\u001b[0;34m=\u001b[0m\u001b[0mstr\u001b[0m\u001b[0;34m(\u001b[0m\u001b[0mseq_record\u001b[0m\u001b[0;34m.\u001b[0m\u001b[0mseq\u001b[0m\u001b[0;34m)\u001b[0m\u001b[0;34m\u001b[0m\u001b[0m\n\u001b[0m",
      "\u001b[0;31mAttributeError\u001b[0m: 'generator' object has no attribute 'seq'"
     ]
    }
   ],
   "source": [
    "from Bio import SeqIO\n",
    "from Bio.Seq import Seq\n",
    "seq_record=SeqIO.parse(\"myosinVIIA.fasta\", \"fasta\")\n",
    "#for seq_record in SeqIO.parse(\"myosinVIIA.fasta\", \"fasta\"):\n",
    "#    MyoVII=str(seq_record.seq)\n",
    "\n",
    "MyoVIIA=str(seq_record.seq)"
   ]
  },
  {
   "cell_type": "code",
   "execution_count": 1,
   "metadata": {
    "collapsed": false
   },
   "outputs": [
    {
     "ename": "NameError",
     "evalue": "name 'save_file' is not defined",
     "output_type": "error",
     "traceback": [
      "\u001b[0;31m---------------------------------------------------------------------------\u001b[0m",
      "\u001b[0;31mNameError\u001b[0m                                 Traceback (most recent call last)",
      "\u001b[0;32m<ipython-input-1-2424e4760bb2>\u001b[0m in \u001b[0;36m<module>\u001b[0;34m()\u001b[0m\n\u001b[1;32m      3\u001b[0m \u001b[0mtest_handle\u001b[0m\u001b[0;34m=\u001b[0m\u001b[0mNCBIWWW\u001b[0m\u001b[0;34m.\u001b[0m\u001b[0mqblast\u001b[0m\u001b[0;34m(\u001b[0m\u001b[0mprogram\u001b[0m\u001b[0;34m=\u001b[0m\u001b[0;34m\"tblastn\"\u001b[0m\u001b[0;34m,\u001b[0m \u001b[0msequence\u001b[0m\u001b[0;34m=\u001b[0m\u001b[0mMYOVIIA_seq\u001b[0m\u001b[0;34m,\u001b[0m \u001b[0mdatabase\u001b[0m\u001b[0;34m=\u001b[0m\u001b[0;34m\"refseq_rna\"\u001b[0m\u001b[0;34m,\u001b[0m \u001b[0mentrez_query\u001b[0m\u001b[0;34m=\u001b[0m\u001b[0;34m\"txid45351[ORGN]\"\u001b[0m\u001b[0;34m)\u001b[0m\u001b[0;34m\u001b[0m\u001b[0m\n\u001b[1;32m      4\u001b[0m \u001b[0msaved_file\u001b[0m\u001b[0;34m=\u001b[0m\u001b[0mopen\u001b[0m\u001b[0;34m(\u001b[0m\u001b[0;34m\"MYO_VII_BLASTres.xml\"\u001b[0m\u001b[0;34m,\u001b[0m \u001b[0;34m\"w\"\u001b[0m\u001b[0;34m)\u001b[0m\u001b[0;34m\u001b[0m\u001b[0m\n\u001b[0;32m----> 5\u001b[0;31m \u001b[0msave_file\u001b[0m\u001b[0;34m.\u001b[0m\u001b[0mwrite\u001b[0m\u001b[0;34m(\u001b[0m\u001b[0mresult_handle\u001b[0m\u001b[0;34m.\u001b[0m\u001b[0mread\u001b[0m\u001b[0;34m(\u001b[0m\u001b[0;34m)\u001b[0m\u001b[0;34m)\u001b[0m  \u001b[0;31m#writing the result of our blast search to local file\u001b[0m\u001b[0;34m\u001b[0m\u001b[0m\n\u001b[0m\u001b[1;32m      6\u001b[0m \u001b[0msave_file\u001b[0m\u001b[0;34m.\u001b[0m\u001b[0mclose\u001b[0m\u001b[0;34m(\u001b[0m\u001b[0;34m)\u001b[0m \u001b[0;31m#closing it to allow the file to actually write it\u001b[0m\u001b[0;34m\u001b[0m\u001b[0m\n\u001b[1;32m      7\u001b[0m \u001b[0mresult_handle\u001b[0m\u001b[0;34m.\u001b[0m\u001b[0mclose\u001b[0m\u001b[0;34m(\u001b[0m\u001b[0;34m)\u001b[0m\u001b[0;34m\u001b[0m\u001b[0m\n",
      "\u001b[0;31mNameError\u001b[0m: name 'save_file' is not defined"
     ]
    }
   ],
   "source": [
    "from Bio.Blast import NCBIWWW\n",
    "MYOVIIA_seq=\"MVILQQGDHVWMDLRLGQEFDVPIGAVVKLCDSGQVQVVDDEDNEHWISPQNATHIKPMHPTSVHGVEDMIRLGDLNEAGILRNLLIRYRDHLIYTYTGSILVAVNPYQLLSIYSPEHIRQYTNKKIGEMPPHIFAIADNCYFNMKRNSRDQCCIISGESGAGKTESTKLILQFLAAISGQHSWIEQQVLEATPILEAFGNAKTIRNDNSSRFGKYIDIHFNKRGAIEGAKIEQYLLEKSRVCRQALDERNYHVFYCMLEGMSEDQKKKLGLGQASDYNYLAMGNCITCEGRVDSQEYANIRSAMKVLMFTDTENWEISKLLAAILHLGNLQYEARTFENLDACEVLFSPSLATAASLLEVNPPDLMSCLTSRTLITRGETVSTPLSREQALDVRDAFVKGIYGRLFVWIVDKINAAIYKPPSQDVKNSRRSIGLLDIFGFENFAVNSFEQLCINFANEHLQQFFVRHVFKLEQEEYDLESIDWLHIEFTDNQDALDMIANKPMNIISLIDEESKFPKGTDTTMLHKLNSQHKLNANYIPPKNNHETQFGINHFAGIVYYETQGFLEKNRDTLHGDIIQLVHSSRNKFIKQIFQADVAMGAETRKRSPTLSSQFKRSLELLMRTLGACQPFFVRCIKPNEFKKPMLFDRHLCVRQLRYSGMMETIRIRRAGYPIRYSFVEFVERYRVLLPGVKPAYKQGDLRGTCQRMAEAVLGTHDDWQIGKTKIFLKDHHDMLLEVERDKAITDRVILLQKVIRGFKDRSNFLKLKNAATLIQRHWRGHNCRKNYGLMRLGFLRLQALHRSRKLHQQYRLARQRIIQFQARCRAYLVRKAFRHRLWAVLTVQAYARGMIARRLHQRLRAEYLWRLEAEKMRLAEEEKLRKEMSAKKAKEEAERKHQERLAQLAREDAERELKEKEAARRKKELLEQMERARHEPVNHSDMVDKMFGFLGTSGGLPGQEGQAPSGFEDLERGRREMVEEDLDAALPLPDEDEEDLSEYKFAKFAATYFQGTTTHSYTRRPLKQPLLYHDDEGDQLAALAVWITILRFMGDLPEPKYHTAMSDGSEKIPVMTKIYETLGKKTYKRELQALQGEGEAQLPEGQKKSSVRHKLVHLTLKKKSKLTEEVTKRLHDGESTVQGNSMLEDRPTSNLEKLHFIIGNGILRPALRDEIYCQISKQLTHNPSKSSYARGWILVSLCVGCFAPSEKFVKYLRNFIHGGPPGYAPYCEERLRRTFVNGTRTQPPSWLELQATKSKKPIMLPVTFMDGTTKTLLTDSATTAKELCNALADKISLKDRFGFSLYIALFDKVSSLGSGSDHVMDAISQCEQYAKEQGAQERNAPWRLFFRKEVFTPWHSPSEDNVATNLIYQQVVRGVKFGEYRCEKEDDLAELASQQYFVDYGSEMILERLLNLVPTYIPDREITPLKTLEKWAQLAIAAHKKGIYAQRRTDAQKVKEDVVSYARFKWPLLFSRFYEAYKFSGPSLPKNDVIVAVNWTGVYFVDEQEQVLLELSFPEIMAVSSSRECRVWLSLGCSDLGCAAPHSGWAGLTPAGPCSPCWSCRGAKTTAPSFTLATIKGDEYTFTSSNAEDIRDLVVTFLEGLRKRSKYVVALQDNPNPAGEESGFLSFAKGDLIILDHDTGEQVMNSGWANGINERTKQRGDFPTDCVYVMPTVTMPPREIVALVTMTPDQRQDVVRLLQLRTAEPEVRAKPYTLEEFSYDYFRPPPKHTLSRVMVSKARGKDRLWSHTREPLKQALLKKLLGSEELSQEACLAFIAVLKYMGDYPSKRTRSVNELTDQIFEGPLKAEPLKDEAYVQILKQLTDNHIRYSEERGWELLWLCTGLFPPSNILLPHVQRFLQSRKHCPLAIDCLQRLQKALRNGSRKYPPHLVEVEAIQHKTTQIFHKVYFPDDTDEAFEVESSTKAKDFCQNIATRLLLKSSEGFSLFVKIADKVISVPENDFFFDFVRHLTDWIKKARPIKDGIVPSLTYQVFFMKKLWTTTVPGKDPMADSIFHYYQELPKYLRGYHKCTREEVLQLGALIYRVKFEEDKSYFPSIPKLLRELVPQDLIRQVSPDDWKRSIVAYFNKHAGKSKEEAKLAFLKLIFKWPTFGSAFFEVKQTTEPNFPEILLIAINKYGVSLIDPKTKDILTTHPFTKISNWSSGNTYFHITIGNLVRGSKLLCETSLGYKMDDLLTSYISQMLTAMSKQRGSRSGK\"\n",
    "test_handle=NCBIWWW.qblast(program=\"tblastn\", sequence=MYOVIIA_seq, database=\"refseq_rna\", entrez_query=\"txid45351[ORGN]\")\n",
    "saved_file=open(\"MYO_VII_BLASTres.xml\", \"w\")\n",
    "saved_file.write(test_handle.read())  #writing the result of our blast search to local file\n",
    "saved_file.close() #closing it to allow the file to actually write it\n",
    "rtest_handle.close()"
   ]
  },
  {
   "cell_type": "code",
   "execution_count": 4,
   "metadata": {
    "collapsed": false
   },
   "outputs": [
    {
     "ename": "ValueError",
     "evalue": "I/O operation on closed file.",
     "output_type": "error",
     "traceback": [
      "\u001b[0;31m---------------------------------------------------------------------------\u001b[0m",
      "\u001b[0;31mValueError\u001b[0m                                Traceback (most recent call last)",
      "\u001b[0;32m<ipython-input-4-2a78a28e1234>\u001b[0m in \u001b[0;36m<module>\u001b[0;34m()\u001b[0m\n\u001b[0;32m----> 1\u001b[0;31m \u001b[0msaved_file\u001b[0m\u001b[0;34m.\u001b[0m\u001b[0mwrite\u001b[0m\u001b[0;34m(\u001b[0m\u001b[0mtest_handle\u001b[0m\u001b[0;34m.\u001b[0m\u001b[0mread\u001b[0m\u001b[0;34m(\u001b[0m\u001b[0;34m)\u001b[0m\u001b[0;34m)\u001b[0m  \u001b[0;31m#writing the result of our blast search to local file\u001b[0m\u001b[0;34m\u001b[0m\u001b[0m\n\u001b[0m\u001b[1;32m      2\u001b[0m \u001b[0msaved_file\u001b[0m\u001b[0;34m.\u001b[0m\u001b[0mclose\u001b[0m\u001b[0;34m(\u001b[0m\u001b[0;34m)\u001b[0m \u001b[0;31m#closing it to allow the file to actually write it\u001b[0m\u001b[0;34m\u001b[0m\u001b[0m\n\u001b[1;32m      3\u001b[0m \u001b[0mtest_handle\u001b[0m\u001b[0;34m.\u001b[0m\u001b[0mclose\u001b[0m\u001b[0;34m(\u001b[0m\u001b[0;34m)\u001b[0m\u001b[0;34m\u001b[0m\u001b[0m\n",
      "\u001b[0;31mValueError\u001b[0m: I/O operation on closed file."
     ]
    }
   ],
   "source": [
    "saved_file.write(test_handle.read())  #writing the result of our blast search to local file\n",
    "saved_file.close() #closing it to allow the file to actually write it\n",
    "test_handle.close()"
   ]
  },
  {
   "cell_type": "code",
   "execution_count": 11,
   "metadata": {
    "collapsed": false
   },
   "outputs": [],
   "source": [
    "from Bio.Blast import NCBIXML\n",
    "\n",
    "blast_record = NCBIXML.read(open(\"MYO_VII_BLASTres.xml\"))\n",
    "MYO_CSV=open(\"MYO_VII_BLAST_Nematostella_Summary.csv\", \"w\")\n",
    "for alignment in blast_record.alignments:\n",
    "    for hsp in alignment.hsps:\n",
    "        length=str(alignment.length)\n",
    "        title=alignment.title\n",
    "        evalue=str(hsp.expect)\n",
    "        score=str(hsp.score)\n",
    "        output=(title+\"|\" + length + \"|\" + score + \"|\" + evalue + \"\\n\")\n",
    "        MYO_CSV.write(output)\n",
    "MYO_CSV.close()"
   ]
  },
  {
   "cell_type": "code",
   "execution_count": null,
   "metadata": {
    "collapsed": true
   },
   "outputs": [],
   "source": []
  }
 ],
 "metadata": {
  "anaconda-cloud": {},
  "kernelspec": {
   "display_name": "Python [default]",
   "language": "python",
   "name": "python3"
  },
  "language_info": {
   "codemirror_mode": {
    "name": "ipython",
    "version": 3
   },
   "file_extension": ".py",
   "mimetype": "text/x-python",
   "name": "python",
   "nbconvert_exporter": "python",
   "pygments_lexer": "ipython3",
   "version": "3.5.2"
  }
 },
 "nbformat": 4,
 "nbformat_minor": 2
}
