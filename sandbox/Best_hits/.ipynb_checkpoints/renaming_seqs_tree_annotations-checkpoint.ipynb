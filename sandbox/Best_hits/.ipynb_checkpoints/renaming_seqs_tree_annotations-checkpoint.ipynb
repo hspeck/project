{
 "cells": [
  {
   "cell_type": "code",
   "execution_count": 62,
   "metadata": {
    "collapsed": false
   },
   "outputs": [],
   "source": [
    "def annotations_for_treebuilding(file_input):\n",
    "    with open(file_input, \"r\") as input_doc:\n",
    "        summary_file = input_doc.readlines()\n",
    "    #opens the file given to the program\n",
    "    \n",
    "    annotations_name_component = file_input.split(\"_\")[1:-3]\n",
    "    annotations_file_name = str(\"annotations_tree_\" \n",
    "                           + \"_\".join(annotations_name_component)\n",
    "                           +\".txt\")\n",
    "    annotations_file = open(annotations_file_name, \"w\")\n",
    "    #opens the file to write that we tell it to\n",
    "        \n",
    "\n",
    "    \n",
    "    taxa_Dict={\"Amp_que\": \"Porifera\",\n",
    "               \"Sal_ros\": \"Choanoflagellate\",\n",
    "               \"Cae_ele\": \"Protostome\",\n",
    "               \"Dro_mel\": \"Protostome\",\n",
    "               \"Lin_ana\": \"Protostome\",\n",
    "               \"Cap_owc\": \"Holozoa\", \n",
    "               \"Hyd_vul\": \"Cnidaria\",\n",
    "               \"Nem_vec\": \"Cnidaria\",\n",
    "               \"Oct_bim\": \"Protostome\",\n",
    "               \"Tri_adh\": \"Placozoa\",\n",
    "               \"Hom_sap\": \"Deuterostome\",\n",
    "               \"Str_pur\": \"Deuterostome\"}    \n",
    "        #defines a dictionary we can use to classify the organisms into broader clades\n",
    "\n",
    "\n",
    "    for line in summary_file:\n",
    "        #can't split it apart before hand because there are commas included in some of the gene names\n",
    "\n",
    "        gene_ID = line.split(\",\")[1] #pulls out the gene ID number\n",
    "\n",
    "        formated_org = line.split('[')[1].split(\"]\")[0] #gets the genus and species of the organism\n",
    "        genus = formated_org.split(\" \")[0] #takes only the genus\n",
    "\n",
    "\n",
    "        genus_code = formated_org.split(\" \")[0][:3] #takes only first 3 letters of genus\n",
    "        species_code = formated_org.split(\" \")[1][:3] #takes only the first 3 letters of species\n",
    "\n",
    "        final_org_name = genus_code + \"_\" + species_code #gives us an abbreviated species\n",
    "\n",
    "        taxa_group = taxa_Dict[final_org_name]\n",
    "        #assigns the species to a broad taxonomic division \n",
    "\n",
    "        gene_annotation_slice = line.split(\"[\")[0].split(\",\")[2:]\n",
    "        if \"PREDICTED:\" in gene_annotation_slice:\n",
    "            if \"-like\" in gene_annotation_slice:\n",
    "                gene_annotation = gene_annotation_slice[0].replace(\" \", \"\")\n",
    "            else:\n",
    "                gene_annotation = gene_annotation_slice[1:3]\n",
    "        elif \"Drosophila\" in gene_annotation_slice:\n",
    "            gene_annotation = gene_annotation_slice[1:3]\n",
    "        else:\n",
    "            gene_annotation = gene_annotation_slice[0:1]\n",
    "        gene_annotation_final = \"_\".join(gene_annotation).replace(\",\", \"\")\n",
    "        #cuts down the gene annoatation names to make them more manageable\n",
    "        #problematic as the gene names do not conform to a single format that makes them easily parsable\n",
    "        #have to switch between formats\n",
    "\n",
    "        combined_name = '\"' +final_org_name + \" \" + gene_annotation_final + '\"'\n",
    "        genus_and_gene = '\"' +genus + \" \" + gene_annotation_final + '\"'\n",
    "\n",
    "        annotations_file.write(gene_ID+\",\"+\n",
    "                    final_org_name+\",\"+\n",
    "                    gene_annotation_final+\",\"+ \n",
    "                    taxa_group+ \",\"+ \n",
    "                    combined_name+ \",\" +\n",
    "                    genus_and_gene+'\\n')\n",
    "        #Writes it to the file\n",
    "    \n",
    "    annotations_file.close()"
   ]
  },
  {
   "cell_type": "code",
   "execution_count": 63,
   "metadata": {
    "collapsed": false,
    "scrolled": true
   },
   "outputs": [],
   "source": [
    "annotation_files =[\"gene_cadherin_23_best_hit_reduced_taxa_summary.csv\",\n",
    "                   \"gene_CIB2_best_hit_reduced_taxa_summary.csv\",\n",
    "                   \"gene_Clarin_1_best_hit_reduced_taxa_summary.csv\",\n",
    "                   \"gene_GPR98_best_hit_reduced_taxa_summary.csv\",\n",
    "                   \"gene_harmonin_best_hit_reduced_taxa_summary.csv\",\n",
    "                   \"gene_myosin_VIIA_best_hit_reduced_taxa_summary.csv\",\n",
    "                   \"gene_PDZD7_best_hit_reduced_taxa_summary.csv\",\n",
    "                   \"gene_protocadherin_15_best_hit_reduced_taxa_summary.csv\",\n",
    "                   \"gene_USH1G_best_hit_reduced_taxa_summary.csv\",\n",
    "                   \"gene_USH2A_best_hit_reduced_taxa_summary.csv\",\n",
    "                   \"gene_WHRN_best_hit_reduced_taxa_summary.csv\"]"
   ]
  },
  {
   "cell_type": "code",
   "execution_count": 64,
   "metadata": {
    "collapsed": false
   },
   "outputs": [],
   "source": [
    "for file in annotation_files:\n",
    "    annotations_for_treebuilding(file)"
   ]
  },
  {
   "cell_type": "markdown",
   "metadata": {},
   "source": [
    "# now to do it for the two remaining larger tree files\n",
    "Whirlin Family and SANS"
   ]
  },
  {
   "cell_type": "markdown",
   "metadata": {},
   "source": [
    "annotations done elsewhere\n",
    "\n",
    "\n"
   ]
  },
  {
   "cell_type": "markdown",
   "metadata": {},
   "source": [
    "# Actually may want to chop out the whole \"switching around name function\" of the gene itself\n",
    "may just be better to have the whole annotation, not make it too specific"
   ]
  },
  {
   "cell_type": "code",
   "execution_count": null,
   "metadata": {
    "collapsed": true
   },
   "outputs": [],
   "source": []
  }
 ],
 "metadata": {
  "kernelspec": {
   "display_name": "Python [default]",
   "language": "python",
   "name": "python3"
  },
  "language_info": {
   "codemirror_mode": {
    "name": "ipython",
    "version": 3
   },
   "file_extension": ".py",
   "mimetype": "text/x-python",
   "name": "python",
   "nbconvert_exporter": "python",
   "pygments_lexer": "ipython3",
   "version": "3.5.2"
  }
 },
 "nbformat": 4,
 "nbformat_minor": 2
}
