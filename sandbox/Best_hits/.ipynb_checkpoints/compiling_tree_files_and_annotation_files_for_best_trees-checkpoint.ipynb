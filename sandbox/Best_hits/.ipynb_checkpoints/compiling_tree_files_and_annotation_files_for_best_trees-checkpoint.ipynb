{
 "cells": [
  {
   "cell_type": "code",
   "execution_count": 27,
   "metadata": {
    "collapsed": false,
    "scrolled": true
   },
   "outputs": [],
   "source": [
    "output_file = open(\"tree_building_best_hits_index_of_files\", \"w\")\n",
    "\n",
    "\n",
    "annotation_files = open(\"tree_list_annotation_files.txt\").readlines()\n",
    "tree_files = open(\"tree_list_raxml_files.txt\").readlines()\n",
    "for file in range(0, len(annotation_files)):\n",
    "    \n",
    "    \n",
    "    tree_name_intermediary = annotation_files[file].split(\"_\")[2:-2]\n",
    "    #grabs the relevant part of the file name so we can name the tree\n",
    "    \n",
    "    final_tree_name= str(\" \".join(tree_name_intermediary) + \" best gene hit tree\")\n",
    "    #creates a suitable name for the resulting tree\n",
    "    \n",
    "    #need to add the rest of the path to the front of the tree file\n",
    "\n",
    "    figure_file_name_pdf = str(\"_\".join(tree_name_intermediary) + \"_best_gene_hit_tree.pdf\")\n",
    "    #make a pdf file name\n",
    "    figure_file_name_jpg = str(\"_\".join(tree_name_intermediary) + \"_best_gene_hit_tree.jpg\")\n",
    "    # make a png file name\n",
    "    \n",
    "    output_file.write(annotation_files[file].strip(\"\\n\")+ \",\" +\n",
    "                      tree_files[file].strip(\"\\n\") + \",\" +\n",
    "                      final_tree_name + \",\" +\n",
    "                      figure_file_name_pdf + \",\" +\n",
    "                      figure_file_name_jpg + \"\\n\")\n",
    "output_file.close()"
   ]
  },
  {
   "cell_type": "code",
   "execution_count": null,
   "metadata": {
    "collapsed": true
   },
   "outputs": [],
   "source": []
  }
 ],
 "metadata": {
  "anaconda-cloud": {},
  "kernelspec": {
   "display_name": "Python [default]",
   "language": "python",
   "name": "python3"
  },
  "language_info": {
   "codemirror_mode": {
    "name": "ipython",
    "version": 3
   },
   "file_extension": ".py",
   "mimetype": "text/x-python",
   "name": "python",
   "nbconvert_exporter": "python",
   "pygments_lexer": "ipython3",
   "version": "3.5.2"
  }
 },
 "nbformat": 4,
 "nbformat_minor": 2
}
