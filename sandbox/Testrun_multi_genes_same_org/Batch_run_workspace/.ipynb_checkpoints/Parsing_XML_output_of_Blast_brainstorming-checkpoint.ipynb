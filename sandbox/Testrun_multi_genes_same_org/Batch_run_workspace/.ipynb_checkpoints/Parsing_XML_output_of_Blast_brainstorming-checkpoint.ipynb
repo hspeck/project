{
 "cells": [
  {
   "cell_type": "code",
   "execution_count": 69,
   "metadata": {
    "collapsed": true
   },
   "outputs": [],
   "source": [
    "result_handle=open(\"USH_Search_txid45351[ORGN].xml\")"
   ]
  },
  {
   "cell_type": "code",
   "execution_count": 70,
   "metadata": {
    "collapsed": false
   },
   "outputs": [],
   "source": [
    "from Bio.Blast import NCBIXML\n",
    "from Bio.SeqRecord import SeqRecord\n",
    "blast_records=NCBIXML.parse(result_handle)\n",
    "#need to use parse if it has multiple records in it"
   ]
  },
  {
   "cell_type": "markdown",
   "metadata": {},
   "source": [
    "for blast_record in blast_records:\n",
    "    print(\"\\n\"+ blast_record.query.split(\"|\")[4]+ \"\\n\")\n",
    "    for alignment in blast_record.alignments[0:5]:\n",
    "        for hsp in alignment.hsps:\n",
    "            print(\"seq: \"+alignment.title + \"; \",\n",
    "                  \"e-value: \"+str(hsp.expect)+ \";\"\n",
    "                  \"score: \"+str(hsp.score))\n",
    "        \n",
    "\n"
   ]
  },
  {
   "cell_type": "code",
   "execution_count": 263,
   "metadata": {
    "collapsed": true
   },
   "outputs": [],
   "source": [
    "list_of_blast_xml = [\"USH_Search_txid45351[ORGN].xml\", \"USH_Search_txid400682[ORGN].xml\"]"
   ]
  },
  {
   "cell_type": "code",
   "execution_count": 281,
   "metadata": {
    "collapsed": false
   },
   "outputs": [],
   "source": [
    "def parse_and_summarize(blast_output_xml):\n",
    "    #  goes through the output of a BLAST xml file and finds the relevant stats to summarize the search\n",
    "    from Bio.Blast import NCBIXML\n",
    "    from Bio.SeqRecord import SeqRecord\n",
    "    #import the required libraries\n",
    "    \n",
    "    for file_name in blast_output_xml:\n",
    "        result_handle = open(str(file_name)) #sets the result handle\n",
    "        blast_records = NCBIXML.parse(result_handle)\n",
    "        #need to use parse if it has multiple records in it\n",
    "        for blast_record in blast_records:\n",
    "            org_desig=file_name.split(\"_\")[2].split(\"[\")[0].replace(\" \", \"_\")\n",
    "            #properly formats the taxa id so we can use it to name things\n",
    "            \n",
    "            homo_sapiens = \"[Homo sapiens]\"\n",
    "            blast_query=blast_record.query\n",
    "            if homo_sapiens in blast_query:\n",
    "                gene_name=blast_record.query.split(\"|\")[4].split(\"[\")[0].replace(\" \", \"_\").replace(\"_protein\", \"\").replace(\"_isoform_b3\", \"\")\n",
    "                formated_gene_name = gene_name[1:-1]\n",
    "            else:\n",
    "                formated_gene_name=blast_query.split(\"|\")[4].split(\"_\")[0]\n",
    "            #this conditional properly formats the gene name so we can use it to name things\n",
    "                #Basically there are 2 formats of sequence names I used to do the search\n",
    "                #this statement switches the naming convention depending on which is used\n",
    "                #it's not very general, so in the future I will make sure to properly name my search sequences\n",
    "                #that should make this statement unnecessary \n",
    "            \n",
    "            \n",
    "            output_file_name=(org_desig + \"_\" + formated_gene_name + \"_summary.csv\")    \n",
    "            print(output_file_name)\n",
    "            for alignment in blast_record.alignments[0:3]:\n",
    "\n",
    "                score_counter=[]\n",
    "                e_val_counter=[]\n",
    "\n",
    "                for hsp in alignment.hsps:\n",
    "                    score=hsp.score\n",
    "                    score_counter.append(score)\n",
    "                    evalue=hsp.expect\n",
    "                    e_val_counter.append(evalue)\n",
    "                \n",
    "                seq_designation = alignment.title.split(\"|\")\n",
    "                gi_number = seq_designation[1]\n",
    "                ref_number = seq_designation[3]\n",
    "                annotation = seq_designation[4]\n",
    "                #breaking apart the annoation of the sequence name\n",
    "                #otherwise we'd have way too many delimiters within delimiters\n",
    "                output_line =str(\"gi: \" + gi_number + \",\"+\n",
    "                                 \"ref_number: \" + ref_number + \",\" +\n",
    "                                 \"annotation: \" + annotation+ \",\" +\n",
    "                                \"best_score: \"+ str(max(score_counter)) + \",\"+\n",
    "                                \"evalue: \"+ str(min(e_val_counter)) + \",\"\n",
    "                                \"length: \" + str(alignment.length))\n",
    "                print(output_line)\n",
    "        \n",
    "                \n",
    "            print(\"\\n\")\n",
    "        result_handle.close()\n",
    "        "
   ]
  },
  {
   "cell_type": "code",
   "execution_count": 282,
   "metadata": {
    "collapsed": false
   },
   "outputs": [
    {
     "name": "stdout",
     "output_type": "stream",
     "text": [
      "txid45351_myosin_VIIA_summary.csv\n",
      "gi: 156368554,ref_number: XP_001627758.1,annotation:  predicted protein [Nematostella vectensis],best_score: 5800.0,evalue: 0.0,length: 1921\n",
      "gi: 156396892,ref_number: XP_001637626.1,annotation:  predicted protein [Nematostella vectensis],best_score: 2306.0,evalue: 0.0,length: 802\n",
      "gi: 156386363,ref_number: XP_001633882.1,annotation:  predicted protein [Nematostella vectensis],best_score: 1401.0,evalue: 6.10648e-166,length: 1209\n",
      "\n",
      "\n",
      "txid45351_harmonin_summary.csv\n",
      "gi: 156402804,ref_number: XP_001639780.1,annotation:  predicted protein [Nematostella vectensis],best_score: 375.0,evalue: 9.64921e-38,length: 563\n",
      "gi: 156393382,ref_number: XP_001636307.1,annotation:  predicted protein [Nematostella vectensis],best_score: 349.0,evalue: 7.51819e-35,length: 482\n",
      "gi: 156361922,ref_number: XP_001625532.1,annotation:  predicted protein [Nematostella vectensis],best_score: 188.0,evalue: 2.22088e-14,length: 1030\n",
      "\n",
      "\n",
      "txid45351_cadherin_23_summary.csv\n",
      "gi: 156382383,ref_number: XP_001632533.1,annotation:  predicted protein [Nematostella vectensis],best_score: 2335.0,evalue: 0.0,length: 2676\n",
      "gi: 156398552,ref_number: XP_001638252.1,annotation:  predicted protein [Nematostella vectensis],best_score: 2165.0,evalue: 0.0,length: 1852\n",
      "gi: 156386258,ref_number: XP_001633830.1,annotation:  predicted protein [Nematostella vectensis],best_score: 1990.0,evalue: 0.0,length: 4187\n",
      "\n",
      "\n",
      "txid45351_protocadherin_15_summary.csv\n",
      "gi: 156398552,ref_number: XP_001638252.1,annotation:  predicted protein [Nematostella vectensis],best_score: 784.0,evalue: 5.1843e-84,length: 1852\n",
      "gi: 156386258,ref_number: XP_001633830.1,annotation:  predicted protein [Nematostella vectensis],best_score: 748.0,evalue: 2.21852e-79,length: 4187\n",
      "gi: 156368057,ref_number: XP_001627513.1,annotation:  predicted protein [Nematostella vectensis],best_score: 732.0,evalue: 7.82982e-78,length: 1781\n",
      "\n",
      "\n",
      "txid45351_USH1G_summary.csv\n",
      "gi: 156368165,ref_number: XP_001627566.1,annotation:  predicted protein [Nematostella vectensis],best_score: 568.0,evalue: 6.44513e-68,length: 460\n",
      "gi: 156390773,ref_number: XP_001635444.1,annotation:  predicted protein [Nematostella vectensis],best_score: 195.0,evalue: 8.72481e-16,length: 1188\n",
      "gi: 156365713,ref_number: XP_001626788.1,annotation:  predicted protein [Nematostella vectensis],best_score: 170.0,evalue: 4.33798e-15,length: 95\n",
      "\n",
      "\n",
      "txid45351_CIB2_summary.csv\n",
      "gi: 156402399,ref_number: XP_001639578.1,annotation:  predicted protein [Nematostella vectensis],best_score: 341.0,evalue: 1.68057e-41,length: 184\n",
      "gi: 156371471,ref_number: XP_001628787.1,annotation:  predicted protein [Nematostella vectensis],best_score: 310.0,evalue: 7.10239e-37,length: 182\n",
      "gi: 156405156,ref_number: XP_001640598.1,annotation:  predicted protein [Nematostella vectensis],best_score: 201.0,evalue: 1.2371e-20,length: 170\n",
      "\n",
      "\n",
      "txid45351_USH2A_summary.csv\n",
      "gi: 156400070,ref_number: XP_001638823.1,annotation:  predicted protein [Nematostella vectensis],best_score: 4106.0,evalue: 0.0,length: 3129\n",
      "gi: 156400072,ref_number: XP_001638824.1,annotation:  predicted protein [Nematostella vectensis],best_score: 2692.0,evalue: 0.0,length: 2044\n",
      "gi: 156400068,ref_number: XP_001638822.1,annotation:  predicted protein [Nematostella vectensis],best_score: 1124.0,evalue: 4.07436e-131,length: 906\n",
      "\n",
      "\n",
      "txid45351_GPR98_summary.csv\n",
      "gi: 156387677,ref_number: XP_001634329.1,annotation:  predicted protein [Nematostella vectensis],best_score: 2981.0,evalue: 0.0,length: 5418\n",
      "gi: 156396962,ref_number: XP_001637661.1,annotation:  predicted protein [Nematostella vectensis],best_score: 446.0,evalue: 3.56012e-48,length: 317\n",
      "gi: 156371384,ref_number: XP_001628744.1,annotation:  predicted protein [Nematostella vectensis],best_score: 280.0,evalue: 5.61419e-24,length: 2271\n",
      "\n",
      "\n",
      "txid45351_WHRN_summary.csv\n",
      "gi: 156393382,ref_number: XP_001636307.1,annotation:  predicted protein [Nematostella vectensis],best_score: 951.0,evalue: 3.10421e-119,length: 482\n",
      "gi: 156405451,ref_number: XP_001640745.1,annotation:  predicted protein [Nematostella vectensis],best_score: 293.0,evalue: 3.1971e-31,length: 108\n",
      "gi: 156402804,ref_number: XP_001639780.1,annotation:  predicted protein [Nematostella vectensis],best_score: 239.0,evalue: 9.40628e-21,length: 563\n",
      "\n",
      "\n",
      "txid45351_Clarin_1_summary.csv\n",
      "gi: 156372686,ref_number: XP_001629167.1,annotation:  predicted protein [Nematostella vectensis],best_score: 109.0,evalue: 1.69714e-06,length: 230\n",
      "\n",
      "\n",
      "txid45351_PDZD7_summary.csv\n",
      "gi: 156393382,ref_number: XP_001636307.1,annotation:  predicted protein [Nematostella vectensis],best_score: 374.0,evalue: 5.35934e-38,length: 482\n",
      "gi: 156405451,ref_number: XP_001640745.1,annotation:  predicted protein [Nematostella vectensis],best_score: 249.0,evalue: 3.43518e-25,length: 108\n",
      "gi: 156340278,ref_number: XP_001620405.1,annotation:  hypothetical protein NEMVEDRAFT_v1g148264 [Nematostella vectensis],best_score: 205.0,evalue: 1.19647e-19,length: 79\n",
      "\n",
      "\n",
      "txid400682_myosin_VIIA_summary.csv\n",
      "gi: 1133451887,ref_number: XP_019863708.1,annotation:  PREDICTED: unconventional myosin-VIIa-like [Amphimedon queenslandica],best_score: 6310.0,evalue: 0.0,length: 2190\n",
      "gi: 1133459753,ref_number: XP_019851103.1,annotation:  PREDICTED: unconventional myosin-VIIa-like [Amphimedon queenslandica],best_score: 1622.0,evalue: 0.0,length: 533\n",
      "gi: 1133483664,ref_number: XP_019860107.1,annotation:  PREDICTED: unconventional myosin-VIIa-like [Amphimedon queenslandica],best_score: 1594.0,evalue: 0.0,length: 897\n",
      "\n",
      "\n",
      "txid400682_harmonin_summary.csv\n",
      "gi: 340376105,ref_number: XP_003386574.1,annotation:  PREDICTED: whirlin-like [Amphimedon queenslandica],best_score: 405.0,evalue: 1.76763e-40,length: 848\n",
      "gi: 1133458426,ref_number: XP_019850603.1,annotation:  PREDICTED: harmonin-like [Amphimedon queenslandica],best_score: 371.0,evalue: 8.81803e-37,length: 627\n",
      "gi: 1133456164,ref_number: XP_003385034.3,annotation:  PREDICTED: titin homolog isoform X1 [Amphimedon queenslandica],best_score: 268.0,evalue: 1.12488e-23,length: 1248\n",
      "\n",
      "\n",
      "txid400682_cadherin_23_summary.csv\n",
      "gi: 1133449996,ref_number: XP_011407489.2,annotation:  PREDICTED: protocadherin Fat 4-like [Amphimedon queenslandica],best_score: 2100.0,evalue: 0.0,length: 4222\n",
      "gi: 1133460344,ref_number: XP_019851325.1,annotation:  PREDICTED: protocadherin Fat 4-like [Amphimedon queenslandica],best_score: 2059.0,evalue: 0.0,length: 7157\n",
      "gi: 1133456359,ref_number: XP_019849856.1,annotation:  PREDICTED: cadherin-23-like [Amphimedon queenslandica],best_score: 1798.0,evalue: 0.0,length: 2929\n",
      "\n",
      "\n",
      "txid400682_protocadherin_15_summary.csv\n",
      "gi: 1133449996,ref_number: XP_011407489.2,annotation:  PREDICTED: protocadherin Fat 4-like [Amphimedon queenslandica],best_score: 745.0,evalue: 8.12091e-79,length: 4222\n",
      "gi: 1133460344,ref_number: XP_019851325.1,annotation:  PREDICTED: protocadherin Fat 4-like [Amphimedon queenslandica],best_score: 674.0,evalue: 1.88509e-70,length: 7157\n",
      "gi: 1133477134,ref_number: XP_011406816.2,annotation:  PREDICTED: protocadherin Fat 4-like [Amphimedon queenslandica],best_score: 612.0,evalue: 2.5927e-63,length: 3005\n",
      "\n",
      "\n",
      "txid400682_USH1G_summary.csv\n",
      "gi: 761911057,ref_number: XP_011404829.1,annotation:  PREDICTED: ankyrin repeat and SAM domain-containing protein 4B-like [Amphimedon queenslandica],best_score: 303.0,evalue: 1.94443e-30,length: 379\n",
      "gi: 340386920,ref_number: XP_003391956.1,annotation:  PREDICTED: 26S proteasome non-ATPase regulatory subunit 10-like [Amphimedon queenslandica],best_score: 187.0,evalue: 3.39185e-15,length: 390\n",
      "gi: 761901430,ref_number: XP_011404431.1,annotation:  PREDICTED: caskin-1-like [Amphimedon queenslandica],best_score: 185.0,evalue: 1.87421e-14,length: 1404\n",
      "\n",
      "\n",
      "txid400682_CIB2_summary.csv\n",
      "gi: 340374533,ref_number: XP_003385792.1,annotation:  PREDICTED: calcium and integrin-binding family member 2-like [Amphimedon queenslandica],best_score: 316.0,evalue: 1.28703e-37,length: 186\n",
      "gi: 340378050,ref_number: XP_003387541.1,annotation:  PREDICTED: calcium and integrin-binding protein 1-like isoform X2 [Amphimedon queenslandica],best_score: 209.0,evalue: 1.258e-21,length: 185\n",
      "gi: 1133466222,ref_number: XP_019853612.1,annotation:  PREDICTED: calcium and integrin-binding protein 1-like isoform X1 [Amphimedon queenslandica],best_score: 193.0,evalue: 3.29129e-19,length: 191\n",
      "\n",
      "\n",
      "txid400682_USH2A_summary.csv\n",
      "gi: 1133461696,ref_number: XP_011403870.2,annotation:  PREDICTED: usherin-like [Amphimedon queenslandica],best_score: 3623.0,evalue: 0.0,length: 4885\n",
      "gi: 1133465961,ref_number: XP_011404698.2,annotation:  PREDICTED: uncharacterized protein LOC105313185 [Amphimedon queenslandica],best_score: 561.0,evalue: 1.28983e-56,length: 3914\n",
      "gi: 1133456134,ref_number: XP_019849782.1,annotation:  PREDICTED: laminin subunit gamma-1-like [Amphimedon queenslandica],best_score: 525.0,evalue: 1.47047e-52,length: 2015\n",
      "\n",
      "\n",
      "txid400682_GPR98_summary.csv\n",
      "gi: 1133454764,ref_number: XP_019849292.1,annotation:  PREDICTED: G-protein coupled receptor 98-like [Amphimedon queenslandica],best_score: 2998.0,evalue: 0.0,length: 5021\n",
      "gi: 1133454894,ref_number: XP_019849333.1,annotation:  PREDICTED: G-protein coupled receptor 98-like [Amphimedon queenslandica],best_score: 370.0,evalue: 5.83807e-35,length: 829\n",
      "gi: 1133492165,ref_number: XP_019862878.1,annotation:  PREDICTED: G-protein coupled receptor 98-like, partial [Amphimedon queenslandica],best_score: 310.0,evalue: 1.23624e-29,length: 364\n",
      "\n",
      "\n",
      "txid400682_WHRN_summary.csv\n",
      "gi: 1133456164,ref_number: XP_003385034.3,annotation:  PREDICTED: titin homolog isoform X1 [Amphimedon queenslandica],best_score: 676.0,evalue: 4.45008e-74,length: 1248\n",
      "gi: 340376105,ref_number: XP_003386574.1,annotation:  PREDICTED: whirlin-like [Amphimedon queenslandica],best_score: 607.0,evalue: 2.21856e-66,length: 848\n",
      "gi: 1133456166,ref_number: XP_019849791.1,annotation:  PREDICTED: golgin subfamily A member 6-like protein 22 isoform X2 [Amphimedon queenslandica],best_score: 441.0,evalue: 1.40112e-44,length: 1046\n",
      "\n",
      "\n",
      "txid400682_Clarin_1_summary.csv\n",
      "\n",
      "\n",
      "txid400682_PDZD7_summary.csv\n",
      "gi: 1133456164,ref_number: XP_003385034.3,annotation:  PREDICTED: titin homolog isoform X1 [Amphimedon queenslandica],best_score: 405.0,evalue: 6.88883e-40,length: 1248\n",
      "gi: 340376105,ref_number: XP_003386574.1,annotation:  PREDICTED: whirlin-like [Amphimedon queenslandica],best_score: 387.0,evalue: 3.9643e-38,length: 848\n",
      "gi: 1133456166,ref_number: XP_019849791.1,annotation:  PREDICTED: golgin subfamily A member 6-like protein 22 isoform X2 [Amphimedon queenslandica],best_score: 226.0,evalue: 1.1104e-18,length: 1046\n",
      "\n",
      "\n"
     ]
    }
   ],
   "source": [
    "parse_and_summarize(list_of_blast_xml)"
   ]
  },
  {
   "cell_type": "code",
   "execution_count": 258,
   "metadata": {
    "collapsed": false
   },
   "outputs": [],
   "source": [
    "def parse_and_summarize_test(blast_output_xml):\n",
    "    \n",
    "    from Bio.Blast import NCBIXML\n",
    "    from Bio.SeqRecord import SeqRecord\n",
    "    #import the required libraries\n",
    "    \n",
    "    for file_name in blast_output_xml:\n",
    "        result_handle = open(str(file_name)) #sets the result handle\n",
    "        blast_records = NCBIXML.parse(result_handle)\n",
    "        #need to use parse if it has multiple records in it\n",
    "        for blast_record in blast_records:\n",
    "            org_desig=file_name.split(\"_\")[2].split(\"[\")[0].replace(\" \", \"_\")\n",
    "            \n",
    "            homo_sapiens = \"[Homo sapiens]\"\n",
    "            blast_query=blast_record.query\n",
    "            if homo_sapiens in blast_query:\n",
    "                gene_name=blast_record.query.split(\"|\")[4].split(\"[\")[0].replace(\" \", \"_\").replace(\"_protein\", \"\").replace(\"_isoform_b3\", \"\")\n",
    "                formated_gene_name = gene_name[1:-1]\n",
    "            else:\n",
    "                formated_gene_name=blast_query.split(\"|\")[4].split(\"_\")[0]\n",
    "            print(org_desig + \"_\" + formated_gene_name)    \n",
    "            #Basically there are 2 formats of sequence names I used to do the search\n",
    "            #this statement switches the naming convention depending on which is used\n",
    "            #it's not very general, so in the future I will make sure to properly name my search sequences\n",
    "            #that should make this statement unnecessary \n",
    "            \n",
    "#can use this logic to make two sets of formating\n",
    "\n",
    "\n",
    "#             if homo_sapiens in str(blast_record.query) == True:\n",
    "#                 gene_name=\"CALLED IT\"\n",
    "#             else:\n",
    "#                 gene_name=blast_record.query.split(\"|\")[4].replace(\" \", \"_\")\n",
    "#             print(org_desig + gene_name)"
   ]
  },
  {
   "cell_type": "code",
   "execution_count": 259,
   "metadata": {
    "collapsed": false
   },
   "outputs": [
    {
     "name": "stdout",
     "output_type": "stream",
     "text": [
      "txid45351_myosin_VIIA\n",
      "txid45351_harmonin\n",
      "txid45351_cadherin_23\n",
      "txid45351_protocadherin_15\n",
      "txid45351_USH1G\n",
      "txid45351_CIB2\n",
      "txid45351_USH2A\n",
      "txid45351_GPR98\n",
      "txid45351_WHRN\n",
      "txid45351_Clarin_1\n",
      "txid45351_PDZD7\n",
      "txid400682_myosin_VIIA\n",
      "txid400682_harmonin\n",
      "txid400682_cadherin_23\n",
      "txid400682_protocadherin_15\n",
      "txid400682_USH1G\n",
      "txid400682_CIB2\n",
      "txid400682_USH2A\n",
      "txid400682_GPR98\n",
      "txid400682_WHRN\n",
      "txid400682_Clarin_1\n",
      "txid400682_PDZD7\n"
     ]
    }
   ],
   "source": [
    "parse_and_summarize_test(list_of_blast_xml)"
   ]
  },
  {
   "cell_type": "code",
   "execution_count": null,
   "metadata": {
    "collapsed": false
   },
   "outputs": [],
   "source": []
  },
  {
   "cell_type": "code",
   "execution_count": 92,
   "metadata": {
    "collapsed": false
   },
   "outputs": [
    {
     "name": "stdout",
     "output_type": "stream",
     "text": [
      "txid45351\n",
      "txid400682\n"
     ]
    }
   ],
   "source": [
    "for name in list_of_blast_xml:\n",
    "    org_desig=name.split(\"_\")[2].split(\"[\")[0]\n",
    "    print(org_desig)"
   ]
  },
  {
   "cell_type": "code",
   "execution_count": null,
   "metadata": {
    "collapsed": false
   },
   "outputs": [],
   "source": []
  },
  {
   "cell_type": "code",
   "execution_count": null,
   "metadata": {
    "collapsed": false
   },
   "outputs": [],
   "source": []
  },
  {
   "cell_type": "code",
   "execution_count": null,
   "metadata": {
    "collapsed": true
   },
   "outputs": [],
   "source": []
  }
 ],
 "metadata": {
  "anaconda-cloud": {},
  "kernelspec": {
   "display_name": "Python [default]",
   "language": "python",
   "name": "python3"
  },
  "language_info": {
   "codemirror_mode": {
    "name": "ipython",
    "version": 3
   },
   "file_extension": ".py",
   "mimetype": "text/x-python",
   "name": "python",
   "nbconvert_exporter": "python",
   "pygments_lexer": "ipython3",
   "version": "3.5.2"
  }
 },
 "nbformat": 4,
 "nbformat_minor": 2
}
