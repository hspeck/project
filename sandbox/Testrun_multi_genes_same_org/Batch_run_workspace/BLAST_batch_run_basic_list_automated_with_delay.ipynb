{
 "cells": [
  {
   "cell_type": "code",
   "execution_count": 70,
   "metadata": {
    "collapsed": true
   },
   "outputs": [],
   "source": [
    "def search_taxa_all_gene_delay(list_of_taxa):\n",
    "    #takes a list of taxa and will run blast for sequences contained in a file\n",
    "    #will loop through the list and run blast for each one\n",
    "    #will save each result to a separate xml file\n",
    "    from Bio.Blast import NCBIWWW\n",
    "        #imports the NCBIWWW module from Biopython\n",
    "    import time\n",
    "        #gives us the ability to delay our imputs to not spam the NCBI servers and get kicked off\n",
    "    \n",
    "    with open(\"USH_Search_seq.fasta\", \"r\") as fasta_file:\n",
    "        sequences = fasta_file.read()\n",
    "        fasta_file.close()\n",
    "        #reads in the file we will be searching\n",
    "        \n",
    "    for i in list_of_taxa:\n",
    "        result_handle = NCBIWWW.qblast(\"blastp\", \"refseq_protein\", sequences, alignments=100, descriptions=100, expect=0.00001, entrez_query=str(i))\n",
    "        file_name=str(\"USH_Search_\"+str(i)+\".xml\") #this creates a name for the file\n",
    "        save_file=open(file_name, \"w\")  #we are opening a file that does not yet exist to write to it\n",
    "        save_file.write(result_handle.read())  #writing the result of our blast search to local file\n",
    "        save_file.close() #closing it to allow the file to actually write it\n",
    "        result_handle.close() #close the results handle\n",
    "        print(\"created \"+ file_name)\n",
    "        time.sleep(60)  #this gives 1 minute between writing the output and sending another request to the ncbi server\n",
    "            #hopefully this will prevent spamming the server \n",
    "        "
   ]
  },
  {
   "cell_type": "code",
   "execution_count": 42,
   "metadata": {
    "collapsed": false
   },
   "outputs": [],
   "source": [
    "taxa_list=[\"txid81824[ORGN]\", \"txid44689[ORGN]\", \"txid946362[ORGN]\", \"txid529818[ORGN]\", \"txid192875[ORGN]\", \"txid10228[ORGN]\", \"txid400682[ORGN]\", \"txid9606[ORGN]\", \"txid45351[ORGN]\", \"txid6087[ORGN]\", \"txid7668[ORGN]\", \"txid6239[ORGN]\", \"txid7227[ORGN]\", \"txid37653[ORGN]\", \"txid10228[ORGN]\", \"txid400682[ORGN]\", \"txid7574[ORGN]\"]"
   ]
  },
  {
   "cell_type": "code",
   "execution_count": 19,
   "metadata": {
    "collapsed": false
   },
   "outputs": [
    {
     "name": "stdout",
     "output_type": "stream",
     "text": [
      "['txid81824[ORGN]', 'txid44689[ORGN]', 'txid946362[ORGN]', 'txid529818[ORGN]', 'txid192875[ORGN]', 'txid10228[ORGN]', 'txid400682[ORGN]', 'txid9606[ORGN]', 'txid45351[ORGN]', 'txid6087[ORGN]', 'txid7668[ORGN]', 'txid6239[ORGN]', 'txid7227[ORGN]', 'txid37653[ORGN]', 'txid10228[ORGN]', 'txid400682[ORGN]', 'txid7574[ORGN]']\n"
     ]
    }
   ],
   "source": [
    "print(taxa_list)"
   ]
  },
  {
   "cell_type": "code",
   "execution_count": 6,
   "metadata": {
    "collapsed": true
   },
   "outputs": [],
   "source": [
    "search_taxa_all_gene_delay(taxa_list)"
   ]
  },
  {
   "cell_type": "code",
   "execution_count": 12,
   "metadata": {
    "collapsed": false
   },
   "outputs": [],
   "source": [
    "full_taxa_file_name=open(\"/home/eeb177-student/Desktop/eeb-177/project/sandbox/Testrun_multi_genes_same_org/full_list_taxa_NCBI.txt\", \"r\")"
   ]
  },
  {
   "cell_type": "code",
   "execution_count": 13,
   "metadata": {
    "collapsed": true
   },
   "outputs": [],
   "source": [
    "full_taxa_list = full_taxa_file_name.read()"
   ]
  },
  {
   "cell_type": "code",
   "execution_count": 61,
   "metadata": {
    "collapsed": false
   },
   "outputs": [],
   "source": [
    "formated_full_taxa_list=full_taxa_list.replace(\"a\", \"\").replace('\"', '').replace(\"\\n\", \"[ORGN]\\n\").replace(\":\", \"\").split(\"\\n\")"
   ]
  },
  {
   "cell_type": "code",
   "execution_count": 62,
   "metadata": {
    "collapsed": false
   },
   "outputs": [
    {
     "name": "stdout",
     "output_type": "stream",
     "text": [
      "txid2850[ORGN]\n",
      "txid55529[ORGN]\n",
      "txid164328[ORGN]\n",
      "txid5888[ORGN]\n",
      "txid5833[ORGN]\n",
      "txid1202447[ORGN]\n",
      "txid505693[ORGN]\n",
      "txid227086[ORGN]\n",
      "txid46433[ORGN]\n",
      "txid5691[ORGN]\n",
      "txid55529[ORGN]\n",
      "txid5762[ORGN]\n",
      "txid2769[ORGN]\n",
      "txid3702[ORGN]\n",
      "txid3067[ORGN]\n",
      "txid361139[ORGN]\n",
      "txid44689[ORGN]\n",
      "txid5759[ORGN]\n",
      "txid281847[ORGN]\n",
      "txid691883[ORGN]\n",
      "txid109871[ORGN]\n",
      "txid6035[ORGN]\n",
      "txid4837[ORGN]\n",
      "txid4932[ORGN]\n",
      "txid5011[ORGN]\n",
      "txid203908[ORGN]\n",
      "txid588596[ORGN]\n",
      "txid28583[ORGN]\n",
      "txid73868[ORGN]\n",
      "txid34488[ORGN]\n",
      "txid61392[ORGN]\n",
      "txid192875[ORGN]\n",
      "txid134558[ORGN]\n",
      "txid72019[ORGN]\n",
      "txid81824[ORGN]\n",
      "txid946362[ORGN]\n",
      "txid9606[ORGN]\n",
      "txid400682[ORGN]\n",
      "txid7227[ORGN]\n",
      "txid529818[ORGN]\n",
      "txid10228[ORGN]\n",
      "txid45351[ORGN]\n",
      "txid6087[ORGN]\n",
      "txid669202[ORGN]\n",
      "txid7719[ORGN]\n",
      "txid7955[ORGN]\n",
      "txid10090[ORGN]\n",
      "txid10224[ORGN]\n",
      "txid7668[ORGN]\n",
      "txid37621[ORGN]\n",
      "txid6239[ORGN]\n",
      "txid6334[ORGN]\n",
      "txid6945[ORGN]\n",
      "txid60516[ORGN]\n",
      "txid6185[ORGN]\n",
      "txid79327[ORGN]\n",
      "txid7574[ORGN]\n",
      "txid225164[ORGN]\n",
      "txid37653[ORGN]\n",
      "txid6412[ORGN]\n",
      "\n"
     ]
    }
   ],
   "source": [
    "for item in formated_full_taxa_list:\n",
    "    print(item)"
   ]
  },
  {
   "cell_type": "markdown",
   "metadata": {},
   "source": [
    "THis is what to use for full search\n"
   ]
  },
  {
   "cell_type": "code",
   "execution_count": 63,
   "metadata": {
    "collapsed": false
   },
   "outputs": [],
   "source": [
    "unsearched_taxa=[item for item in formated_full_taxa_list if item not in taxa_list]"
   ]
  },
  {
   "cell_type": "code",
   "execution_count": 73,
   "metadata": {
    "collapsed": false
   },
   "outputs": [],
   "source": [
    "\n",
    "#it produces an empty string\n",
    "#lets get rid of it\n",
    "unsearched_taxa = unsearched_taxa[:-1]"
   ]
  },
  {
   "cell_type": "code",
   "execution_count": 74,
   "metadata": {
    "collapsed": false
   },
   "outputs": [
    {
     "data": {
      "text/plain": [
       "45"
      ]
     },
     "execution_count": 74,
     "metadata": {},
     "output_type": "execute_result"
    }
   ],
   "source": [
    "len(unsearched_taxa)"
   ]
  },
  {
   "cell_type": "code",
   "execution_count": 75,
   "metadata": {
    "collapsed": false
   },
   "outputs": [
    {
     "data": {
      "text/plain": [
       "61"
      ]
     },
     "execution_count": 75,
     "metadata": {},
     "output_type": "execute_result"
    }
   ],
   "source": [
    "len(formated_full_taxa_list)"
   ]
  },
  {
   "cell_type": "code",
   "execution_count": 67,
   "metadata": {
    "collapsed": false
   },
   "outputs": [
    {
     "data": {
      "text/plain": [
       "17"
      ]
     },
     "execution_count": 67,
     "metadata": {},
     "output_type": "execute_result"
    }
   ],
   "source": [
    "len(taxa_list)"
   ]
  },
  {
   "cell_type": "code",
   "execution_count": 76,
   "metadata": {
    "collapsed": false
   },
   "outputs": [
    {
     "name": "stdout",
     "output_type": "stream",
     "text": [
      "created USH_Search_txid2850[ORGN].xml\n",
      "created USH_Search_txid55529[ORGN].xml\n",
      "created USH_Search_txid164328[ORGN].xml\n",
      "created USH_Search_txid5888[ORGN].xml\n",
      "created USH_Search_txid5833[ORGN].xml\n",
      "created USH_Search_txid1202447[ORGN].xml\n",
      "created USH_Search_txid505693[ORGN].xml\n",
      "created USH_Search_txid227086[ORGN].xml\n",
      "created USH_Search_txid46433[ORGN].xml\n",
      "created USH_Search_txid5691[ORGN].xml\n",
      "created USH_Search_txid55529[ORGN].xml\n",
      "created USH_Search_txid5762[ORGN].xml\n",
      "created USH_Search_txid2769[ORGN].xml\n",
      "created USH_Search_txid3702[ORGN].xml\n",
      "created USH_Search_txid3067[ORGN].xml\n",
      "created USH_Search_txid361139[ORGN].xml\n",
      "created USH_Search_txid5759[ORGN].xml\n",
      "created USH_Search_txid281847[ORGN].xml\n",
      "created USH_Search_txid691883[ORGN].xml\n",
      "created USH_Search_txid109871[ORGN].xml\n",
      "created USH_Search_txid6035[ORGN].xml\n",
      "created USH_Search_txid4837[ORGN].xml\n",
      "created USH_Search_txid4932[ORGN].xml\n",
      "created USH_Search_txid5011[ORGN].xml\n",
      "created USH_Search_txid203908[ORGN].xml\n",
      "created USH_Search_txid588596[ORGN].xml\n",
      "created USH_Search_txid28583[ORGN].xml\n",
      "created USH_Search_txid73868[ORGN].xml\n",
      "created USH_Search_txid34488[ORGN].xml\n",
      "created USH_Search_txid61392[ORGN].xml\n",
      "created USH_Search_txid134558[ORGN].xml\n",
      "created USH_Search_txid72019[ORGN].xml\n",
      "created USH_Search_txid669202[ORGN].xml\n",
      "created USH_Search_txid7719[ORGN].xml\n",
      "created USH_Search_txid7955[ORGN].xml\n",
      "created USH_Search_txid10090[ORGN].xml\n",
      "created USH_Search_txid10224[ORGN].xml\n",
      "created USH_Search_txid37621[ORGN].xml\n",
      "created USH_Search_txid6334[ORGN].xml\n",
      "created USH_Search_txid6945[ORGN].xml\n",
      "created USH_Search_txid60516[ORGN].xml\n",
      "created USH_Search_txid6185[ORGN].xml\n",
      "created USH_Search_txid79327[ORGN].xml\n",
      "created USH_Search_txid225164[ORGN].xml\n",
      "created USH_Search_txid6412[ORGN].xml\n"
     ]
    }
   ],
   "source": [
    "#Ok got a list of all the species we haven't searched already\n",
    "#let's run it for them\n",
    "\n",
    "search_taxa_all_gene_delay(unsearched_taxa)"
   ]
  },
  {
   "cell_type": "code",
   "execution_count": null,
   "metadata": {
    "collapsed": true
   },
   "outputs": [],
   "source": []
  }
 ],
 "metadata": {
  "anaconda-cloud": {},
  "kernelspec": {
   "display_name": "Python [default]",
   "language": "python",
   "name": "python3"
  },
  "language_info": {
   "codemirror_mode": {
    "name": "ipython",
    "version": 3
   },
   "file_extension": ".py",
   "mimetype": "text/x-python",
   "name": "python",
   "nbconvert_exporter": "python",
   "pygments_lexer": "ipython3",
   "version": "3.5.2"
  }
 },
 "nbformat": 4,
 "nbformat_minor": 2
}
