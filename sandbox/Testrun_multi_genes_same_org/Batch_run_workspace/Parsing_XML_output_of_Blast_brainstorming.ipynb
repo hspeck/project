{
 "cells": [
  {
   "cell_type": "code",
   "execution_count": 69,
   "metadata": {
    "collapsed": true
   },
   "outputs": [],
   "source": [
    "result_handle=open(\"USH_Search_txid45351[ORGN].xml\")"
   ]
  },
  {
   "cell_type": "code",
   "execution_count": 70,
   "metadata": {
    "collapsed": false
   },
   "outputs": [],
   "source": [
    "from Bio.Blast import NCBIXML\n",
    "from Bio.SeqRecord import SeqRecord\n",
    "blast_records=NCBIXML.parse(result_handle)\n",
    "#need to use parse if it has multiple records in it"
   ]
  },
  {
   "cell_type": "markdown",
   "metadata": {},
   "source": [
    "for blast_record in blast_records:\n",
    "    print(\"\\n\"+ blast_record.query.split(\"|\")[4]+ \"\\n\")\n",
    "    for alignment in blast_record.alignments[0:5]:\n",
    "        for hsp in alignment.hsps:\n",
    "            print(\"seq: \"+alignment.title + \"; \",\n",
    "                  \"e-value: \"+str(hsp.expect)+ \";\"\n",
    "                  \"score: \"+str(hsp.score))\n",
    "        \n",
    "\n"
   ]
  },
  {
   "cell_type": "code",
   "execution_count": 2,
   "metadata": {
    "collapsed": true
   },
   "outputs": [],
   "source": [
    "list_of_blast_xml = [\"USH_Search_txid45351[ORGN].xml\", \"USH_Search_txid400682[ORGN].xml\"]"
   ]
  },
  {
   "cell_type": "code",
   "execution_count": 1,
   "metadata": {
    "collapsed": false
   },
   "outputs": [],
   "source": [
    "def parse_and_summarize(blast_output_xml):\n",
    "    #  goes through the output of a BLAST xml file and finds the relevant stats to summarize the search\n",
    "    from Bio.Blast import NCBIXML\n",
    "    from Bio.SeqRecord import SeqRecord\n",
    "    #import the required libraries\n",
    "    \n",
    "    for file_name in blast_output_xml:\n",
    "        result_handle = open(str(file_name), \"r\") #sets the result handle\n",
    "        blast_records = NCBIXML.parse(result_handle)\n",
    "        #need to use parse if it has multiple records in it\n",
    "        for blast_record in blast_records:\n",
    "            org_desig=file_name.split(\"_\")[2].split(\"[\")[0].replace(\" \", \"_\")\n",
    "            #properly formats the taxa id so we can use it to name things\n",
    "            \n",
    "            homo_sapiens = \"[Homo sapiens]\"\n",
    "            blast_query=blast_record.query\n",
    "            if homo_sapiens in blast_query:\n",
    "                gene_name=blast_record.query.split(\"|\")[4].split(\"[\")[0].replace(\" \", \"_\").replace(\"_protein\", \"\").replace(\"_isoform_b3\", \"\")\n",
    "                formated_gene_name = gene_name[1:-1]\n",
    "            else:\n",
    "                formated_gene_name=blast_query.split(\"|\")[4].split(\"_\")[0]\n",
    "            #this conditional properly formats the gene name so we can use it to name things\n",
    "                #Basically there are 2 formats of sequence names I used to do the search\n",
    "                #this statement switches the naming convention depending on which is used\n",
    "                #it's not very general, so in the future I will make sure to properly name my search sequences\n",
    "                #that should make this statement unnecessary \n",
    "            \n",
    "            \n",
    "            output_file_name=(org_desig + \"_\" + formated_gene_name + \"_summary.csv\")    \n",
    "            output_file=open(output_file_name, \"w\")\n",
    "            #this puts together a nicely named file for each gene and species\n",
    "            \n",
    "            alignment_file_contents=\"\"\n",
    "            #setting up an empty list to hold the output of the following loop\n",
    "            for alignment in blast_record.alignments:\n",
    "\n",
    "                score_counter=[]\n",
    "                e_val_counter=[]\n",
    "\n",
    "                for hsp in alignment.hsps:\n",
    "                    score=hsp.score\n",
    "                    score_counter.append(score)\n",
    "                    evalue=hsp.expect\n",
    "                    e_val_counter.append(evalue)\n",
    "                \n",
    "                seq_designation = alignment.title.split(\"|\")\n",
    "                gi_number = seq_designation[1]\n",
    "                ref_number = seq_designation[3]\n",
    "                annotation = seq_designation[4]\n",
    "                #breaking apart the annoation of the sequence name\n",
    "                #otherwise we'd have way too many delimiters within delimiters\n",
    "                output_line = str(\"gi:\" + gi_number + \",\"+\n",
    "                                 \"ref_number:\" + ref_number + \",\" +\n",
    "                                 \"annotation:\" + annotation+ \",\" +\n",
    "                                \"best_score:\"+ str(max(score_counter)) + \",\"+\n",
    "                                \"evalue:\" + str(min(e_val_counter)) + \",\"\n",
    "                                \"length:\" + str(alignment.length)+\"\\n\")\n",
    "                #this sets up the output for each alignment\n",
    "                \n",
    "                alignment_file_contents = alignment_file_contents + output_line\n",
    "                #this writes what we came up with to the holder string\n",
    "            \n",
    "            output_file.write(alignment_file_contents)\n",
    "            #writing the output to the alignment file\n",
    "\n",
    "        result_handle.close()\n",
    "        "
   ]
  },
  {
   "cell_type": "code",
   "execution_count": 3,
   "metadata": {
    "collapsed": false
   },
   "outputs": [],
   "source": [
    "parse_and_summarize(list_of_blast_xml)"
   ]
  },
  {
   "cell_type": "code",
   "execution_count": 258,
   "metadata": {
    "collapsed": false
   },
   "outputs": [],
   "source": [
    "def parse_and_summarize_test(blast_output_xml):\n",
    "    \n",
    "    from Bio.Blast import NCBIXML\n",
    "    from Bio.SeqRecord import SeqRecord\n",
    "    #import the required libraries\n",
    "    \n",
    "    for file_name in blast_output_xml:\n",
    "        result_handle = open(str(file_name)) #sets the result handle\n",
    "        blast_records = NCBIXML.parse(result_handle)\n",
    "        #need to use parse if it has multiple records in it\n",
    "        for blast_record in blast_records:\n",
    "            org_desig=file_name.split(\"_\")[2].split(\"[\")[0].replace(\" \", \"_\")\n",
    "            \n",
    "            homo_sapiens = \"[Homo sapiens]\"\n",
    "            blast_query=blast_record.query\n",
    "            if homo_sapiens in blast_query:\n",
    "                gene_name=blast_record.query.split(\"|\")[4].split(\"[\")[0].replace(\" \", \"_\").replace(\"_protein\", \"\").replace(\"_isoform_b3\", \"\")\n",
    "                formated_gene_name = gene_name[1:-1]\n",
    "            else:\n",
    "                formated_gene_name=blast_query.split(\"|\")[4].split(\"_\")[0]\n",
    "            print(org_desig + \"_\" + formated_gene_name)    \n",
    "            #Basically there are 2 formats of sequence names I used to do the search\n",
    "            #this statement switches the naming convention depending on which is used\n",
    "            #it's not very general, so in the future I will make sure to properly name my search sequences\n",
    "            #that should make this statement unnecessary \n",
    "            \n",
    "#can use this logic to make two sets of formating\n",
    "\n",
    "\n",
    "#             if homo_sapiens in str(blast_record.query) == True:\n",
    "#                 gene_name=\"CALLED IT\"\n",
    "#             else:\n",
    "#                 gene_name=blast_record.query.split(\"|\")[4].replace(\" \", \"_\")\n",
    "#             print(org_desig + gene_name)"
   ]
  },
  {
   "cell_type": "code",
   "execution_count": 259,
   "metadata": {
    "collapsed": false
   },
   "outputs": [
    {
     "name": "stdout",
     "output_type": "stream",
     "text": [
      "txid45351_myosin_VIIA\n",
      "txid45351_harmonin\n",
      "txid45351_cadherin_23\n",
      "txid45351_protocadherin_15\n",
      "txid45351_USH1G\n",
      "txid45351_CIB2\n",
      "txid45351_USH2A\n",
      "txid45351_GPR98\n",
      "txid45351_WHRN\n",
      "txid45351_Clarin_1\n",
      "txid45351_PDZD7\n",
      "txid400682_myosin_VIIA\n",
      "txid400682_harmonin\n",
      "txid400682_cadherin_23\n",
      "txid400682_protocadherin_15\n",
      "txid400682_USH1G\n",
      "txid400682_CIB2\n",
      "txid400682_USH2A\n",
      "txid400682_GPR98\n",
      "txid400682_WHRN\n",
      "txid400682_Clarin_1\n",
      "txid400682_PDZD7\n"
     ]
    }
   ],
   "source": [
    "parse_and_summarize_test(list_of_blast_xml)"
   ]
  },
  {
   "cell_type": "code",
   "execution_count": null,
   "metadata": {
    "collapsed": false
   },
   "outputs": [],
   "source": []
  },
  {
   "cell_type": "code",
   "execution_count": 92,
   "metadata": {
    "collapsed": false
   },
   "outputs": [
    {
     "name": "stdout",
     "output_type": "stream",
     "text": [
      "txid45351\n",
      "txid400682\n"
     ]
    }
   ],
   "source": [
    "for name in list_of_blast_xml:\n",
    "    org_desig=name.split(\"_\")[2].split(\"[\")[0]\n",
    "    print(org_desig)"
   ]
  },
  {
   "cell_type": "code",
   "execution_count": null,
   "metadata": {
    "collapsed": false
   },
   "outputs": [],
   "source": []
  },
  {
   "cell_type": "code",
   "execution_count": null,
   "metadata": {
    "collapsed": false
   },
   "outputs": [],
   "source": []
  },
  {
   "cell_type": "code",
   "execution_count": null,
   "metadata": {
    "collapsed": true
   },
   "outputs": [],
   "source": []
  }
 ],
 "metadata": {
  "anaconda-cloud": {},
  "kernelspec": {
   "display_name": "Python [default]",
   "language": "python",
   "name": "python3"
  },
  "language_info": {
   "codemirror_mode": {
    "name": "ipython",
    "version": 3
   },
   "file_extension": ".py",
   "mimetype": "text/x-python",
   "name": "python",
   "nbconvert_exporter": "python",
   "pygments_lexer": "ipython3",
   "version": "3.5.2"
  }
 },
 "nbformat": 4,
 "nbformat_minor": 2
}
