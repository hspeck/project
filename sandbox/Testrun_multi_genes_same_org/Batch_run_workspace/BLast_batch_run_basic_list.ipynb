{
 "cells": [
  {
   "cell_type": "code",
   "execution_count": 1,
   "metadata": {
    "collapsed": true
   },
   "outputs": [],
   "source": [
    "def search_taxa_all_gene(list_of_taxa):\n",
    "    #takes a list of taxa and will run blast for sequences contained in a file\n",
    "    #will loop through the list and run blast for each one\n",
    "    #will save each result to a separate xml file\n",
    "    from Bio.Blast import NCBIWWW\n",
    "        #imports the NCBIWWW module from Biopython\n",
    "    \n",
    "    with open(\"USH_Search_seq.fasta\", \"r\") as fasta_file:\n",
    "        sequences = fasta_file.read()\n",
    "        fasta_file.close()\n",
    "        #reads in the file we will be searching\n",
    "        \n",
    "    for i in list_of_taxa:\n",
    "        result_handle = NCBIWWW.qblast(\"blastp\", \"refseq_protein\", sequences, alignments=100, descriptions=100, expect=0.00001, entrez_query=str(i))\n",
    "        file_name=str(\"USH_Search_\"+str(i)+\".xml\") #this creates a name for the file\n",
    "        save_file=open(file_name, \"w\")  #we are opening a file that does not yet exist to write to it\n",
    "        save_file.write(result_handle.read())  #writing the result of our blast search to local file\n",
    "        save_file.close() #closing it to allow the file to actually write it\n",
    "        result_handle.close() #close the results handle\n",
    "        "
   ]
  },
  {
   "cell_type": "code",
   "execution_count": 2,
   "metadata": {
    "collapsed": true
   },
   "outputs": [],
   "source": [
    "taxa_list=[\"txid81824[ORGN]\", \"txid44689[ORGN]\", \"txid946362[ORGN]\", \"txid529818[ORGN]\", \"txid192875[ORGN]\", \"txid10228[ORGN]\", \"txid400682[ORGN]\", \"txid9606[ORGN]\", \"txid45351[ORGN]\", \"txid6087[ORGN]\", \"txid7668[ORGN]\", \"txid6239[ORGN]\", \"txid7227[ORGN]\", \"txid37653[ORGN]\", \"txid10228[ORGN]\", \"txid400682[ORGN]\", \"txid7574[ORGN]\"]"
   ]
  },
  {
   "cell_type": "code",
   "execution_count": 3,
   "metadata": {
    "collapsed": false
   },
   "outputs": [
    {
     "ename": "FileNotFoundError",
     "evalue": "[Errno 2] No such file or directory: 'USH_Search_seq.fasta'",
     "output_type": "error",
     "traceback": [
      "\u001b[0;31m---------------------------------------------------------------------------\u001b[0m",
      "\u001b[0;31mFileNotFoundError\u001b[0m                         Traceback (most recent call last)",
      "\u001b[0;32m<ipython-input-3-37e3a2573d17>\u001b[0m in \u001b[0;36m<module>\u001b[0;34m()\u001b[0m\n\u001b[0;32m----> 1\u001b[0;31m \u001b[0msearch_taxa_all_gene\u001b[0m\u001b[0;34m(\u001b[0m\u001b[0mtaxa_list\u001b[0m\u001b[0;34m)\u001b[0m\u001b[0;34m\u001b[0m\u001b[0m\n\u001b[0m",
      "\u001b[0;32m<ipython-input-1-6e60abcad9bf>\u001b[0m in \u001b[0;36msearch_taxa_all_gene\u001b[0;34m(list_of_taxa)\u001b[0m\n\u001b[1;32m      6\u001b[0m         \u001b[0;31m#imports the NCBIWWW module from Biopython\u001b[0m\u001b[0;34m\u001b[0m\u001b[0;34m\u001b[0m\u001b[0m\n\u001b[1;32m      7\u001b[0m \u001b[0;34m\u001b[0m\u001b[0m\n\u001b[0;32m----> 8\u001b[0;31m     \u001b[0;32mwith\u001b[0m \u001b[0mopen\u001b[0m\u001b[0;34m(\u001b[0m\u001b[0;34m\"USH_Search_seq.fasta\"\u001b[0m\u001b[0;34m,\u001b[0m \u001b[0;34m\"r\"\u001b[0m\u001b[0;34m)\u001b[0m \u001b[0;32mas\u001b[0m \u001b[0mfasta_file\u001b[0m\u001b[0;34m:\u001b[0m\u001b[0;34m\u001b[0m\u001b[0m\n\u001b[0m\u001b[1;32m      9\u001b[0m         \u001b[0msequences\u001b[0m \u001b[0;34m=\u001b[0m \u001b[0mfasta_file\u001b[0m\u001b[0;34m.\u001b[0m\u001b[0mread\u001b[0m\u001b[0;34m(\u001b[0m\u001b[0;34m)\u001b[0m\u001b[0;34m\u001b[0m\u001b[0m\n\u001b[1;32m     10\u001b[0m         \u001b[0mfasta_file\u001b[0m\u001b[0;34m.\u001b[0m\u001b[0mclose\u001b[0m\u001b[0;34m(\u001b[0m\u001b[0;34m)\u001b[0m\u001b[0;34m\u001b[0m\u001b[0m\n",
      "\u001b[0;31mFileNotFoundError\u001b[0m: [Errno 2] No such file or directory: 'USH_Search_seq.fasta'"
     ]
    }
   ],
   "source": [
    "search_taxa_all_gene(taxa_list)"
   ]
  },
  {
   "cell_type": "code",
   "execution_count": 4,
   "metadata": {
    "collapsed": true
   },
   "outputs": [],
   "source": [
    "def search_taxa_all_gene_delay(list_of_taxa):\n",
    "    #takes a list of taxa and will run blast for sequences contained in a file\n",
    "    #will loop through the list and run blast for each one\n",
    "    #will save each result to a separate xml file\n",
    "    from Bio.Blast import NCBIWWW\n",
    "        #imports the NCBIWWW module from Biopython\n",
    "    import time\n",
    "        #gives us the ability to delay our imputs to not spam the NCBI servers and get kicked off\n",
    "    \n",
    "    with open(\"USH_Search_seq.fasta\", \"r\") as fasta_file:\n",
    "        sequences = fasta_file.read()\n",
    "        fasta_file.close()\n",
    "        #reads in the file we will be searching\n",
    "        \n",
    "    for i in list_of_taxa:\n",
    "        result_handle = NCBIWWW.qblast(\"blastp\", \"refseq_protein\", sequences, alignments=100, descriptions=100, expect=0.00001, entrez_query=str(i))\n",
    "        file_name=str(\"USH_Search_\"+str(i)+\".xml\") #this creates a name for the file\n",
    "        save_file=open(file_name, \"w\")  #we are opening a file that does not yet exist to write to it\n",
    "        save_file.write(result_handle.read())  #writing the result of our blast search to local file\n",
    "        save_file.close() #closing it to allow the file to actually write it\n",
    "        result_handle.close() #close the results handle\n",
    "        print(\"created \"+ file_name)\n",
    "        time.sleep(60)  #this gives 1 minute between writing the output and sending another request to the ncbi server\n",
    "            #hopefully this will prevent spamming the server \n",
    "        "
   ]
  },
  {
   "cell_type": "code",
   "execution_count": 5,
   "metadata": {
    "collapsed": false
   },
   "outputs": [],
   "source": [
    "taxa_list=[\"txid81824[ORGN]\", \"txid44689[ORGN]\", \"txid946362[ORGN]\", \"txid529818[ORGN]\", \"txid192875[ORGN]\", \"txid10228[ORGN]\", \"txid400682[ORGN]\", \"txid9606[ORGN]\", \"txid45351[ORGN]\", \"txid6087[ORGN]\", \"txid7668[ORGN]\", \"txid6239[ORGN]\", \"txid7227[ORGN]\", \"txid37653[ORGN]\", \"txid10228[ORGN]\", \"txid400682[ORGN]\", \"txid7574[ORGN]\"]"
   ]
  },
  {
   "cell_type": "code",
   "execution_count": 6,
   "metadata": {
    "collapsed": true
   },
   "outputs": [],
   "source": [
    "search_taxa_all_gene_delay(taxa_list)"
   ]
  },
  {
   "cell_type": "code",
   "execution_count": null,
   "metadata": {
    "collapsed": true
   },
   "outputs": [],
   "source": []
  },
  {
   "cell_type": "code",
   "execution_count": 3,
   "metadata": {
    "collapsed": false
   },
   "outputs": [
    {
     "name": "stdout",
     "output_type": "stream",
     "text": [
      "cycle0\n",
      "cycle1\n",
      "cycle2\n",
      "cycle3\n",
      "cycle4\n"
     ]
    }
   ],
   "source": [
    "#simple time loop\n",
    "import time\n",
    "for i in range(5):\n",
    "    print(\"cycle\" + str(i))\n",
    "    time.sleep(2)\n",
    "    \n",
    "#it worked fine"
   ]
  },
  {
   "cell_type": "code",
   "execution_count": null,
   "metadata": {
    "collapsed": true
   },
   "outputs": [],
   "source": []
  }
 ],
 "metadata": {
  "anaconda-cloud": {},
  "kernelspec": {
   "display_name": "Python [default]",
   "language": "python",
   "name": "python3"
  },
  "language_info": {
   "codemirror_mode": {
    "name": "ipython",
    "version": 3
   },
   "file_extension": ".py",
   "mimetype": "text/x-python",
   "name": "python",
   "nbconvert_exporter": "python",
   "pygments_lexer": "ipython3",
   "version": "3.5.2"
  }
 },
 "nbformat": 4,
 "nbformat_minor": 2
}
