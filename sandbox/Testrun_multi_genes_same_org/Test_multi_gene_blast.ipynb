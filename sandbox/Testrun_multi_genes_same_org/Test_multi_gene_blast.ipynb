{
 "cells": [
  {
   "cell_type": "markdown",
   "metadata": {},
   "source": [
    "#this is how the online folds said to try it\n",
    "\n",
    "fasta_string = open(\"m_cold.fasta\").read()\n"
   ]
  },
  {
   "cell_type": "code",
   "execution_count": 1,
   "metadata": {
    "collapsed": true
   },
   "outputs": [],
   "source": [
    "from Bio.Blast import  NCBIWWW"
   ]
  },
  {
   "cell_type": "code",
   "execution_count": null,
   "metadata": {
    "collapsed": true
   },
   "outputs": [],
   "source": [
    "from Bio.Blast import  NCBIWWW\n",
    "from Bio.Blast import NCBIXML\n",
    "file_string = \"\"    \n",
    "x = 1\n",
    "\n",
    "fasta_files = [fasta1, fasta2, fasta3, fasta4]\n",
    "for i in fasta_files:\n",
    "    File = open(\"output\"+x+\".txt\",\"w\")\n",
    "    fasta_string = open(i+\".fasta\").read() #or make the names fasta1.fasta and just do open(i).read\n",
    "    result_handle = NCBIWWW.qblast(\"blastn\", \"nr\", fasta_string, hitlist_size=10)\n",
    "\n",
    "    blast_records = NCBIXML.parse(result_handle) \n",
    "    #or blast_record = NCBIXML.read(result_handle) if you only have one seq in file\n",
    "    E_VALUE_THRESH = 0.001\n",
    "    for blast_record in blast_records:\n",
    "        for alignment in blast_record.alignments:\n",
    "            for hsp in alignment.hsps:\n",
    "                if hsp.expect < E_VALUE_THRESH:\n",
    "                   file_string += \"alignment:\",alignment.title+\"\\n\"\n",
    "                   file_string += \"e-value:\",hsp.expect+\"\\n\"\n",
    "    x += 1\n",
    "    File.write(file_string)"
   ]
  },
  {
   "cell_type": "code",
   "execution_count": null,
   "metadata": {
    "collapsed": true
   },
   "outputs": [],
   "source": [
    "#this was the other way\n",
    "\n",
    "\n",
    "    from Bio.Blast import NCBIWWW\n",
    "\n",
    "    with open(\"file.fasta\", \"r\") as fasta_file:\n",
    "        sequences = fasta_file.read()\n",
    "        fasta_file.close()\n",
    "\n",
    "    result_handle = NCBIWWW.qblast(\"blastn\", \"nt\", sequences)\n",
    "    save_result = open(\"blast_result.xml\", \"w\")\n",
    "    save_result.write(result_handle.read())\n",
    "    save_result.close()\n",
    "    result_handle.close()\n",
    "\n"
   ]
  },
  {
   "cell_type": "code",
   "execution_count": 3,
   "metadata": {
    "collapsed": true
   },
   "outputs": [],
   "source": [
    "from Bio.Blast import NCBIWWW\n",
    "\n",
    "with open(\"USH_Search_seq.fasta\", \"r\") as fasta_file:\n",
    "    sequences = fasta_file.read()\n",
    "    fasta_file.close()\n",
    "\n",
    "result_handle = NCBIWWW.qblast(\"blastp\", \"refseq_protein\", sequences, alignments=100, descriptions=100, expect=0.00001, entrez_query=\"txid45351[ORGN]\")\n",
    "save_result = open(\"Multi_gene_blast_result.xml\", \"w\")\n",
    "save_result.write(result_handle.read())\n",
    "save_result.close()\n",
    "result_handle.close()\n",
    "\n",
    "\n"
   ]
  },
  {
   "cell_type": "markdown",
   "metadata": {},
   "source": [
    "Well that worked fine."
   ]
  },
  {
   "cell_type": "markdown",
   "metadata": {},
   "source": [
    "Now to adapt it to the taxa searching loop"
   ]
  },
  {
   "cell_type": "code",
   "execution_count": null,
   "metadata": {
    "collapsed": true
   },
   "outputs": [],
   "source": [
    "for i in taxa_list:\n",
    "        from Bio.Blast import NCBIWWW\n",
    "        result_handle=NCBIWWW.qblast(\"blastp\", \"refseq_protein\", \"Q495M9.1\",entrez_query = str(i))\n",
    "        file_name=str(\"SANS_fromlist_\"+str(i)+\".xml\")\n",
    "        save_file=open(file_name, \"w\")  #we are opening a file that does not yet exist to write to it\n",
    "        save_file.write(result_handle.read())  #writing the result of our blast search to local file\n",
    "        save_file.close() #closing it to allow the file to actually write it\n",
    "        result_handle.close() #close the results handle"
   ]
  },
  {
   "cell_type": "code",
   "execution_count": null,
   "metadata": {
    "collapsed": true
   },
   "outputs": [],
   "source": []
  },
  {
   "cell_type": "code",
   "execution_count": null,
   "metadata": {
    "collapsed": true
   },
   "outputs": [],
   "source": []
  },
  {
   "cell_type": "code",
   "execution_count": null,
   "metadata": {
    "collapsed": true
   },
   "outputs": [],
   "source": []
  },
  {
   "cell_type": "code",
   "execution_count": null,
   "metadata": {
    "collapsed": true
   },
   "outputs": [],
   "source": []
  },
  {
   "cell_type": "code",
   "execution_count": null,
   "metadata": {
    "collapsed": true
   },
   "outputs": [],
   "source": [
    "from Bio.Blast import NCBIWWW\n",
    "\n",
    "with open(\"USH_Search_seq.fasta\", \"r\") as fasta_file:\n",
    "    sequences = fasta_file.read()\n",
    "    fasta_file.close()\n",
    "\n",
    "result_handle = NCBIWWW.qblast(\"blastp\", \"refseq_protein\", sequences, alignments=100, descriptions=100, expect=0.00001, entrez_query=\"txid45351[ORGN]\")\n",
    "save_result = open(\"Multi_gene_blast_result.xml\", \"w\")\n",
    "save_result.write(result_handle.read())\n",
    "save_result.close()\n",
    "result_handle.close()"
   ]
  },
  {
   "cell_type": "code",
   "execution_count": null,
   "metadata": {
    "collapsed": true
   },
   "outputs": [],
   "source": []
  },
  {
   "cell_type": "markdown",
   "metadata": {},
   "source": [
    "# HERE WE GO!!!!!!!!!!!!!!!!!!!!!\n",
    "\n",
    "aka now to run the sample"
   ]
  },
  {
   "cell_type": "code",
   "execution_count": 10,
   "metadata": {
    "collapsed": true
   },
   "outputs": [],
   "source": [
    "def search_taxa_all_gene(list_of_taxa):\n",
    "    #takes a list of taxa and will run blast for sequences contained in a file\n",
    "    #will loop through the list and run blast for each one\n",
    "    #will save each result to a separate xml file\n",
    "    from Bio.Blast import NCBIWWW\n",
    "        #imports the NCBIWWW module from Biopython\n",
    "    \n",
    "    with open(\"USH_Search_seq.fasta\", \"r\") as fasta_file:\n",
    "        sequences = fasta_file.read()\n",
    "        fasta_file.close()\n",
    "        #reads in the file we will be searching\n",
    "        \n",
    "    for i in list_of_taxa:\n",
    "        result_handle = NCBIWWW.qblast(\"blastp\", \"refseq_protein\", sequences, alignments=100, descriptions=100, expect=0.00001, entrez_query=str(i))\n",
    "        file_name=str(\"USH_Search_\"+str(i)+\".xml\") #this creates a name for the file\n",
    "        save_file=open(file_name, \"w\")  #we are opening a file that does not yet exist to write to it\n",
    "        save_file.write(result_handle.read())  #writing the result of our blast search to local file\n",
    "        save_file.close() #closing it to allow the file to actually write it\n",
    "        result_handle.close() #close the results handle\n",
    "        "
   ]
  },
  {
   "cell_type": "code",
   "execution_count": 11,
   "metadata": {
    "collapsed": true
   },
   "outputs": [],
   "source": [
    "taxa_list=[\"txid81824[ORGN]\", \"txid44689[ORGN]\", \"txid946362[ORGN]\", \"txid529818[ORGN]\", \"txid192875[ORGN]\", \"txid10228[ORGN]\", \"txid400682[ORGN]\", \"txid9606[ORGN]\", \"txid45351[ORGN]\", \"txid6087[ORGN]\", \"txid7668[ORGN]\", \"txid6239[ORGN]\", \"txid7227[ORGN]\", \"txid37653[ORGN]\", \"txid10228[ORGN]\", \"txid400682[ORGN]\", \"txid7574[ORGN]\"]"
   ]
  },
  {
   "cell_type": "code",
   "execution_count": null,
   "metadata": {
    "collapsed": true
   },
   "outputs": [],
   "source": [
    "search_taxa_all_gene(taxa_list)"
   ]
  },
  {
   "cell_type": "markdown",
   "metadata": {},
   "source": [
    "I Hope it works!"
   ]
  },
  {
   "cell_type": "markdown",
   "metadata": {},
   "source": [
    "There seems to be some problem when I do anything on the computer besides just leave it here doing its thing.\n",
    "i.e when I use the terminal to check out files with ls-l or edit a file,\n",
    "maybe I should set up a safe folder in my directory and let it chug through overnight"
   ]
  },
  {
   "cell_type": "code",
   "execution_count": 6,
   "metadata": {
    "collapsed": false,
    "scrolled": true
   },
   "outputs": [
    {
     "name": "stdout",
     "output_type": "stream",
     "text": [
      "Help on function qblast in module Bio.Blast.NCBIWWW:\n",
      "\n",
      "qblast(program, database, sequence, url_base='https://blast.ncbi.nlm.nih.gov/Blast.cgi', auto_format=None, composition_based_statistics=None, db_genetic_code=None, endpoints=None, entrez_query='(none)', expect=10.0, filter=None, gapcosts=None, genetic_code=None, hitlist_size=50, i_thresh=None, layout=None, lcase_mask=None, matrix_name=None, nucl_penalty=None, nucl_reward=None, other_advanced=None, perc_ident=None, phi_pattern=None, query_file=None, query_believe_defline=None, query_from=None, query_to=None, searchsp_eff=None, service=None, threshold=None, ungapped_alignment=None, word_size=None, alignments=500, alignment_view=None, descriptions=500, entrez_links_new_window=None, expect_low=None, expect_high=None, format_entrez_query=None, format_object=None, format_type='XML', ncbi_gi=None, results_file=None, show_overview=None, megablast=None)\n",
      "    Do a BLAST search using the QBLAST server at NCBI or a cloud service\n",
      "    provider.\n",
      "    \n",
      "    Supports all parameters of the qblast API for Put and Get.\n",
      "    \n",
      "    Please note that BLAST on the cloud supports the NCBI-BLAST Common\n",
      "    URL API (http://ncbi.github.io/blast-cloud/dev/api.html). To\n",
      "    use this feature, please set url_base to\n",
      "    'http://host.my.cloud.service.provider.com/cgi-bin/blast.cgi' and\n",
      "    format_object='Alignment'. For more details, please see\n",
      "    https://blast.ncbi.nlm.nih.gov/Blast.cgi?PAGE_TYPE=BlastDocs&DOC_TYPE=CloudBlast\n",
      "    \n",
      "    Some useful parameters:\n",
      "    \n",
      "     - program        blastn, blastp, blastx, tblastn, or tblastx (lower case)\n",
      "     - database       Which database to search against (e.g. \"nr\").\n",
      "     - sequence       The sequence to search.\n",
      "     - ncbi_gi        TRUE/FALSE whether to give 'gi' identifier.\n",
      "     - descriptions   Number of descriptions to show.  Def 500.\n",
      "     - alignments     Number of alignments to show.  Def 500.\n",
      "     - expect         An expect value cutoff.  Def 10.0.\n",
      "     - matrix_name    Specify an alt. matrix (PAM30, PAM70, BLOSUM80, BLOSUM45).\n",
      "     - filter         \"none\" turns off filtering.  Default no filtering\n",
      "     - format_type    \"HTML\", \"Text\", \"ASN.1\", or \"XML\".  Def. \"XML\".\n",
      "     - entrez_query   Entrez query to limit Blast search\n",
      "     - hitlist_size   Number of hits to return. Default 50\n",
      "     - megablast      TRUE/FALSE whether to use MEga BLAST algorithm (blastn only)\n",
      "     - service        plain, psi, phi, rpsblast, megablast (lower case)\n",
      "    \n",
      "    This function does no checking of the validity of the parameters\n",
      "    and passes the values to the server as is.  More help is available at:\n",
      "    http://www.ncbi.nlm.nih.gov/BLAST/Doc/urlapi.html\n",
      "\n"
     ]
    }
   ],
   "source": [
    "help(NCBIWWW.qblast)"
   ]
  },
  {
   "cell_type": "code",
   "execution_count": null,
   "metadata": {
    "collapsed": true
   },
   "outputs": [],
   "source": []
  }
 ],
 "metadata": {
  "anaconda-cloud": {},
  "kernelspec": {
   "display_name": "Python [default]",
   "language": "python",
   "name": "python3"
  },
  "language_info": {
   "codemirror_mode": {
    "name": "ipython",
    "version": 3
   },
   "file_extension": ".py",
   "mimetype": "text/x-python",
   "name": "python",
   "nbconvert_exporter": "python",
   "pygments_lexer": "ipython3",
   "version": "3.5.2"
  }
 },
 "nbformat": 4,
 "nbformat_minor": 2
}
