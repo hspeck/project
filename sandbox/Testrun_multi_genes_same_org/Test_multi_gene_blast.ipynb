{
 "cells": [
  {
   "cell_type": "markdown",
   "metadata": {},
   "source": [
    "#this is how the online folds said to try it\n",
    "\n",
    "fasta_string = open(\"m_cold.fasta\").read()\n"
   ]
  },
  {
   "cell_type": "code",
   "execution_count": 1,
   "metadata": {
    "collapsed": true
   },
   "outputs": [],
   "source": [
    "from Bio.Blast import  NCBIWWW"
   ]
  },
  {
   "cell_type": "code",
   "execution_count": null,
   "metadata": {
    "collapsed": true
   },
   "outputs": [],
   "source": [
    "from Bio.Blast import  NCBIWWW\n",
    "from Bio.Blast import NCBIXML\n",
    "file_string = \"\"    \n",
    "x = 1\n",
    "\n",
    "fasta_files = [fasta1, fasta2, fasta3, fasta4]\n",
    "for i in fasta_files:\n",
    "    File = open(\"output\"+x+\".txt\",\"w\")\n",
    "    fasta_string = open(i+\".fasta\").read() #or make the names fasta1.fasta and just do open(i).read\n",
    "    result_handle = NCBIWWW.qblast(\"blastn\", \"nr\", fasta_string, hitlist_size=10)\n",
    "\n",
    "    blast_records = NCBIXML.parse(result_handle) \n",
    "    #or blast_record = NCBIXML.read(result_handle) if you only have one seq in file\n",
    "    E_VALUE_THRESH = 0.001\n",
    "    for blast_record in blast_records:\n",
    "        for alignment in blast_record.alignments:\n",
    "            for hsp in alignment.hsps:\n",
    "                if hsp.expect < E_VALUE_THRESH:\n",
    "                   file_string += \"alignment:\",alignment.title+\"\\n\"\n",
    "                   file_string += \"e-value:\",hsp.expect+\"\\n\"\n",
    "    x += 1\n",
    "    File.write(file_string)"
   ]
  },
  {
   "cell_type": "code",
   "execution_count": null,
   "metadata": {
    "collapsed": true
   },
   "outputs": [],
   "source": [
    "#this was the other way\n",
    "\n",
    "\n",
    "    from Bio.Blast import NCBIWWW\n",
    "\n",
    "    with open(\"file.fasta\", \"r\") as fasta_file:\n",
    "        sequences = fasta_file.read()\n",
    "        fasta_file.close()\n",
    "\n",
    "    result_handle = NCBIWWW.qblast(\"blastn\", \"nt\", sequences)\n",
    "    save_result = open(\"blast_result.xml\", \"w\")\n",
    "    save_result.write(result_handle.read())\n",
    "    save_result.close()\n",
    "    result_handle.close()\n",
    "\n"
   ]
  },
  {
   "cell_type": "code",
   "execution_count": 3,
   "metadata": {
    "collapsed": true
   },
   "outputs": [],
   "source": [
    "from Bio.Blast import NCBIWWW\n",
    "\n",
    "with open(\"USH_Search_seq.fasta\", \"r\") as fasta_file:\n",
    "    sequences = fasta_file.read()\n",
    "    fasta_file.close()\n",
    "\n",
    "result_handle = NCBIWWW.qblast(\"blastp\", \"refseq_protein\", sequences, alignments=100, descriptions=100, expect=0.00001, entrez_query=\"txid45351[ORGN]\")\n",
    "save_result = open(\"Multi_gene_blast_result.xml\", \"w\")\n",
    "save_result.write(result_handle.read())\n",
    "save_result.close()\n",
    "result_handle.close()\n",
    "\n",
    "\n"
   ]
  },
  {
   "cell_type": "markdown",
   "metadata": {},
   "source": [
    "Well that worked fine."
   ]
  },
  {
   "cell_type": "code",
   "execution_count": null,
   "metadata": {
    "collapsed": false
   },
   "outputs": [],
   "source": [
    "Now to adapt it to the taxa searching loop"
   ]
  },
  {
   "cell_type": "code",
   "execution_count": null,
   "metadata": {
    "collapsed": true
   },
   "outputs": [],
   "source": [
    "from Bio.Blast import NCBIWWW\n",
    "\n",
    "with open(\"USH_Search_seq.fasta\", \"r\") as fasta_file:\n",
    "    sequences = fasta_file.read()\n",
    "    fasta_file.close()\n",
    "\n",
    "result_handle = NCBIWWW.qblast(\"blastp\", \"refseq_protein\", sequences, alignments=100, descriptions=100, expect=0.00001, entrez_query=\"txid45351[ORGN]\")\n",
    "save_result = open(\"Multi_gene_blast_result.xml\", \"w\")\n",
    "save_result.write(result_handle.read())\n",
    "save_result.close()\n",
    "result_handle.close()"
   ]
  }
 ],
 "metadata": {
  "anaconda-cloud": {},
  "kernelspec": {
   "display_name": "Python [default]",
   "language": "python",
   "name": "python3"
  },
  "language_info": {
   "codemirror_mode": {
    "name": "ipython",
    "version": 3
   },
   "file_extension": ".py",
   "mimetype": "text/x-python",
   "name": "python",
   "nbconvert_exporter": "python",
   "pygments_lexer": "ipython3",
   "version": "3.5.2"
  }
 },
 "nbformat": 4,
 "nbformat_minor": 2
}
