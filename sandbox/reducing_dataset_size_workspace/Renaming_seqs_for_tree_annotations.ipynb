{
 "cells": [
  {
   "cell_type": "code",
   "execution_count": 2,
   "metadata": {
    "collapsed": false
   },
   "outputs": [
    {
     "data": {
      "text/plain": [
       "['>XP_004989574.1 hypothetical protein PTSG_09316 [Salpingoeca rosetta]\\n',\n",
       " '>XP_004992504.1 hypothetical protein PTSG_07089 [Salpingoeca rosetta]\\n',\n",
       " '>XP_004995884.1 PSD-95 alpha [Salpingoeca rosetta]\\n',\n",
       " '>XP_004345405.1 hypothetical protein CAOG_05815 [Capsaspora owczarzaki ATCC 30864]\\n',\n",
       " '>XP_004349749.1 postsynaptic density protein [Capsaspora owczarzaki ATCC 30864]\\n',\n",
       " '>XP_004363324.1 hypothetical protein CAOG_03596 [Capsaspora owczarzaki ATCC 30864]\\n',\n",
       " '>XP_002113893.1 hypothetical protein TRIADDRAFT_27973, partial [Trichoplax adhaerens]\\n',\n",
       " '>XP_002108800.1 hypothetical protein TRIADDRAFT_63520 [Trichoplax adhaerens]\\n',\n",
       " '>XP_002115041.1 hypothetical protein TRIADDRAFT_59148 [Trichoplax adhaerens]\\n',\n",
       " '>NP_056219.3 whirlin isoform 1 [Homo sapiens]\\n',\n",
       " '>NP_001166896.1 whirlin isoform 3 [Homo sapiens]\\n',\n",
       " '>XP_011516786.1 PREDICTED: whirlin isoform X1 [Homo sapiens]\\n',\n",
       " '>XP_001636307.1 predicted protein, partial [Nematostella vectensis]\\n',\n",
       " '>XP_001640745.1 predicted protein, partial [Nematostella vectensis]\\n',\n",
       " '>XP_001639780.1 predicted protein [Nematostella vectensis]\\n',\n",
       " '>XP_002158118.2 PREDICTED: whirlin-like, partial [Hydra vulgaris]\\n',\n",
       " '>XP_012554457.1 PREDICTED: myosin-1-like [Hydra vulgaris]\\n',\n",
       " '>XP_012559552.1 PREDICTED: protein scribble homolog isoform X2 [Hydra vulgaris]\\n',\n",
       " '>XP_011676653.1 PREDICTED: whirlin isoform X2 [Strongylocentrotus purpuratus]\\n',\n",
       " '>XP_793549.3 PREDICTED: whirlin isoform X1 [Strongylocentrotus purpuratus]\\n',\n",
       " '>XP_011681349.1 PREDICTED: harmonin-like, partial [Strongylocentrotus purpuratus]\\n',\n",
       " '>NP_001024431.1 Drosophila Discs LarGe homolog [Caenorhabditis elegans]\\n',\n",
       " '>NP_001255581.1 MAGI (Membrane Associated Guanylate kinase Inverted) homolog [Caenorhabditis elegans]\\n',\n",
       " '>NP_001255579.1 MAGI (Membrane Associated Guanylate kinase Inverted) homolog [Caenorhabditis elegans]\\n',\n",
       " '>NP_001261813.1 dyschronic, isoform J [Drosophila melanogaster]\\n',\n",
       " '>NP_001137946.1 dyschronic, isoform F [Drosophila melanogaster]\\n',\n",
       " '>NP_001137947.1 dyschronic, isoform E [Drosophila melanogaster]\\n',\n",
       " '>XP_014767796.1 PREDICTED: harmonin-like, partial [Octopus bimaculoides]\\n',\n",
       " '>XP_014778177.1 PREDICTED: whirlin-like [Octopus bimaculoides]\\n',\n",
       " '>XP_014784184.1 PREDICTED: disks large homolog 4-like [Octopus bimaculoides]\\n',\n",
       " '>XP_003385034.3 PREDICTED: titin homolog isoform X1 [Amphimedon queenslandica]\\n',\n",
       " '>XP_003386574.1 PREDICTED: whirlin-like [Amphimedon queenslandica]\\n',\n",
       " '>XP_019849791.1 PREDICTED: golgin subfamily A member 6-like protein 22 isoform X2 [Amphimedon queenslandica]\\n']"
      ]
     },
     "execution_count": 2,
     "metadata": {},
     "output_type": "execute_result"
    }
   ],
   "source": [
    "WHRN_annotations = open(\"WHRN_tiny_annotations.txt\", \"r\").readlines()\n",
    "WHRN_annotations"
   ]
  },
  {
   "cell_type": "code",
   "execution_count": 6,
   "metadata": {
    "collapsed": false
   },
   "outputs": [],
   "source": [
    "taxa_Dict ={}\n",
    "taxa_Dict={\"Amp_que\": \"Porifera\",\n",
    "           \"Sal_ros\": \"Choanoflagellate\",\n",
    "           \"Cae_ele\": \"Protostome\",\n",
    "           \"Dro_mel\": \"Protostome\",\n",
    "           \"Cap_owc\":\"Holozoa\", \n",
    "           \"Hyd_vul\": \"Cnidaria\",\n",
    "           \"Nem_vec\": \"Cnidaria\",\n",
    "           \"Oct_bim\": \"Protostome\",\n",
    "           \"Tri_adh\": \"Placozoa\",\n",
    "           \"Hom_sap\": \"Deuterostome\",\n",
    "           \"Str_pur\": \"Deuterostome\"}\n",
    "\n",
    "\n"
   ]
  },
  {
   "cell_type": "code",
   "execution_count": 7,
   "metadata": {
    "collapsed": false
   },
   "outputs": [],
   "source": [
    "name_file= open(\"WHRN_gene&sci&annotation.txt\", \"w\")\n",
    "for line in WHRN_annotations:\n",
    "    #this handles formating of names\n",
    "    #there are essentially a number of formats the genes can be name in, os it makes the naming process a bit tricky\n",
    "    \n",
    "    sequence_id = line.split(\" \")[0].replace(\">\", \"\")\n",
    "    #split the sequence ID out and get rid of FASTA formating\n",
    "    \n",
    "    \n",
    "    formated_org = line.split(\"[\")[1].split(' ')\n",
    "    genus_code = formated_org[0][:3]\n",
    "    genus = formated_org[0]\n",
    "    species_code = formated_org[1][:3]\n",
    "    final_org_name = genus_code + \"_\" + species_code\n",
    "    #splits out the genus and species\n",
    "    \n",
    "    taxa_group = taxa_Dict[final_org_name]\n",
    "    #assigns the species to a broad taxonomic division \n",
    "    \n",
    "    gene_annotation_slice = line.split(\"[\")[0].split(\" \")[1:]\n",
    "    if \"PREDICTED:\" in gene_annotation_slice:\n",
    "        if \"-like\" in gene_annotation_slice:\n",
    "            gene_annotation = gene_annotation_slice[0].replace(\" \", \"\")\n",
    "        else:\n",
    "            gene_annotation = gene_annotation_slice[1:3]\n",
    "    elif \"Drosophila\" in gene_annotation_slice:\n",
    "        gene_annotation = gene_annotation_slice[1:3]\n",
    "    else:\n",
    "        gene_annotation = gene_annotation_slice[0:1]\n",
    "    gene_annotation_final = \"_\".join(gene_annotation).replace(\",\", \"\")\n",
    "    #cuts down the gene annoatation names to make them more manageable\n",
    "    #problematic as the gene names do not conform to a single format that makes them easily parsable\n",
    "    #have to switch between formats\n",
    "    \n",
    "    combined_name = '\"' +final_org_name + \" \" + gene_annotation_final + '\"'\n",
    "    genus_and_gene = '\"' +genus + \" \" + gene_annotation_final + '\"'\n",
    "    \n",
    "    name_file.write(sequence_id+\",\"+\n",
    "                    final_org_name+\",\"+\n",
    "                    gene_annotation_final+\",\"+ \n",
    "                    taxa_group+ \",\"+ \n",
    "                    combined_name+ \",\" +\n",
    "                    genus_and_gene+'\\n')\n",
    "    #Writes it to the file\n",
    "    \n",
    "name_file.close()\n",
    "    \n",
    "    \n",
    "    \n"
   ]
  },
  {
   "cell_type": "code",
   "execution_count": 60,
   "metadata": {
    "collapsed": true
   },
   "outputs": [],
   "source": [
    "name_file= open(\"WHRN_gene&sci_names.txt\", \"w\")\n",
    "for line in WHRN_annotations:\n",
    "    sequence_id = line.split(\" \")[0].replace(\">\", \"\")\n",
    "    formated_org = line.split(\"[\")[1].split(' ')\n",
    "    genus_code = formated_org[0][:3]\n",
    "    species_code = formated_org[1][:3]\n",
    "    name_file.write(sequence_id+\",\"+genus_code+\"_\"+species_code+'\\n')\n",
    "name_file.close()"
   ]
  },
  {
   "cell_type": "code",
   "execution_count": 51,
   "metadata": {
    "collapsed": false
   },
   "outputs": [
    {
     "name": "stdout",
     "output_type": "stream",
     "text": [
      "hypothetical\n",
      "hypothetical\n",
      "PSD-95\n",
      "hypothetical\n",
      "postsynaptic\n",
      "hypothetical\n",
      "hypothetical\n",
      "hypothetical\n",
      "hypothetical\n",
      "whirlin\n",
      "whirlin\n",
      "whirlin_isoform\n",
      "predicted\n",
      "predicted\n",
      "predicted\n",
      "whirlin-like_partial\n",
      "myosin-1-like_\n",
      "protein_scribble\n",
      "whirlin_isoform\n",
      "whirlin_isoform\n",
      "harmonin-like_partial\n",
      "Discs_LarGe\n",
      "MAGI\n",
      "MAGI\n",
      "dyschronic\n",
      "dyschronic\n",
      "dyschronic\n",
      "harmonin-like_partial\n",
      "whirlin-like_\n",
      "disks_large\n",
      "titin_homolog\n",
      "whirlin-like_\n",
      "golgin_subfamily\n"
     ]
    }
   ],
   "source": [
    "#let's get the gene name annotation\n",
    "for line in WHRN_annotations:\n",
    "    gene_annotation_slice = line.split(\"[\")[0].split(\" \")[1:]\n",
    "    if \"PREDICTED:\" in gene_annotation_slice:\n",
    "        if \"-like\" in gene_annotation_slice:\n",
    "            gene_annotation = gene_annotation_slice[0]\n",
    "        else:\n",
    "            gene_annotation = gene_annotation_slice[1:3]\n",
    "    elif \"Drosophila\" in gene_annotation_slice:\n",
    "        gene_annotation = gene_annotation_slice[1:3]\n",
    "    else:\n",
    "        gene_annotation = gene_annotation_slice[0:1]\n",
    "    print(\"_\".join(gene_annotation).replace(\",\", \"\"))\n",
    "    \n"
   ]
  },
  {
   "cell_type": "code",
   "execution_count": null,
   "metadata": {
    "collapsed": true
   },
   "outputs": [],
   "source": []
  },
  {
   "cell_type": "code",
   "execution_count": null,
   "metadata": {
    "collapsed": true
   },
   "outputs": [],
   "source": []
  }
 ],
 "metadata": {
  "anaconda-cloud": {},
  "kernelspec": {
   "display_name": "Python [default]",
   "language": "python",
   "name": "python3"
  },
  "language_info": {
   "codemirror_mode": {
    "name": "ipython",
    "version": 3
   },
   "file_extension": ".py",
   "mimetype": "text/x-python",
   "name": "python",
   "nbconvert_exporter": "python",
   "pygments_lexer": "ipython3",
   "version": "3.5.2"
  }
 },
 "nbformat": 4,
 "nbformat_minor": 2
}
