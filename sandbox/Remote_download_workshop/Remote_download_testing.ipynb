{
 "cells": [
  {
   "cell_type": "code",
   "execution_count": 1,
   "metadata": {
    "collapsed": true
   },
   "outputs": [],
   "source": [
    "from Bio import Entrez\n",
    "Entrez.email = \"hspeck@ucla.edu\"\n",
    "#should globally set my email fro Entrez purposes"
   ]
  },
  {
   "cell_type": "code",
   "execution_count": 2,
   "metadata": {
    "collapsed": true
   },
   "outputs": [],
   "source": [
    "#testing E info\n",
    "handle = Entrez.einfo()\n",
    "result = handle.read()"
   ]
  },
  {
   "cell_type": "code",
   "execution_count": 3,
   "metadata": {
    "collapsed": false
   },
   "outputs": [
    {
     "name": "stdout",
     "output_type": "stream",
     "text": [
      "<?xml version=\"1.0\" encoding=\"UTF-8\" ?>\n",
      "<!DOCTYPE eInfoResult PUBLIC \"-//NLM//DTD einfo 20130322//EN\" \"https://eutils.ncbi.nlm.nih.gov/eutils/dtd/20130322/einfo.dtd\">\n",
      "<eInfoResult>\n",
      "<DbList>\n",
      "\n",
      "\t<DbName>pubmed</DbName>\n",
      "\t<DbName>protein</DbName>\n",
      "\t<DbName>nuccore</DbName>\n",
      "\t<DbName>nucleotide</DbName>\n",
      "\t<DbName>nucgss</DbName>\n",
      "\t<DbName>nucest</DbName>\n",
      "\t<DbName>structure</DbName>\n",
      "\t<DbName>sparcle</DbName>\n",
      "\t<DbName>genome</DbName>\n",
      "\t<DbName>annotinfo</DbName>\n",
      "\t<DbName>assembly</DbName>\n",
      "\t<DbName>bioproject</DbName>\n",
      "\t<DbName>biosample</DbName>\n",
      "\t<DbName>blastdbinfo</DbName>\n",
      "\t<DbName>books</DbName>\n",
      "\t<DbName>cdd</DbName>\n",
      "\t<DbName>clinvar</DbName>\n",
      "\t<DbName>clone</DbName>\n",
      "\t<DbName>gap</DbName>\n",
      "\t<DbName>gapplus</DbName>\n",
      "\t<DbName>grasp</DbName>\n",
      "\t<DbName>dbvar</DbName>\n",
      "\t<DbName>gene</DbName>\n",
      "\t<DbName>gds</DbName>\n",
      "\t<DbName>geoprofiles</DbName>\n",
      "\t<DbName>homologene</DbName>\n",
      "\t<DbName>medgen</DbName>\n",
      "\t<DbName>mesh</DbName>\n",
      "\t<DbName>ncbisearch</DbName>\n",
      "\t<DbName>nlmcatalog</DbName>\n",
      "\t<DbName>omim</DbName>\n",
      "\t<DbName>orgtrack</DbName>\n",
      "\t<DbName>pmc</DbName>\n",
      "\t<DbName>popset</DbName>\n",
      "\t<DbName>probe</DbName>\n",
      "\t<DbName>proteinclusters</DbName>\n",
      "\t<DbName>pcassay</DbName>\n",
      "\t<DbName>biosystems</DbName>\n",
      "\t<DbName>pccompound</DbName>\n",
      "\t<DbName>pcsubstance</DbName>\n",
      "\t<DbName>pubmedhealth</DbName>\n",
      "\t<DbName>seqannot</DbName>\n",
      "\t<DbName>snp</DbName>\n",
      "\t<DbName>sra</DbName>\n",
      "\t<DbName>taxonomy</DbName>\n",
      "\t<DbName>unigene</DbName>\n",
      "\t<DbName>gencoll</DbName>\n",
      "\t<DbName>gtr</DbName>\n",
      "</DbList>\n",
      "\n",
      "</eInfoResult>\n",
      "\n"
     ]
    }
   ],
   "source": [
    "print(result)"
   ]
  },
  {
   "cell_type": "code",
   "execution_count": 4,
   "metadata": {
    "collapsed": true
   },
   "outputs": [],
   "source": [
    "handle = Entrez.einfo()\n",
    "record = Entrez.read(handle)\n",
    "# this results in a dictionary with one key "
   ]
  },
  {
   "cell_type": "code",
   "execution_count": 5,
   "metadata": {
    "collapsed": false
   },
   "outputs": [
    {
     "data": {
      "text/plain": [
       "dict_keys(['DbList'])"
      ]
     },
     "execution_count": 5,
     "metadata": {},
     "output_type": "execute_result"
    }
   ],
   "source": [
    "record.keys()"
   ]
  },
  {
   "cell_type": "code",
   "execution_count": 7,
   "metadata": {
    "collapsed": false
   },
   "outputs": [
    {
     "data": {
      "text/plain": [
       "['pubmed', 'protein', 'nuccore', 'nucleotide', 'nucgss', 'nucest', 'structure', 'sparcle', 'genome', 'annotinfo', 'assembly', 'bioproject', 'biosample', 'blastdbinfo', 'books', 'cdd', 'clinvar', 'clone', 'gap', 'gapplus', 'grasp', 'dbvar', 'gene', 'gds', 'geoprofiles', 'homologene', 'medgen', 'mesh', 'ncbisearch', 'nlmcatalog', 'omim', 'orgtrack', 'pmc', 'popset', 'probe', 'proteinclusters', 'pcassay', 'biosystems', 'pccompound', 'pcsubstance', 'pubmedhealth', 'seqannot', 'snp', 'sra', 'taxonomy', 'unigene', 'gencoll', 'gtr']"
      ]
     },
     "execution_count": 7,
     "metadata": {},
     "output_type": "execute_result"
    }
   ],
   "source": [
    "record[\"DbList\"]\n",
    " "
   ]
  },
  {
   "cell_type": "code",
   "execution_count": null,
   "metadata": {
    "collapsed": true
   },
   "outputs": [],
   "source": [
    "#can get more info about each db with specifying the db\\\n",
    "# e.g. handle = Entrez.einfo(db =\"pubmed\")\n",
    "# will give info on pubmed, gives one key \"DbInfo\"\n",
    "#can then specify whcih section to check, eg \"Count\", \"LastUpdate\""
   ]
  },
  {
   "cell_type": "markdown",
   "metadata": {},
   "source": [
    "# ESearch"
   ]
  },
  {
   "cell_type": "code",
   "execution_count": 8,
   "metadata": {
    "collapsed": false
   },
   "outputs": [
    {
     "data": {
      "text/plain": [
       "['28011774', '24929426', '24497503', '24267035', '24194598', '23842806', '23157543', '22909249', '22399473', '21666252', '21210977', '20015970', '19811691', '19773334', '19304878', '18606172', '21585724', '16403221', '16377612', '14871861']"
      ]
     },
     "execution_count": 8,
     "metadata": {},
     "output_type": "execute_result"
    }
   ],
   "source": [
    "handle = Entrez.esearch(db = \"pubmed\", term = \"biopython\")\n",
    "record = Entrez.read(handle)\n",
    "record[\"IdList\"]"
   ]
  },
  {
   "cell_type": "code",
   "execution_count": 9,
   "metadata": {
    "collapsed": false
   },
   "outputs": [
    {
     "data": {
      "text/plain": [
       "'348'"
      ]
     },
     "execution_count": 9,
     "metadata": {},
     "output_type": "execute_result"
    }
   ],
   "source": [
    ">>> handle = Entrez.esearch(db=\"nucleotide\", term=\"Cypripedioideae[Orgn] AND matK[Gene]\")\n",
    ">>> record = Entrez.read(handle)\n",
    ">>> record[\"Count\"]"
   ]
  },
  {
   "cell_type": "code",
   "execution_count": 10,
   "metadata": {
    "collapsed": false
   },
   "outputs": [
    {
     "data": {
      "text/plain": [
       "['402502985', '402502983', '402502981', '402502979', '402502977', '402502975', '402502973', '402502971', '402502969', '402502967', '402502965', '402502963', '402502961', '402502959', '402502957', '402502955', '402502953', '402502951', '402502949', '402502947']"
      ]
     },
     "execution_count": 10,
     "metadata": {},
     "output_type": "execute_result"
    }
   ],
   "source": [
    ">>> record[\"IdList\"]\n"
   ]
  },
  {
   "cell_type": "markdown",
   "metadata": {},
   "source": [
    "# EPost"
   ]
  },
  {
   "cell_type": "code",
   "execution_count": 11,
   "metadata": {
    "collapsed": false
   },
   "outputs": [
    {
     "name": "stdout",
     "output_type": "stream",
     "text": [
      "<?xml version=\"1.0\" encoding=\"UTF-8\" ?>\n",
      "<!DOCTYPE ePostResult PUBLIC \"-//NLM//DTD epost 20090526//EN\" \"https://eutils.ncbi.nlm.nih.gov/eutils/dtd/20090526/epost.dtd\"><ePostResult>\n",
      "\t<QueryKey>1</QueryKey>\n",
      "\t<WebEnv>NCID_1_216941586_130.14.18.34_9001_1488766203_1195597009_0MetA0_S_MegaStore_F_1</WebEnv>\n",
      "</ePostResult>\n",
      "\n"
     ]
    }
   ],
   "source": [
    ">>> id_list = [\"19304878\", \"18606172\", \"16403221\", \"16377612\", \"14871861\", \"14630660\"]\n",
    ">>> print(Entrez.epost(\"pubmed\", id=\",\".join(id_list)).read())"
   ]
  },
  {
   "cell_type": "code",
   "execution_count": 12,
   "metadata": {
    "collapsed": true
   },
   "outputs": [],
   "source": [
    ">>> search_results = Entrez.read(Entrez.epost(\"pubmed\", id=\",\".join(id_list)))\n",
    "#this posts the result internally, by joining the id_list we have into the proper format\n",
    "# the URL Posted will have the searched IDs and the database to search\n",
    "#assigns this to a dictionary search results\n",
    ">>> webenv = search_results[\"WebEnv\"]\n",
    ">>> query_key = search_results[\"QueryKey\"]"
   ]
  },
  {
   "cell_type": "code",
   "execution_count": 13,
   "metadata": {
    "collapsed": false
   },
   "outputs": [
    {
     "data": {
      "text/plain": [
       "'NCID_1_216985933_130.14.18.34_9001_1488766423_2077927924_0MetA0_S_MegaStore_F_1'"
      ]
     },
     "execution_count": 13,
     "metadata": {},
     "output_type": "execute_result"
    }
   ],
   "source": [
    "webenv"
   ]
  },
  {
   "cell_type": "code",
   "execution_count": 14,
   "metadata": {
    "collapsed": false
   },
   "outputs": [
    {
     "data": {
      "text/plain": [
       "'1'"
      ]
     },
     "execution_count": 14,
     "metadata": {},
     "output_type": "execute_result"
    }
   ],
   "source": [
    "query_key"
   ]
  },
  {
   "cell_type": "markdown",
   "metadata": {},
   "source": [
    "# E Fetch\n"
   ]
  },
  {
   "cell_type": "code",
   "execution_count": 15,
   "metadata": {
    "collapsed": false,
    "scrolled": true
   },
   "outputs": [
    {
     "name": "stdout",
     "output_type": "stream",
     "text": [
      "LOCUS       EU490707                1302 bp    DNA     linear   PLN 26-JUL-2016\n",
      "DEFINITION  Selenipedium aequinoctiale maturase K (matK) gene, partial cds;\n",
      "            chloroplast.\n",
      "ACCESSION   EU490707\n",
      "VERSION     EU490707.1\n",
      "KEYWORDS    .\n",
      "SOURCE      chloroplast Selenipedium aequinoctiale\n",
      "  ORGANISM  Selenipedium aequinoctiale\n",
      "            Eukaryota; Viridiplantae; Streptophyta; Embryophyta; Tracheophyta;\n",
      "            Spermatophyta; Magnoliophyta; Liliopsida; Asparagales; Orchidaceae;\n",
      "            Cypripedioideae; Selenipedium.\n",
      "REFERENCE   1  (bases 1 to 1302)\n",
      "  AUTHORS   Neubig,K.M., Whitten,W.M., Carlsward,B.S., Blanco,M.A., Endara,L.,\n",
      "            Williams,N.H. and Moore,M.\n",
      "  TITLE     Phylogenetic utility of ycf1 in orchids: a plastid gene more\n",
      "            variable than matK\n",
      "  JOURNAL   Plant Syst. Evol. 277 (1-2), 75-84 (2009)\n",
      "REFERENCE   2  (bases 1 to 1302)\n",
      "  AUTHORS   Neubig,K.M., Whitten,W.M., Carlsward,B.S., Blanco,M.A.,\n",
      "            Endara,C.L., Williams,N.H. and Moore,M.J.\n",
      "  TITLE     Direct Submission\n",
      "  JOURNAL   Submitted (14-FEB-2008) Department of Botany, University of\n",
      "            Florida, 220 Bartram Hall, Gainesville, FL 32611-8526, USA\n",
      "FEATURES             Location/Qualifiers\n",
      "     source          1..1302\n",
      "                     /organism=\"Selenipedium aequinoctiale\"\n",
      "                     /organelle=\"plastid:chloroplast\"\n",
      "                     /mol_type=\"genomic DNA\"\n",
      "                     /specimen_voucher=\"FLAS:Blanco 2475\"\n",
      "                     /db_xref=\"taxon:256374\"\n",
      "     gene            <1..>1302\n",
      "                     /gene=\"matK\"\n",
      "     CDS             <1..>1302\n",
      "                     /gene=\"matK\"\n",
      "                     /codon_start=1\n",
      "                     /transl_table=11\n",
      "                     /product=\"maturase K\"\n",
      "                     /protein_id=\"ACC99456.1\"\n",
      "                     /translation=\"IFYEPVEIFGYDNKSSLVLVKRLITRMYQQNFLISSVNDSNQKG\n",
      "                     FWGHKHFFSSHFSSQMVSEGFGVILEIPFSSQLVSSLEEKKIPKYQNLRSIHSIFPFL\n",
      "                     EDKFLHLNYVSDLLIPHPIHLEILVQILQCRIKDVPSLHLLRLLFHEYHNLNSLITSK\n",
      "                     KFIYAFSKRKKRFLWLLYNSYVYECEYLFQFLRKQSSYLRSTSSGVFLERTHLYVKIE\n",
      "                     HLLVVCCNSFQRILCFLKDPFMHYVRYQGKAILASKGTLILMKKWKFHLVNFWQSYFH\n",
      "                     FWSQPYRIHIKQLSNYSFSFLGYFSSVLENHLVVRNQMLENSFIINLLTKKFDTIAPV\n",
      "                     ISLIGSLSKAQFCTVLGHPISKPIWTDFSDSDILDRFCRICRNLCRYHSGSSKKQVLY\n",
      "                     RIKYILRLSCARTLARKHKSTVRTFMRRLGSGLLEEFFMEEE\"\n",
      "ORIGIN      \n",
      "        1 attttttacg aacctgtgga aatttttggt tatgacaata aatctagttt agtacttgtg\n",
      "       61 aaacgtttaa ttactcgaat gtatcaacag aattttttga tttcttcggt taatgattct\n",
      "      121 aaccaaaaag gattttgggg gcacaagcat tttttttctt ctcatttttc ttctcaaatg\n",
      "      181 gtatcagaag gttttggagt cattctggaa attccattct cgtcgcaatt agtatcttct\n",
      "      241 cttgaagaaa aaaaaatacc aaaatatcag aatttacgat ctattcattc aatatttccc\n",
      "      301 tttttagaag acaaattttt acatttgaat tatgtgtcag atctactaat accccatccc\n",
      "      361 atccatctgg aaatcttggt tcaaatcctt caatgccgga tcaaggatgt tccttctttg\n",
      "      421 catttattgc gattgctttt ccacgaatat cataatttga atagtctcat tacttcaaag\n",
      "      481 aaattcattt acgccttttc aaaaagaaag aaaagattcc tttggttact atataattct\n",
      "      541 tatgtatatg aatgcgaata tctattccag tttcttcgta aacagtcttc ttatttacga\n",
      "      601 tcaacatctt ctggagtctt tcttgagcga acacatttat atgtaaaaat agaacatctt\n",
      "      661 ctagtagtgt gttgtaattc ttttcagagg atcctatgct ttctcaagga tcctttcatg\n",
      "      721 cattatgttc gatatcaagg aaaagcaatt ctggcttcaa agggaactct tattctgatg\n",
      "      781 aagaaatgga aatttcatct tgtgaatttt tggcaatctt attttcactt ttggtctcaa\n",
      "      841 ccgtatagga ttcatataaa gcaattatcc aactattcct tctcttttct ggggtatttt\n",
      "      901 tcaagtgtac tagaaaatca tttggtagta agaaatcaaa tgctagagaa ttcatttata\n",
      "      961 ataaatcttc tgactaagaa attcgatacc atagccccag ttatttctct tattggatca\n",
      "     1021 ttgtcgaaag ctcaattttg tactgtattg ggtcatccta ttagtaaacc gatctggacc\n",
      "     1081 gatttctcgg attctgatat tcttgatcga ttttgccgga tatgtagaaa tctttgtcgt\n",
      "     1141 tatcacagcg gatcctcaaa aaaacaggtt ttgtatcgta taaaatatat acttcgactt\n",
      "     1201 tcgtgtgcta gaactttggc acggaaacat aaaagtacag tacgcacttt tatgcgaaga\n",
      "     1261 ttaggttcgg gattattaga agaattcttt atggaagaag aa\n",
      "//\n",
      "\n",
      "\n"
     ]
    }
   ],
   "source": [
    ">>> handle = Entrez.efetch(db=\"nucleotide\", id=\"186972394\", rettype=\"gb\", retmode=\"text\")\n",
    ">>> print(handle.read())\n",
    "#assigns output of efetch to handle,\n",
    "    #efetch searches nucleotide db, for id 186972394, returns the data in record view for genbank, and ret mode specifes retrieval mode eg XML or HTML,  plain text?"
   ]
  },
  {
   "cell_type": "code",
   "execution_count": 17,
   "metadata": {
    "collapsed": false
   },
   "outputs": [
    {
     "name": "stdout",
     "output_type": "stream",
     "text": [
      "Parsing...\n",
      "ID: EU490707.1\n",
      "Name: EU490707\n",
      "Description: Selenipedium aequinoctiale maturase K (matK) gene, partial cds; chloroplast.\n",
      "Number of features: 3\n",
      "/source=chloroplast Selenipedium aequinoctiale\n",
      "/organism=Selenipedium aequinoctiale\n",
      "/accessions=['EU490707']\n",
      "/taxonomy=['Eukaryota', 'Viridiplantae', 'Streptophyta', 'Embryophyta', 'Tracheophyta', 'Spermatophyta', 'Magnoliophyta', 'Liliopsida', 'Asparagales', 'Orchidaceae', 'Cypripedioideae', 'Selenipedium']\n",
      "/topology=linear\n",
      "/date=26-JUL-2016\n",
      "/data_file_division=PLN\n",
      "/references=[Reference(title='Phylogenetic utility of ycf1 in orchids: a plastid gene more variable than matK', ...), Reference(title='Direct Submission', ...)]\n",
      "/sequence_version=1\n",
      "/keywords=['']\n",
      "Seq('ATTTTTTACGAACCTGTGGAAATTTTTGGTTATGACAATAAATCTAGTTTAGTA...GAA', IUPACAmbiguousDNA())\n"
     ]
    }
   ],
   "source": [
    "import os\n",
    "from Bio import SeqIO\n",
    "from Bio import Entrez\n",
    "Entrez.email = \"hspeck@ucla.edu\"  # Always tell NCBI who you are\n",
    "filename = \"gi_186972394.gbk\"\n",
    "if not os.path.isfile(filename):\n",
    "    # Downloading...\n",
    "    net_handle = Entrez.efetch(db=\"nucleotide\", id=\"186972394\", rettype=\"gb\", retmode=\"text\")\n",
    "    out_handle = open(filename, \"w\")\n",
    "    out_handle.write(net_handle.read())\n",
    "    out_handle.close()\n",
    "    net_handle.close()\n",
    "    print(\"Saved\")\n",
    "\n",
    "    \n",
    "#this sets the email\n",
    "#creates a filename\n",
    "#don't understand the if not thing\n",
    "    \n",
    "    #creates a net handle, search db, for id blah, wants text and genebank return\n",
    "    #opens a file to write to\n",
    "    #reads the result of the search and writes it to the file\n",
    "    #closes the file\n",
    "    #closes the net handle\n",
    "\n",
    "print(\"Parsing...\")\n",
    "record = SeqIO.read(filename, \"genbank\")\n",
    "print(record)\n",
    "\n",
    "#then reads in the saved file as record, using the genbank read"
   ]
  },
  {
   "cell_type": "code",
   "execution_count": 18,
   "metadata": {
    "collapsed": false
   },
   "outputs": [
    {
     "name": "stdout",
     "output_type": "stream",
     "text": [
      "4387\n"
     ]
    }
   ],
   "source": [
    ">>> from Bio import Entrez\n",
    ">>> Entrez.email = \"hspeck@ucla.edu\"     # Always tell NCBI who you are\n",
    ">>> handle = Entrez.egquery(term=\"Cypripedioideae\")\n",
    ">>> record = Entrez.read(handle)\n",
    ">>> for row in record[\"eGQueryResult\"]:\n",
    "...     if row[\"DbName\"]==\"nuccore\":\n",
    "...         print(row[\"Count\"])"
   ]
  },
  {
   "cell_type": "code",
   "execution_count": 19,
   "metadata": {
    "collapsed": true
   },
   "outputs": [],
   "source": [
    ">>> from Bio import Entrez\n",
    ">>> handle = Entrez.esearch(db=\"nucleotide\", term=\"Cypripedioideae\", retmax=814)\n",
    "# ret max sets limit on number of IDs we want returned\n",
    "\n",
    ">>> record = Entrez.read(handle)\n"
   ]
  },
  {
   "cell_type": "code",
   "execution_count": 20,
   "metadata": {
    "collapsed": false
   },
   "outputs": [
    {
     "name": "stdout",
     "output_type": "stream",
     "text": [
      "dict_keys(['TranslationSet', 'Count', 'QueryTranslation', 'RetStart', 'TranslationStack', 'RetMax', 'IdList'])\n"
     ]
    }
   ],
   "source": [
    "print(record.keys())"
   ]
  },
  {
   "cell_type": "code",
   "execution_count": 21,
   "metadata": {
    "collapsed": false
   },
   "outputs": [
    {
     "name": "stdout",
     "output_type": "stream",
     "text": [
      "4387\n"
     ]
    }
   ],
   "source": [
    "print(record[\"Count\"])"
   ]
  },
  {
   "cell_type": "code",
   "execution_count": 22,
   "metadata": {
    "collapsed": false
   },
   "outputs": [
    {
     "data": {
      "text/plain": [
       "814"
      ]
     },
     "execution_count": 22,
     "metadata": {},
     "output_type": "execute_result"
    }
   ],
   "source": [
    "len(record[\"IdList\"])"
   ]
  },
  {
   "cell_type": "code",
   "execution_count": 23,
   "metadata": {
    "collapsed": false
   },
   "outputs": [
    {
     "name": "stdout",
     "output_type": "stream",
     "text": [
      "1114445103,1114445102,1114445101,1114445100,1114445099\n"
     ]
    }
   ],
   "source": [
    ">>> idlist = \",\".join(record[\"IdList\"][:5])\n",
    ">>> print(idlist)"
   ]
  },
  {
   "cell_type": "code",
   "execution_count": 24,
   "metadata": {
    "collapsed": false
   },
   "outputs": [
    {
     "data": {
      "text/plain": [
       "5"
      ]
     },
     "execution_count": 24,
     "metadata": {},
     "output_type": "execute_result"
    }
   ],
   "source": [
    ">>> handle = Entrez.efetch(db=\"nucleotide\", id=idlist, retmode=\"xml\")\n",
    ">>> records = Entrez.read(handle)\n",
    ">>> len(records)"
   ]
  },
  {
   "cell_type": "code",
   "execution_count": 25,
   "metadata": {
    "collapsed": false
   },
   "outputs": [
    {
     "name": "stdout",
     "output_type": "stream",
     "text": [
      "dict_keys(['GBSeq_update-date', 'GBSeq_taxonomy', 'GBSeq_feature-table', 'GBSeq_division', 'GBSeq_references', 'GBSeq_organism', 'GBSeq_accession-version', 'GBSeq_source', 'GBSeq_strandedness', 'GBSeq_other-seqids', 'GBSeq_moltype', 'GBSeq_locus', 'GBSeq_sequence', 'GBSeq_primary-accession', 'GBSeq_length', 'GBSeq_topology', 'GBSeq_create-date', 'GBSeq_comment', 'GBSeq_definition'])\n"
     ]
    }
   ],
   "source": [
    "print(records[0].keys())"
   ]
  },
  {
   "cell_type": "markdown",
   "metadata": {},
   "source": [
    "# Testing out what works syntax wise\n",
    "using the top result from MyoVII in Nem Vect\n",
    "just one seq at a time\n",
    "testing efetch"
   ]
  },
  {
   "cell_type": "code",
   "execution_count": 26,
   "metadata": {
    "collapsed": false,
    "scrolled": true
   },
   "outputs": [
    {
     "name": "stdout",
     "output_type": "stream",
     "text": [
      ">XP_001627758.1 predicted protein [Nematostella vectensis]\n",
      "MLDERNYHIFYRMLAGMTPKEKALLGLTDVADYYYLTQGNCITCEGMNDAEEFAIIRGAMKVLMFNEVEM\n",
      "MDIFKLVAAILHMGNLEFEGTERKTVDACDIADEDLGDIISKLLETPLEQMKVAFTSKSTFARGEMIFTP\n",
      "VSKDKAKDIRDAFCKGIYGRVFVWIVNKINKAIYKPVNSAAFVVGYSELFNVLFFSFEQLCINYANEHLQ\n",
      "QFFVKHIFKLEQEQYDKEGIRWQHISFVDNQMILDLLAQKPMNIVAIVNEESRFPKGTDTTMLQKLQSNH\n",
      "NDSSLYIPSKNSFDMSFGVRHFAGTVYYDSRGFLEKNRDTFSADLVDLVGSSKSKFLLEIFSKERTMGEE\n",
      "TRKRSPALGAQFKKSLDLLMKTLSRCHPFFVRCIKPNDYKKPMMFDRLLCCRQLRYSGMMETIRIRKAGY\n",
      "PIRHTFAEFIDRYYMLSPDPVQKNLDVSGLKKATNNIAVKYLSNSDWQLGKTKIFLKDAQDQQLEEHRDR\n",
      "LLTSRAILIQKVVRGFLTRKVYLRMRMGAVMIQKTWKGHHQRQKYQKILQGYARLQALYRTRVISAKYQT\n",
      "LRSRVCIFQAYCRGFLARRDYVTRINSVIKIQSGVRMVLAKRTAQGLRVEKKKREEAERIRRRQEEALRE\n",
      "AMAGDEARILADRLYQERLKQMEEEKKREEMLNAEQAQRKKREIEIAEEKARKRREDDDDTESAFELPPP\n",
      "PPDLGVSESCHNSMNCYESIFDEIPPPLEFLDNDHAIDVSEYKFSKFAATYFQGGATPGYIRRPLKQSLL\n",
      "PLNSEADSMAALAVWITILRFMGDLPEPKFITSSVDNKVSHTTGGSSSQFMVSQTFKTNNSTTTSRDRER\n",
      "EKEKDTLRKRIVSLTLKRKSKITKDVTARLKEADESGTLSDGYGPLSAQDKPTTNLEKLHFIIGHGILRK\n",
      "ELRDEIYCQICKQLTGNPSKTSHARGWILLSLCLGCFAPSEKFVKYLWCFIKEGPPGYAPYCEERLRRTQ\n",
      "QNGCRHQPPSWLELQATKSKKPLMLPITFMDGTTKTLLADSATTARELCTQLADKISLLDQFGFSLYIAL\n",
      "FDKVSSLGSGSDHVMDAISQCEQYAKEQGAQERNAPWRLFFRKEIFSPWHDPTMDKIGTNLIYQQVIRGI\n",
      "KFGEYRCDRDDDLAEIAAKEYYVEYGRDMIPDRLSSLLTSYLPEALLQSGRSAHEYWHGMILAAHKRAHY\n",
      "TLSGTEPQLVKEDLVTYARFKWPLLFSRFYEAYQFSGPSLPKNDVIIAVNWTGVYVVDDQEHVLLDLQFP\n",
      "DITSVTSSKTNRLEGSSFTITTVKGDEYTFTSANSEDIRELVQFFLDGLRTRSKYVVTLMDYQSPGESSS\n",
      "FLSFKKGDLIILDSDTGETVLNSGWCSGLCERTVKRGDFPAECVYVLPTTTKPGPESLIAFSDQSSENSE\n",
      "KIIATTKTAIYQEDQETFEKPCTLEAYSVDHFMPPPKRTLSKTLQGGLLERGGGYWTGKRLKKVGGLSNH\n",
      "HIVLQLTFNHYMGDYPSKRSRQATDLTDAIFESALLHEPLRDEVYCQLIKQITENRLPSSFDRGWELLWL\n",
      "CTGIFACSAVLLREVNQIFRSWVSRQPLGHDCLARLQKTIRVGQRKYPPHIVEVEAIQHQTTQIFHKVYF\n",
      "PDDSDQAFEVDSGTKAKEFCNIIAQRLGLKSAEGFSLFVKITDKVISVPEGDFFFDFVRHLTEWLKKAGP\n",
      "TKDGRTPNLTYQVFFMKKLWTNTVVGKDPAADCIFHYHQELPKYLRGYHKCIKEEAAQLAALIYRVKFGE\n",
      "DKSQFQNIPRMVKELIPHDLVKQMSPDEWKRAIVAQFNKHPGRTKSEAKISFLKIIYRWPTFGSAFFEVK\n",
      "QGTEPNFPDNLLIAINKSGVNLINPQTKEILATYPFTKISNWSSGNTYFHMTIGSLVKGSKLLCETSLGY\n",
      "KMDDLLTSYISLMLTNMNKQRKAPALRAVKK\n",
      "\n",
      "\n"
     ]
    }
   ],
   "source": [
    "handle = Entrez.efetch(db=\"protein\", id=\"156368554\", rettype=\"fasta\", retmode=\"text\")\n",
    "print(handle.read())\n",
    "#using the gi # and it works fine"
   ]
  },
  {
   "cell_type": "code",
   "execution_count": 28,
   "metadata": {
    "collapsed": false,
    "scrolled": true
   },
   "outputs": [
    {
     "name": "stdout",
     "output_type": "stream",
     "text": [
      ">XP_001627758.1 predicted protein [Nematostella vectensis]\n",
      "MLDERNYHIFYRMLAGMTPKEKALLGLTDVADYYYLTQGNCITCEGMNDAEEFAIIRGAMKVLMFNEVEM\n",
      "MDIFKLVAAILHMGNLEFEGTERKTVDACDIADEDLGDIISKLLETPLEQMKVAFTSKSTFARGEMIFTP\n",
      "VSKDKAKDIRDAFCKGIYGRVFVWIVNKINKAIYKPVNSAAFVVGYSELFNVLFFSFEQLCINYANEHLQ\n",
      "QFFVKHIFKLEQEQYDKEGIRWQHISFVDNQMILDLLAQKPMNIVAIVNEESRFPKGTDTTMLQKLQSNH\n",
      "NDSSLYIPSKNSFDMSFGVRHFAGTVYYDSRGFLEKNRDTFSADLVDLVGSSKSKFLLEIFSKERTMGEE\n",
      "TRKRSPALGAQFKKSLDLLMKTLSRCHPFFVRCIKPNDYKKPMMFDRLLCCRQLRYSGMMETIRIRKAGY\n",
      "PIRHTFAEFIDRYYMLSPDPVQKNLDVSGLKKATNNIAVKYLSNSDWQLGKTKIFLKDAQDQQLEEHRDR\n",
      "LLTSRAILIQKVVRGFLTRKVYLRMRMGAVMIQKTWKGHHQRQKYQKILQGYARLQALYRTRVISAKYQT\n",
      "LRSRVCIFQAYCRGFLARRDYVTRINSVIKIQSGVRMVLAKRTAQGLRVEKKKREEAERIRRRQEEALRE\n",
      "AMAGDEARILADRLYQERLKQMEEEKKREEMLNAEQAQRKKREIEIAEEKARKRREDDDDTESAFELPPP\n",
      "PPDLGVSESCHNSMNCYESIFDEIPPPLEFLDNDHAIDVSEYKFSKFAATYFQGGATPGYIRRPLKQSLL\n",
      "PLNSEADSMAALAVWITILRFMGDLPEPKFITSSVDNKVSHTTGGSSSQFMVSQTFKTNNSTTTSRDRER\n",
      "EKEKDTLRKRIVSLTLKRKSKITKDVTARLKEADESGTLSDGYGPLSAQDKPTTNLEKLHFIIGHGILRK\n",
      "ELRDEIYCQICKQLTGNPSKTSHARGWILLSLCLGCFAPSEKFVKYLWCFIKEGPPGYAPYCEERLRRTQ\n",
      "QNGCRHQPPSWLELQATKSKKPLMLPITFMDGTTKTLLADSATTARELCTQLADKISLLDQFGFSLYIAL\n",
      "FDKVSSLGSGSDHVMDAISQCEQYAKEQGAQERNAPWRLFFRKEIFSPWHDPTMDKIGTNLIYQQVIRGI\n",
      "KFGEYRCDRDDDLAEIAAKEYYVEYGRDMIPDRLSSLLTSYLPEALLQSGRSAHEYWHGMILAAHKRAHY\n",
      "TLSGTEPQLVKEDLVTYARFKWPLLFSRFYEAYQFSGPSLPKNDVIIAVNWTGVYVVDDQEHVLLDLQFP\n",
      "DITSVTSSKTNRLEGSSFTITTVKGDEYTFTSANSEDIRELVQFFLDGLRTRSKYVVTLMDYQSPGESSS\n",
      "FLSFKKGDLIILDSDTGETVLNSGWCSGLCERTVKRGDFPAECVYVLPTTTKPGPESLIAFSDQSSENSE\n",
      "KIIATTKTAIYQEDQETFEKPCTLEAYSVDHFMPPPKRTLSKTLQGGLLERGGGYWTGKRLKKVGGLSNH\n",
      "HIVLQLTFNHYMGDYPSKRSRQATDLTDAIFESALLHEPLRDEVYCQLIKQITENRLPSSFDRGWELLWL\n",
      "CTGIFACSAVLLREVNQIFRSWVSRQPLGHDCLARLQKTIRVGQRKYPPHIVEVEAIQHQTTQIFHKVYF\n",
      "PDDSDQAFEVDSGTKAKEFCNIIAQRLGLKSAEGFSLFVKITDKVISVPEGDFFFDFVRHLTEWLKKAGP\n",
      "TKDGRTPNLTYQVFFMKKLWTNTVVGKDPAADCIFHYHQELPKYLRGYHKCIKEEAAQLAALIYRVKFGE\n",
      "DKSQFQNIPRMVKELIPHDLVKQMSPDEWKRAIVAQFNKHPGRTKSEAKISFLKIIYRWPTFGSAFFEVK\n",
      "QGTEPNFPDNLLIAINKSGVNLINPQTKEILATYPFTKISNWSSGNTYFHMTIGSLVKGSKLLCETSLGY\n",
      "KMDDLLTSYISLMLTNMNKQRKAPALRAVKK\n",
      "\n",
      "\n"
     ]
    }
   ],
   "source": [
    "#trying with the ref number\n",
    "handle2 = Entrez.efetch(db=\"protein\", id=\"XP_001627758.1\", rettype=\"fasta\", retmode=\"text\")\n",
    "print(handle2.read())\n",
    "# both work fine"
   ]
  },
  {
   "cell_type": "markdown",
   "metadata": {},
   "source": [
    "### ok what if its a list\n",
    "let's try to grab the data we need to make a small test\n"
   ]
  },
  {
   "cell_type": "markdown",
   "metadata": {},
   "source": [
    "Used bast to extract the gi's for Myo from txid 45 what ever (NEM VEct)\n",
    "in the TEst run used the following command to do it\n",
    "in the following directory\n",
    "~/Desktop/eeb-177/project/sandbox/Testrun_multi_genes_same_org/Batch_run_workspace$ \n",
    "\n",
    "```\n",
    "cat txid45351_myosin_VIIA_summary.csv |cut -d \",\" -f 1 | cut -d \":\" -f 2 | sort > entrez_test_mult_queries.txt\n",
    "```"
   ]
  },
  {
   "cell_type": "code",
   "execution_count": null,
   "metadata": {
    "collapsed": true
   },
   "outputs": [],
   "source": []
  }
 ],
 "metadata": {
  "anaconda-cloud": {},
  "kernelspec": {
   "display_name": "Python [default]",
   "language": "python",
   "name": "python3"
  },
  "language_info": {
   "codemirror_mode": {
    "name": "ipython",
    "version": 3
   },
   "file_extension": ".py",
   "mimetype": "text/x-python",
   "name": "python",
   "nbconvert_exporter": "python",
   "pygments_lexer": "ipython3",
   "version": "3.5.2"
  }
 },
 "nbformat": 4,
 "nbformat_minor": 2
}
