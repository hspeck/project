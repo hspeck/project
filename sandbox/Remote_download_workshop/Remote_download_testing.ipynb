{
 "cells": [
  {
   "cell_type": "code",
   "execution_count": 1,
   "metadata": {
    "collapsed": true
   },
   "outputs": [],
   "source": [
    "from Bio import Entrez\n",
    "Entrez.email = \"hspeck@ucla.edu\"\n",
    "#should globally set my email fro Entrez purposes"
   ]
  },
  {
   "cell_type": "code",
   "execution_count": 2,
   "metadata": {
    "collapsed": true
   },
   "outputs": [],
   "source": [
    "#testing E info\n",
    "handle = Entrez.einfo()\n",
    "result = handle.read()"
   ]
  },
  {
   "cell_type": "code",
   "execution_count": 3,
   "metadata": {
    "collapsed": false
   },
   "outputs": [
    {
     "name": "stdout",
     "output_type": "stream",
     "text": [
      "<?xml version=\"1.0\" encoding=\"UTF-8\" ?>\n",
      "<!DOCTYPE eInfoResult PUBLIC \"-//NLM//DTD einfo 20130322//EN\" \"https://eutils.ncbi.nlm.nih.gov/eutils/dtd/20130322/einfo.dtd\">\n",
      "<eInfoResult>\n",
      "<DbList>\n",
      "\n",
      "\t<DbName>pubmed</DbName>\n",
      "\t<DbName>protein</DbName>\n",
      "\t<DbName>nuccore</DbName>\n",
      "\t<DbName>nucleotide</DbName>\n",
      "\t<DbName>nucgss</DbName>\n",
      "\t<DbName>nucest</DbName>\n",
      "\t<DbName>structure</DbName>\n",
      "\t<DbName>sparcle</DbName>\n",
      "\t<DbName>genome</DbName>\n",
      "\t<DbName>annotinfo</DbName>\n",
      "\t<DbName>assembly</DbName>\n",
      "\t<DbName>bioproject</DbName>\n",
      "\t<DbName>biosample</DbName>\n",
      "\t<DbName>blastdbinfo</DbName>\n",
      "\t<DbName>books</DbName>\n",
      "\t<DbName>cdd</DbName>\n",
      "\t<DbName>clinvar</DbName>\n",
      "\t<DbName>clone</DbName>\n",
      "\t<DbName>gap</DbName>\n",
      "\t<DbName>gapplus</DbName>\n",
      "\t<DbName>grasp</DbName>\n",
      "\t<DbName>dbvar</DbName>\n",
      "\t<DbName>gene</DbName>\n",
      "\t<DbName>gds</DbName>\n",
      "\t<DbName>geoprofiles</DbName>\n",
      "\t<DbName>homologene</DbName>\n",
      "\t<DbName>medgen</DbName>\n",
      "\t<DbName>mesh</DbName>\n",
      "\t<DbName>ncbisearch</DbName>\n",
      "\t<DbName>nlmcatalog</DbName>\n",
      "\t<DbName>omim</DbName>\n",
      "\t<DbName>orgtrack</DbName>\n",
      "\t<DbName>pmc</DbName>\n",
      "\t<DbName>popset</DbName>\n",
      "\t<DbName>probe</DbName>\n",
      "\t<DbName>proteinclusters</DbName>\n",
      "\t<DbName>pcassay</DbName>\n",
      "\t<DbName>biosystems</DbName>\n",
      "\t<DbName>pccompound</DbName>\n",
      "\t<DbName>pcsubstance</DbName>\n",
      "\t<DbName>pubmedhealth</DbName>\n",
      "\t<DbName>seqannot</DbName>\n",
      "\t<DbName>snp</DbName>\n",
      "\t<DbName>sra</DbName>\n",
      "\t<DbName>taxonomy</DbName>\n",
      "\t<DbName>unigene</DbName>\n",
      "\t<DbName>gencoll</DbName>\n",
      "\t<DbName>gtr</DbName>\n",
      "</DbList>\n",
      "\n",
      "</eInfoResult>\n",
      "\n"
     ]
    }
   ],
   "source": [
    "print(result)"
   ]
  },
  {
   "cell_type": "code",
   "execution_count": 4,
   "metadata": {
    "collapsed": true
   },
   "outputs": [],
   "source": [
    "handle = Entrez.einfo()\n",
    "record = Entrez.read(handle)\n",
    "# this results in a dictionary with one key "
   ]
  },
  {
   "cell_type": "code",
   "execution_count": 5,
   "metadata": {
    "collapsed": false
   },
   "outputs": [
    {
     "data": {
      "text/plain": [
       "dict_keys(['DbList'])"
      ]
     },
     "execution_count": 5,
     "metadata": {},
     "output_type": "execute_result"
    }
   ],
   "source": [
    "record.keys()"
   ]
  },
  {
   "cell_type": "code",
   "execution_count": 7,
   "metadata": {
    "collapsed": false
   },
   "outputs": [
    {
     "data": {
      "text/plain": [
       "['pubmed', 'protein', 'nuccore', 'nucleotide', 'nucgss', 'nucest', 'structure', 'sparcle', 'genome', 'annotinfo', 'assembly', 'bioproject', 'biosample', 'blastdbinfo', 'books', 'cdd', 'clinvar', 'clone', 'gap', 'gapplus', 'grasp', 'dbvar', 'gene', 'gds', 'geoprofiles', 'homologene', 'medgen', 'mesh', 'ncbisearch', 'nlmcatalog', 'omim', 'orgtrack', 'pmc', 'popset', 'probe', 'proteinclusters', 'pcassay', 'biosystems', 'pccompound', 'pcsubstance', 'pubmedhealth', 'seqannot', 'snp', 'sra', 'taxonomy', 'unigene', 'gencoll', 'gtr']"
      ]
     },
     "execution_count": 7,
     "metadata": {},
     "output_type": "execute_result"
    }
   ],
   "source": [
    "record[\"DbList\"]\n",
    " "
   ]
  },
  {
   "cell_type": "code",
   "execution_count": null,
   "metadata": {
    "collapsed": true
   },
   "outputs": [],
   "source": [
    "#can get more info about each db with specifying the db\\\n",
    "# e.g. handle = Entrez.einfo(db =\"pubmed\")\n",
    "# will give info on pubmed, gives one key \"DbInfo\"\n",
    "#can then specify whcih section to check, eg \"Count\", \"LastUpdate\""
   ]
  },
  {
   "cell_type": "markdown",
   "metadata": {},
   "source": [
    "# ESearch"
   ]
  },
  {
   "cell_type": "code",
   "execution_count": 8,
   "metadata": {
    "collapsed": false
   },
   "outputs": [
    {
     "data": {
      "text/plain": [
       "['28011774', '24929426', '24497503', '24267035', '24194598', '23842806', '23157543', '22909249', '22399473', '21666252', '21210977', '20015970', '19811691', '19773334', '19304878', '18606172', '21585724', '16403221', '16377612', '14871861']"
      ]
     },
     "execution_count": 8,
     "metadata": {},
     "output_type": "execute_result"
    }
   ],
   "source": [
    "handle = Entrez.esearch(db = \"pubmed\", term = \"biopython\")\n",
    "record = Entrez.read(handle)\n",
    "record[\"IdList\"]"
   ]
  },
  {
   "cell_type": "code",
   "execution_count": 9,
   "metadata": {
    "collapsed": false
   },
   "outputs": [
    {
     "data": {
      "text/plain": [
       "'348'"
      ]
     },
     "execution_count": 9,
     "metadata": {},
     "output_type": "execute_result"
    }
   ],
   "source": [
    ">>> handle = Entrez.esearch(db=\"nucleotide\", term=\"Cypripedioideae[Orgn] AND matK[Gene]\")\n",
    ">>> record = Entrez.read(handle)\n",
    ">>> record[\"Count\"]"
   ]
  },
  {
   "cell_type": "code",
   "execution_count": 10,
   "metadata": {
    "collapsed": false
   },
   "outputs": [
    {
     "data": {
      "text/plain": [
       "['402502985', '402502983', '402502981', '402502979', '402502977', '402502975', '402502973', '402502971', '402502969', '402502967', '402502965', '402502963', '402502961', '402502959', '402502957', '402502955', '402502953', '402502951', '402502949', '402502947']"
      ]
     },
     "execution_count": 10,
     "metadata": {},
     "output_type": "execute_result"
    }
   ],
   "source": [
    ">>> record[\"IdList\"]\n"
   ]
  },
  {
   "cell_type": "markdown",
   "metadata": {},
   "source": [
    "# EPost"
   ]
  },
  {
   "cell_type": "code",
   "execution_count": 11,
   "metadata": {
    "collapsed": false
   },
   "outputs": [
    {
     "name": "stdout",
     "output_type": "stream",
     "text": [
      "<?xml version=\"1.0\" encoding=\"UTF-8\" ?>\n",
      "<!DOCTYPE ePostResult PUBLIC \"-//NLM//DTD epost 20090526//EN\" \"https://eutils.ncbi.nlm.nih.gov/eutils/dtd/20090526/epost.dtd\"><ePostResult>\n",
      "\t<QueryKey>1</QueryKey>\n",
      "\t<WebEnv>NCID_1_216941586_130.14.18.34_9001_1488766203_1195597009_0MetA0_S_MegaStore_F_1</WebEnv>\n",
      "</ePostResult>\n",
      "\n"
     ]
    }
   ],
   "source": [
    ">>> id_list = [\"19304878\", \"18606172\", \"16403221\", \"16377612\", \"14871861\", \"14630660\"]\n",
    ">>> print(Entrez.epost(\"pubmed\", id=\",\".join(id_list)).read())"
   ]
  },
  {
   "cell_type": "code",
   "execution_count": 12,
   "metadata": {
    "collapsed": true
   },
   "outputs": [],
   "source": [
    ">>> search_results = Entrez.read(Entrez.epost(\"pubmed\", id=\",\".join(id_list)))\n",
    "#this posts the result internally, by joining the id_list we have into the proper format\n",
    "# the URL Posted will have the searched IDs and the database to search\n",
    "#assigns this to a dictionary search results\n",
    ">>> webenv = search_results[\"WebEnv\"]\n",
    ">>> query_key = search_results[\"QueryKey\"]"
   ]
  },
  {
   "cell_type": "code",
   "execution_count": 13,
   "metadata": {
    "collapsed": false
   },
   "outputs": [
    {
     "data": {
      "text/plain": [
       "'NCID_1_216985933_130.14.18.34_9001_1488766423_2077927924_0MetA0_S_MegaStore_F_1'"
      ]
     },
     "execution_count": 13,
     "metadata": {},
     "output_type": "execute_result"
    }
   ],
   "source": [
    "webenv"
   ]
  },
  {
   "cell_type": "code",
   "execution_count": 14,
   "metadata": {
    "collapsed": false
   },
   "outputs": [
    {
     "data": {
      "text/plain": [
       "'1'"
      ]
     },
     "execution_count": 14,
     "metadata": {},
     "output_type": "execute_result"
    }
   ],
   "source": [
    "query_key"
   ]
  },
  {
   "cell_type": "markdown",
   "metadata": {},
   "source": [
    "# E Fetch\n"
   ]
  },
  {
   "cell_type": "code",
   "execution_count": 15,
   "metadata": {
    "collapsed": false,
    "scrolled": true
   },
   "outputs": [
    {
     "name": "stdout",
     "output_type": "stream",
     "text": [
      "LOCUS       EU490707                1302 bp    DNA     linear   PLN 26-JUL-2016\n",
      "DEFINITION  Selenipedium aequinoctiale maturase K (matK) gene, partial cds;\n",
      "            chloroplast.\n",
      "ACCESSION   EU490707\n",
      "VERSION     EU490707.1\n",
      "KEYWORDS    .\n",
      "SOURCE      chloroplast Selenipedium aequinoctiale\n",
      "  ORGANISM  Selenipedium aequinoctiale\n",
      "            Eukaryota; Viridiplantae; Streptophyta; Embryophyta; Tracheophyta;\n",
      "            Spermatophyta; Magnoliophyta; Liliopsida; Asparagales; Orchidaceae;\n",
      "            Cypripedioideae; Selenipedium.\n",
      "REFERENCE   1  (bases 1 to 1302)\n",
      "  AUTHORS   Neubig,K.M., Whitten,W.M., Carlsward,B.S., Blanco,M.A., Endara,L.,\n",
      "            Williams,N.H. and Moore,M.\n",
      "  TITLE     Phylogenetic utility of ycf1 in orchids: a plastid gene more\n",
      "            variable than matK\n",
      "  JOURNAL   Plant Syst. Evol. 277 (1-2), 75-84 (2009)\n",
      "REFERENCE   2  (bases 1 to 1302)\n",
      "  AUTHORS   Neubig,K.M., Whitten,W.M., Carlsward,B.S., Blanco,M.A.,\n",
      "            Endara,C.L., Williams,N.H. and Moore,M.J.\n",
      "  TITLE     Direct Submission\n",
      "  JOURNAL   Submitted (14-FEB-2008) Department of Botany, University of\n",
      "            Florida, 220 Bartram Hall, Gainesville, FL 32611-8526, USA\n",
      "FEATURES             Location/Qualifiers\n",
      "     source          1..1302\n",
      "                     /organism=\"Selenipedium aequinoctiale\"\n",
      "                     /organelle=\"plastid:chloroplast\"\n",
      "                     /mol_type=\"genomic DNA\"\n",
      "                     /specimen_voucher=\"FLAS:Blanco 2475\"\n",
      "                     /db_xref=\"taxon:256374\"\n",
      "     gene            <1..>1302\n",
      "                     /gene=\"matK\"\n",
      "     CDS             <1..>1302\n",
      "                     /gene=\"matK\"\n",
      "                     /codon_start=1\n",
      "                     /transl_table=11\n",
      "                     /product=\"maturase K\"\n",
      "                     /protein_id=\"ACC99456.1\"\n",
      "                     /translation=\"IFYEPVEIFGYDNKSSLVLVKRLITRMYQQNFLISSVNDSNQKG\n",
      "                     FWGHKHFFSSHFSSQMVSEGFGVILEIPFSSQLVSSLEEKKIPKYQNLRSIHSIFPFL\n",
      "                     EDKFLHLNYVSDLLIPHPIHLEILVQILQCRIKDVPSLHLLRLLFHEYHNLNSLITSK\n",
      "                     KFIYAFSKRKKRFLWLLYNSYVYECEYLFQFLRKQSSYLRSTSSGVFLERTHLYVKIE\n",
      "                     HLLVVCCNSFQRILCFLKDPFMHYVRYQGKAILASKGTLILMKKWKFHLVNFWQSYFH\n",
      "                     FWSQPYRIHIKQLSNYSFSFLGYFSSVLENHLVVRNQMLENSFIINLLTKKFDTIAPV\n",
      "                     ISLIGSLSKAQFCTVLGHPISKPIWTDFSDSDILDRFCRICRNLCRYHSGSSKKQVLY\n",
      "                     RIKYILRLSCARTLARKHKSTVRTFMRRLGSGLLEEFFMEEE\"\n",
      "ORIGIN      \n",
      "        1 attttttacg aacctgtgga aatttttggt tatgacaata aatctagttt agtacttgtg\n",
      "       61 aaacgtttaa ttactcgaat gtatcaacag aattttttga tttcttcggt taatgattct\n",
      "      121 aaccaaaaag gattttgggg gcacaagcat tttttttctt ctcatttttc ttctcaaatg\n",
      "      181 gtatcagaag gttttggagt cattctggaa attccattct cgtcgcaatt agtatcttct\n",
      "      241 cttgaagaaa aaaaaatacc aaaatatcag aatttacgat ctattcattc aatatttccc\n",
      "      301 tttttagaag acaaattttt acatttgaat tatgtgtcag atctactaat accccatccc\n",
      "      361 atccatctgg aaatcttggt tcaaatcctt caatgccgga tcaaggatgt tccttctttg\n",
      "      421 catttattgc gattgctttt ccacgaatat cataatttga atagtctcat tacttcaaag\n",
      "      481 aaattcattt acgccttttc aaaaagaaag aaaagattcc tttggttact atataattct\n",
      "      541 tatgtatatg aatgcgaata tctattccag tttcttcgta aacagtcttc ttatttacga\n",
      "      601 tcaacatctt ctggagtctt tcttgagcga acacatttat atgtaaaaat agaacatctt\n",
      "      661 ctagtagtgt gttgtaattc ttttcagagg atcctatgct ttctcaagga tcctttcatg\n",
      "      721 cattatgttc gatatcaagg aaaagcaatt ctggcttcaa agggaactct tattctgatg\n",
      "      781 aagaaatgga aatttcatct tgtgaatttt tggcaatctt attttcactt ttggtctcaa\n",
      "      841 ccgtatagga ttcatataaa gcaattatcc aactattcct tctcttttct ggggtatttt\n",
      "      901 tcaagtgtac tagaaaatca tttggtagta agaaatcaaa tgctagagaa ttcatttata\n",
      "      961 ataaatcttc tgactaagaa attcgatacc atagccccag ttatttctct tattggatca\n",
      "     1021 ttgtcgaaag ctcaattttg tactgtattg ggtcatccta ttagtaaacc gatctggacc\n",
      "     1081 gatttctcgg attctgatat tcttgatcga ttttgccgga tatgtagaaa tctttgtcgt\n",
      "     1141 tatcacagcg gatcctcaaa aaaacaggtt ttgtatcgta taaaatatat acttcgactt\n",
      "     1201 tcgtgtgcta gaactttggc acggaaacat aaaagtacag tacgcacttt tatgcgaaga\n",
      "     1261 ttaggttcgg gattattaga agaattcttt atggaagaag aa\n",
      "//\n",
      "\n",
      "\n"
     ]
    }
   ],
   "source": [
    ">>> handle = Entrez.efetch(db=\"nucleotide\", id=\"186972394\", rettype=\"gb\", retmode=\"text\")\n",
    ">>> print(handle.read())\n",
    "#assigns output of efetch to handle,\n",
    "    #efetch searches nucleotide db, for id 186972394, returns the data in record view for genbank, and ret mode specifes retrieval mode eg XML or HTML,  plain text?"
   ]
  },
  {
   "cell_type": "code",
   "execution_count": 17,
   "metadata": {
    "collapsed": false
   },
   "outputs": [
    {
     "name": "stdout",
     "output_type": "stream",
     "text": [
      "Parsing...\n",
      "ID: EU490707.1\n",
      "Name: EU490707\n",
      "Description: Selenipedium aequinoctiale maturase K (matK) gene, partial cds; chloroplast.\n",
      "Number of features: 3\n",
      "/source=chloroplast Selenipedium aequinoctiale\n",
      "/organism=Selenipedium aequinoctiale\n",
      "/accessions=['EU490707']\n",
      "/taxonomy=['Eukaryota', 'Viridiplantae', 'Streptophyta', 'Embryophyta', 'Tracheophyta', 'Spermatophyta', 'Magnoliophyta', 'Liliopsida', 'Asparagales', 'Orchidaceae', 'Cypripedioideae', 'Selenipedium']\n",
      "/topology=linear\n",
      "/date=26-JUL-2016\n",
      "/data_file_division=PLN\n",
      "/references=[Reference(title='Phylogenetic utility of ycf1 in orchids: a plastid gene more variable than matK', ...), Reference(title='Direct Submission', ...)]\n",
      "/sequence_version=1\n",
      "/keywords=['']\n",
      "Seq('ATTTTTTACGAACCTGTGGAAATTTTTGGTTATGACAATAAATCTAGTTTAGTA...GAA', IUPACAmbiguousDNA())\n"
     ]
    }
   ],
   "source": [
    "import os\n",
    "from Bio import SeqIO\n",
    "from Bio import Entrez\n",
    "Entrez.email = \"hspeck@ucla.edu\"  # Always tell NCBI who you are\n",
    "filename = \"gi_186972394.gbk\"\n",
    "if not os.path.isfile(filename):\n",
    "    # Downloading...\n",
    "    net_handle = Entrez.efetch(db=\"nucleotide\", id=\"186972394\", rettype=\"gb\", retmode=\"text\")\n",
    "    out_handle = open(filename, \"w\")\n",
    "    out_handle.write(net_handle.read())\n",
    "    out_handle.close()\n",
    "    net_handle.close()\n",
    "    print(\"Saved\")\n",
    "\n",
    "    \n",
    "#this sets the email\n",
    "#creates a filename\n",
    "#don't understand the if not thing\n",
    "    \n",
    "    #creates a net handle, search db, for id blah, wants text and genebank return\n",
    "    #opens a file to write to\n",
    "    #reads the result of the search and writes it to the file\n",
    "    #closes the file\n",
    "    #closes the net handle\n",
    "\n",
    "print(\"Parsing...\")\n",
    "record = SeqIO.read(filename, \"genbank\")\n",
    "print(record)\n",
    "\n",
    "#then reads in the saved file as record, using the genbank read"
   ]
  },
  {
   "cell_type": "code",
   "execution_count": 18,
   "metadata": {
    "collapsed": false
   },
   "outputs": [
    {
     "name": "stdout",
     "output_type": "stream",
     "text": [
      "4387\n"
     ]
    }
   ],
   "source": [
    ">>> from Bio import Entrez\n",
    ">>> Entrez.email = \"hspeck@ucla.edu\"     # Always tell NCBI who you are\n",
    ">>> handle = Entrez.egquery(term=\"Cypripedioideae\")\n",
    ">>> record = Entrez.read(handle)\n",
    ">>> for row in record[\"eGQueryResult\"]:\n",
    "...     if row[\"DbName\"]==\"nuccore\":\n",
    "...         print(row[\"Count\"])"
   ]
  },
  {
   "cell_type": "code",
   "execution_count": 19,
   "metadata": {
    "collapsed": true
   },
   "outputs": [],
   "source": [
    ">>> from Bio import Entrez\n",
    ">>> handle = Entrez.esearch(db=\"nucleotide\", term=\"Cypripedioideae\", retmax=814)\n",
    "# ret max sets limit on number of IDs we want returned\n",
    "\n",
    ">>> record = Entrez.read(handle)\n"
   ]
  },
  {
   "cell_type": "code",
   "execution_count": 20,
   "metadata": {
    "collapsed": false
   },
   "outputs": [
    {
     "name": "stdout",
     "output_type": "stream",
     "text": [
      "dict_keys(['TranslationSet', 'Count', 'QueryTranslation', 'RetStart', 'TranslationStack', 'RetMax', 'IdList'])\n"
     ]
    }
   ],
   "source": [
    "print(record.keys())"
   ]
  },
  {
   "cell_type": "code",
   "execution_count": 21,
   "metadata": {
    "collapsed": false
   },
   "outputs": [
    {
     "name": "stdout",
     "output_type": "stream",
     "text": [
      "4387\n"
     ]
    }
   ],
   "source": [
    "print(record[\"Count\"])"
   ]
  },
  {
   "cell_type": "code",
   "execution_count": 22,
   "metadata": {
    "collapsed": false
   },
   "outputs": [
    {
     "data": {
      "text/plain": [
       "814"
      ]
     },
     "execution_count": 22,
     "metadata": {},
     "output_type": "execute_result"
    }
   ],
   "source": [
    "len(record[\"IdList\"])"
   ]
  },
  {
   "cell_type": "code",
   "execution_count": 23,
   "metadata": {
    "collapsed": false
   },
   "outputs": [
    {
     "name": "stdout",
     "output_type": "stream",
     "text": [
      "1114445103,1114445102,1114445101,1114445100,1114445099\n"
     ]
    }
   ],
   "source": [
    ">>> idlist = \",\".join(record[\"IdList\"][:5])\n",
    ">>> print(idlist)"
   ]
  },
  {
   "cell_type": "code",
   "execution_count": 24,
   "metadata": {
    "collapsed": false
   },
   "outputs": [
    {
     "data": {
      "text/plain": [
       "5"
      ]
     },
     "execution_count": 24,
     "metadata": {},
     "output_type": "execute_result"
    }
   ],
   "source": [
    ">>> handle = Entrez.efetch(db=\"nucleotide\", id=idlist, retmode=\"xml\")\n",
    ">>> records = Entrez.read(handle)\n",
    ">>> len(records)"
   ]
  },
  {
   "cell_type": "code",
   "execution_count": 25,
   "metadata": {
    "collapsed": false
   },
   "outputs": [
    {
     "name": "stdout",
     "output_type": "stream",
     "text": [
      "dict_keys(['GBSeq_update-date', 'GBSeq_taxonomy', 'GBSeq_feature-table', 'GBSeq_division', 'GBSeq_references', 'GBSeq_organism', 'GBSeq_accession-version', 'GBSeq_source', 'GBSeq_strandedness', 'GBSeq_other-seqids', 'GBSeq_moltype', 'GBSeq_locus', 'GBSeq_sequence', 'GBSeq_primary-accession', 'GBSeq_length', 'GBSeq_topology', 'GBSeq_create-date', 'GBSeq_comment', 'GBSeq_definition'])\n"
     ]
    }
   ],
   "source": [
    "print(records[0].keys())"
   ]
  },
  {
   "cell_type": "markdown",
   "metadata": {},
   "source": [
    "# Testing out what works syntax wise\n",
    "using the top result from MyoVII in Nem Vect\n",
    "just one seq at a time\n",
    "testing efetch"
   ]
  },
  {
   "cell_type": "code",
   "execution_count": 26,
   "metadata": {
    "collapsed": false,
    "scrolled": true
   },
   "outputs": [
    {
     "name": "stdout",
     "output_type": "stream",
     "text": [
      ">XP_001627758.1 predicted protein [Nematostella vectensis]\n",
      "MLDERNYHIFYRMLAGMTPKEKALLGLTDVADYYYLTQGNCITCEGMNDAEEFAIIRGAMKVLMFNEVEM\n",
      "MDIFKLVAAILHMGNLEFEGTERKTVDACDIADEDLGDIISKLLETPLEQMKVAFTSKSTFARGEMIFTP\n",
      "VSKDKAKDIRDAFCKGIYGRVFVWIVNKINKAIYKPVNSAAFVVGYSELFNVLFFSFEQLCINYANEHLQ\n",
      "QFFVKHIFKLEQEQYDKEGIRWQHISFVDNQMILDLLAQKPMNIVAIVNEESRFPKGTDTTMLQKLQSNH\n",
      "NDSSLYIPSKNSFDMSFGVRHFAGTVYYDSRGFLEKNRDTFSADLVDLVGSSKSKFLLEIFSKERTMGEE\n",
      "TRKRSPALGAQFKKSLDLLMKTLSRCHPFFVRCIKPNDYKKPMMFDRLLCCRQLRYSGMMETIRIRKAGY\n",
      "PIRHTFAEFIDRYYMLSPDPVQKNLDVSGLKKATNNIAVKYLSNSDWQLGKTKIFLKDAQDQQLEEHRDR\n",
      "LLTSRAILIQKVVRGFLTRKVYLRMRMGAVMIQKTWKGHHQRQKYQKILQGYARLQALYRTRVISAKYQT\n",
      "LRSRVCIFQAYCRGFLARRDYVTRINSVIKIQSGVRMVLAKRTAQGLRVEKKKREEAERIRRRQEEALRE\n",
      "AMAGDEARILADRLYQERLKQMEEEKKREEMLNAEQAQRKKREIEIAEEKARKRREDDDDTESAFELPPP\n",
      "PPDLGVSESCHNSMNCYESIFDEIPPPLEFLDNDHAIDVSEYKFSKFAATYFQGGATPGYIRRPLKQSLL\n",
      "PLNSEADSMAALAVWITILRFMGDLPEPKFITSSVDNKVSHTTGGSSSQFMVSQTFKTNNSTTTSRDRER\n",
      "EKEKDTLRKRIVSLTLKRKSKITKDVTARLKEADESGTLSDGYGPLSAQDKPTTNLEKLHFIIGHGILRK\n",
      "ELRDEIYCQICKQLTGNPSKTSHARGWILLSLCLGCFAPSEKFVKYLWCFIKEGPPGYAPYCEERLRRTQ\n",
      "QNGCRHQPPSWLELQATKSKKPLMLPITFMDGTTKTLLADSATTARELCTQLADKISLLDQFGFSLYIAL\n",
      "FDKVSSLGSGSDHVMDAISQCEQYAKEQGAQERNAPWRLFFRKEIFSPWHDPTMDKIGTNLIYQQVIRGI\n",
      "KFGEYRCDRDDDLAEIAAKEYYVEYGRDMIPDRLSSLLTSYLPEALLQSGRSAHEYWHGMILAAHKRAHY\n",
      "TLSGTEPQLVKEDLVTYARFKWPLLFSRFYEAYQFSGPSLPKNDVIIAVNWTGVYVVDDQEHVLLDLQFP\n",
      "DITSVTSSKTNRLEGSSFTITTVKGDEYTFTSANSEDIRELVQFFLDGLRTRSKYVVTLMDYQSPGESSS\n",
      "FLSFKKGDLIILDSDTGETVLNSGWCSGLCERTVKRGDFPAECVYVLPTTTKPGPESLIAFSDQSSENSE\n",
      "KIIATTKTAIYQEDQETFEKPCTLEAYSVDHFMPPPKRTLSKTLQGGLLERGGGYWTGKRLKKVGGLSNH\n",
      "HIVLQLTFNHYMGDYPSKRSRQATDLTDAIFESALLHEPLRDEVYCQLIKQITENRLPSSFDRGWELLWL\n",
      "CTGIFACSAVLLREVNQIFRSWVSRQPLGHDCLARLQKTIRVGQRKYPPHIVEVEAIQHQTTQIFHKVYF\n",
      "PDDSDQAFEVDSGTKAKEFCNIIAQRLGLKSAEGFSLFVKITDKVISVPEGDFFFDFVRHLTEWLKKAGP\n",
      "TKDGRTPNLTYQVFFMKKLWTNTVVGKDPAADCIFHYHQELPKYLRGYHKCIKEEAAQLAALIYRVKFGE\n",
      "DKSQFQNIPRMVKELIPHDLVKQMSPDEWKRAIVAQFNKHPGRTKSEAKISFLKIIYRWPTFGSAFFEVK\n",
      "QGTEPNFPDNLLIAINKSGVNLINPQTKEILATYPFTKISNWSSGNTYFHMTIGSLVKGSKLLCETSLGY\n",
      "KMDDLLTSYISLMLTNMNKQRKAPALRAVKK\n",
      "\n",
      "\n"
     ]
    }
   ],
   "source": [
    "handle = Entrez.efetch(db=\"protein\", id=\"156368554\", rettype=\"fasta\", retmode=\"text\")\n",
    "print(handle.read())\n",
    "#using the gi # and it works fine"
   ]
  },
  {
   "cell_type": "code",
   "execution_count": 28,
   "metadata": {
    "collapsed": false,
    "scrolled": true
   },
   "outputs": [
    {
     "name": "stdout",
     "output_type": "stream",
     "text": [
      ">XP_001627758.1 predicted protein [Nematostella vectensis]\n",
      "MLDERNYHIFYRMLAGMTPKEKALLGLTDVADYYYLTQGNCITCEGMNDAEEFAIIRGAMKVLMFNEVEM\n",
      "MDIFKLVAAILHMGNLEFEGTERKTVDACDIADEDLGDIISKLLETPLEQMKVAFTSKSTFARGEMIFTP\n",
      "VSKDKAKDIRDAFCKGIYGRVFVWIVNKINKAIYKPVNSAAFVVGYSELFNVLFFSFEQLCINYANEHLQ\n",
      "QFFVKHIFKLEQEQYDKEGIRWQHISFVDNQMILDLLAQKPMNIVAIVNEESRFPKGTDTTMLQKLQSNH\n",
      "NDSSLYIPSKNSFDMSFGVRHFAGTVYYDSRGFLEKNRDTFSADLVDLVGSSKSKFLLEIFSKERTMGEE\n",
      "TRKRSPALGAQFKKSLDLLMKTLSRCHPFFVRCIKPNDYKKPMMFDRLLCCRQLRYSGMMETIRIRKAGY\n",
      "PIRHTFAEFIDRYYMLSPDPVQKNLDVSGLKKATNNIAVKYLSNSDWQLGKTKIFLKDAQDQQLEEHRDR\n",
      "LLTSRAILIQKVVRGFLTRKVYLRMRMGAVMIQKTWKGHHQRQKYQKILQGYARLQALYRTRVISAKYQT\n",
      "LRSRVCIFQAYCRGFLARRDYVTRINSVIKIQSGVRMVLAKRTAQGLRVEKKKREEAERIRRRQEEALRE\n",
      "AMAGDEARILADRLYQERLKQMEEEKKREEMLNAEQAQRKKREIEIAEEKARKRREDDDDTESAFELPPP\n",
      "PPDLGVSESCHNSMNCYESIFDEIPPPLEFLDNDHAIDVSEYKFSKFAATYFQGGATPGYIRRPLKQSLL\n",
      "PLNSEADSMAALAVWITILRFMGDLPEPKFITSSVDNKVSHTTGGSSSQFMVSQTFKTNNSTTTSRDRER\n",
      "EKEKDTLRKRIVSLTLKRKSKITKDVTARLKEADESGTLSDGYGPLSAQDKPTTNLEKLHFIIGHGILRK\n",
      "ELRDEIYCQICKQLTGNPSKTSHARGWILLSLCLGCFAPSEKFVKYLWCFIKEGPPGYAPYCEERLRRTQ\n",
      "QNGCRHQPPSWLELQATKSKKPLMLPITFMDGTTKTLLADSATTARELCTQLADKISLLDQFGFSLYIAL\n",
      "FDKVSSLGSGSDHVMDAISQCEQYAKEQGAQERNAPWRLFFRKEIFSPWHDPTMDKIGTNLIYQQVIRGI\n",
      "KFGEYRCDRDDDLAEIAAKEYYVEYGRDMIPDRLSSLLTSYLPEALLQSGRSAHEYWHGMILAAHKRAHY\n",
      "TLSGTEPQLVKEDLVTYARFKWPLLFSRFYEAYQFSGPSLPKNDVIIAVNWTGVYVVDDQEHVLLDLQFP\n",
      "DITSVTSSKTNRLEGSSFTITTVKGDEYTFTSANSEDIRELVQFFLDGLRTRSKYVVTLMDYQSPGESSS\n",
      "FLSFKKGDLIILDSDTGETVLNSGWCSGLCERTVKRGDFPAECVYVLPTTTKPGPESLIAFSDQSSENSE\n",
      "KIIATTKTAIYQEDQETFEKPCTLEAYSVDHFMPPPKRTLSKTLQGGLLERGGGYWTGKRLKKVGGLSNH\n",
      "HIVLQLTFNHYMGDYPSKRSRQATDLTDAIFESALLHEPLRDEVYCQLIKQITENRLPSSFDRGWELLWL\n",
      "CTGIFACSAVLLREVNQIFRSWVSRQPLGHDCLARLQKTIRVGQRKYPPHIVEVEAIQHQTTQIFHKVYF\n",
      "PDDSDQAFEVDSGTKAKEFCNIIAQRLGLKSAEGFSLFVKITDKVISVPEGDFFFDFVRHLTEWLKKAGP\n",
      "TKDGRTPNLTYQVFFMKKLWTNTVVGKDPAADCIFHYHQELPKYLRGYHKCIKEEAAQLAALIYRVKFGE\n",
      "DKSQFQNIPRMVKELIPHDLVKQMSPDEWKRAIVAQFNKHPGRTKSEAKISFLKIIYRWPTFGSAFFEVK\n",
      "QGTEPNFPDNLLIAINKSGVNLINPQTKEILATYPFTKISNWSSGNTYFHMTIGSLVKGSKLLCETSLGY\n",
      "KMDDLLTSYISLMLTNMNKQRKAPALRAVKK\n",
      "\n",
      "\n"
     ]
    }
   ],
   "source": [
    "#trying with the ref number\n",
    "handle2 = Entrez.efetch(db=\"protein\", id=\"XP_001627758.1\", rettype=\"fasta\", retmode=\"text\")\n",
    "print(handle2.read())\n",
    "# both work fine"
   ]
  },
  {
   "cell_type": "markdown",
   "metadata": {},
   "source": [
    "### ok what if its a list\n",
    "let's try to grab the data we need to make a small test\n"
   ]
  },
  {
   "cell_type": "markdown",
   "metadata": {},
   "source": [
    "Used bast to extract the gi's for Myo from txid 45 what ever (NEM VEct)\n",
    "in the TEst run used the following command to do it\n",
    "in the following directory\n",
    "~/Desktop/eeb-177/project/sandbox/Testrun_multi_genes_same_org/Batch_run_workspace$ \n",
    "\n",
    "```\n",
    "cat txid45351_myosin_VIIA_summary.csv |cut -d \",\" -f 1 | cut -d \":\" -f 2  > entrez_test_mult_queries.txt\n",
    "```\n",
    "\n",
    "Use the file we created as the querry sequences\n"
   ]
  },
  {
   "cell_type": "code",
   "execution_count": 47,
   "metadata": {
    "collapsed": false
   },
   "outputs": [
    {
     "name": "stdout",
     "output_type": "stream",
     "text": [
      "['156368554', '156396892', '156386363', '156407866', '156357022', '156391275', '156394469', '156366795', '156377928', '156369675', '156397438', '156357096', '156397259', '156395117', '156337014', '156367282', '156388875', '156324730', '156334643', '156323993', '156395115', '156389599', '156310297', '156368731', '156402925', '156397257', '156367286', '156305353', '156303041']\n"
     ]
    }
   ],
   "source": [
    "with open(\"/home/eeb177-student/Desktop/eeb-177/project/sandbox/Testrun_multi_genes_same_org/Batch_run_workspace/entrez_test_mult_queries.txt\", \"r\") as query_file:\n",
    "    query_ids = query_file.read().splitlines()\n",
    "print(query_ids)\n",
    "#this gets a properly formatted list to input"
   ]
  },
  {
   "cell_type": "code",
   "execution_count": 48,
   "metadata": {
    "collapsed": false
   },
   "outputs": [
    {
     "data": {
      "text/plain": [
       "['156368554', '156396892', '156386363', '156407866', '156357022']"
      ]
     },
     "execution_count": 48,
     "metadata": {},
     "output_type": "execute_result"
    }
   ],
   "source": [
    "pruned_query_ids = query_ids[0:5]\n",
    "pruned_query_ids"
   ]
  },
  {
   "cell_type": "code",
   "execution_count": 51,
   "metadata": {
    "collapsed": false,
    "scrolled": true
   },
   "outputs": [],
   "source": [
    "output_file = open(\"test_seq_download.fasta\", \"w\")\n",
    "handle = Entrez.efetch(db=\"protein\", id=pruned_query_ids, rettype=\"fasta\", retmode=\"text\")\n",
    "output_file.write(handle.read())\n",
    "handle.close()\n",
    "output_file.close()\n",
    "# OK this gives the right stuff, \n",
    "# so a properly formatted list works just fine\n",
    "#this properly writes the sequences to the file"
   ]
  },
  {
   "cell_type": "markdown",
   "metadata": {},
   "source": [
    "# This is what our function looks like so far\n",
    "\n",
    "```\n",
    "with open(\"/home/eeb177-student/Desktop/eeb-177/project/sandbox/Testrun_multi_genes_same_org/Batch_run_workspace/entrez_test_mult_queries.txt\", \"r\") as query_file:\n",
    "    query_ids = query_file.read().splitlines()\n",
    "#setting up the input list\n",
    "\n",
    "pruned_query_ids = query_ids[0:5]\n",
    "# remove this before the rest of the test\n",
    "\n",
    "from Bio import Entrez\n",
    "Entrez.email = \"hspeck@ucla.edu\"\n",
    "#import the relevant library and set my email to keep NCBI happy and not kick me off\n",
    "\n",
    "output_file = open(\"test_seq_download.fasta\", \"w\")\n",
    "#set up an output file\n",
    "\n",
    "#here is the meat of the function\n",
    "handle = Entrez.efetch(db=\"protein\", id=pruned_query_ids, rettype=\"fasta\", retmode=\"text\")\n",
    "\n",
    "output_file.write(handle.read())\n",
    "    #writes to the file\n",
    "handle.close()\n",
    "    #closes the handle, not sure if needed, but do it anyway\n",
    "output_file.close()\n",
    "    #closes the file to actually write to it\n",
    "```"
   ]
  },
  {
   "cell_type": "code",
   "execution_count": 55,
   "metadata": {
    "collapsed": false
   },
   "outputs": [
    {
     "name": "stdout",
     "output_type": "stream",
     "text": [
      "<?xml version=\"1.0\" encoding=\"UTF-8\" ?>\n",
      "<!DOCTYPE ePostResult PUBLIC \"-//NLM//DTD epost 20090526//EN\" \"https://eutils.ncbi.nlm.nih.gov/eutils/dtd/20090526/epost.dtd\"><ePostResult>\n",
      "\t<QueryKey>1</QueryKey>\n",
      "\t<WebEnv>NCID_1_220784592_130.14.22.215_9001_1488780299_1529912402_0MetA0_S_MegaStore_F_1</WebEnv>\n",
      "</ePostResult>\n",
      "\n"
     ]
    }
   ],
   "source": [
    "# Just testing the syntax\n",
    "from Bio import Entrez\n",
    "Entrez.email = \"hspeck@ucla.edu\"\n",
    "print(Entrez.epost(db =\"protein\", \n",
    "                   id = \",\".join(pruned_query_ids)).read())\n",
    "#it appears that it really needs the \",\".join way of doing things for it to work\n",
    "#can't just put in a list for it to work"
   ]
  },
  {
   "cell_type": "code",
   "execution_count": 63,
   "metadata": {
    "collapsed": false
   },
   "outputs": [],
   "source": [
    "# Making it actually return the webenv and querykey\n",
    "\n",
    "from Bio import Entrez\n",
    "Entrez.email = \"hspeck@ucla.edu\"\n",
    "search_results = Entrez.read(Entrez.epost(db =\"protein\", \n",
    "                   id = \",\".join(pruned_query_ids)))\n",
    "webenvtest = search_results[\"WebEnv\"]\n",
    "query_keytest = search_results[\"QueryKey\"]\n"
   ]
  },
  {
   "cell_type": "code",
   "execution_count": 69,
   "metadata": {
    "collapsed": false,
    "scrolled": true
   },
   "outputs": [
    {
     "name": "stdout",
     "output_type": "stream",
     "text": [
      ">XP_001627758.1 predicted protein [Nematostella vectensis]\n",
      "MLDERNYHIFYRMLAGMTPKEKALLGLTDVADYYYLTQGNCITCEGMNDAEEFAIIRGAMKVLMFNEVEM\n",
      "MDIFKLVAAILHMGNLEFEGTERKTVDACDIADEDLGDIISKLLETPLEQMKVAFTSKSTFARGEMIFTP\n",
      "VSKDKAKDIRDAFCKGIYGRVFVWIVNKINKAIYKPVNSAAFVVGYSELFNVLFFSFEQLCINYANEHLQ\n",
      "QFFVKHIFKLEQEQYDKEGIRWQHISFVDNQMILDLLAQKPMNIVAIVNEESRFPKGTDTTMLQKLQSNH\n",
      "NDSSLYIPSKNSFDMSFGVRHFAGTVYYDSRGFLEKNRDTFSADLVDLVGSSKSKFLLEIFSKERTMGEE\n",
      "TRKRSPALGAQFKKSLDLLMKTLSRCHPFFVRCIKPNDYKKPMMFDRLLCCRQLRYSGMMETIRIRKAGY\n",
      "PIRHTFAEFIDRYYMLSPDPVQKNLDVSGLKKATNNIAVKYLSNSDWQLGKTKIFLKDAQDQQLEEHRDR\n",
      "LLTSRAILIQKVVRGFLTRKVYLRMRMGAVMIQKTWKGHHQRQKYQKILQGYARLQALYRTRVISAKYQT\n",
      "LRSRVCIFQAYCRGFLARRDYVTRINSVIKIQSGVRMVLAKRTAQGLRVEKKKREEAERIRRRQEEALRE\n",
      "AMAGDEARILADRLYQERLKQMEEEKKREEMLNAEQAQRKKREIEIAEEKARKRREDDDDTESAFELPPP\n",
      "PPDLGVSESCHNSMNCYESIFDEIPPPLEFLDNDHAIDVSEYKFSKFAATYFQGGATPGYIRRPLKQSLL\n",
      "PLNSEADSMAALAVWITILRFMGDLPEPKFITSSVDNKVSHTTGGSSSQFMVSQTFKTNNSTTTSRDRER\n",
      "EKEKDTLRKRIVSLTLKRKSKITKDVTARLKEADESGTLSDGYGPLSAQDKPTTNLEKLHFIIGHGILRK\n",
      "ELRDEIYCQICKQLTGNPSKTSHARGWILLSLCLGCFAPSEKFVKYLWCFIKEGPPGYAPYCEERLRRTQ\n",
      "QNGCRHQPPSWLELQATKSKKPLMLPITFMDGTTKTLLADSATTARELCTQLADKISLLDQFGFSLYIAL\n",
      "FDKVSSLGSGSDHVMDAISQCEQYAKEQGAQERNAPWRLFFRKEIFSPWHDPTMDKIGTNLIYQQVIRGI\n",
      "KFGEYRCDRDDDLAEIAAKEYYVEYGRDMIPDRLSSLLTSYLPEALLQSGRSAHEYWHGMILAAHKRAHY\n",
      "TLSGTEPQLVKEDLVTYARFKWPLLFSRFYEAYQFSGPSLPKNDVIIAVNWTGVYVVDDQEHVLLDLQFP\n",
      "DITSVTSSKTNRLEGSSFTITTVKGDEYTFTSANSEDIRELVQFFLDGLRTRSKYVVTLMDYQSPGESSS\n",
      "FLSFKKGDLIILDSDTGETVLNSGWCSGLCERTVKRGDFPAECVYVLPTTTKPGPESLIAFSDQSSENSE\n",
      "KIIATTKTAIYQEDQETFEKPCTLEAYSVDHFMPPPKRTLSKTLQGGLLERGGGYWTGKRLKKVGGLSNH\n",
      "HIVLQLTFNHYMGDYPSKRSRQATDLTDAIFESALLHEPLRDEVYCQLIKQITENRLPSSFDRGWELLWL\n",
      "CTGIFACSAVLLREVNQIFRSWVSRQPLGHDCLARLQKTIRVGQRKYPPHIVEVEAIQHQTTQIFHKVYF\n",
      "PDDSDQAFEVDSGTKAKEFCNIIAQRLGLKSAEGFSLFVKITDKVISVPEGDFFFDFVRHLTEWLKKAGP\n",
      "TKDGRTPNLTYQVFFMKKLWTNTVVGKDPAADCIFHYHQELPKYLRGYHKCIKEEAAQLAALIYRVKFGE\n",
      "DKSQFQNIPRMVKELIPHDLVKQMSPDEWKRAIVAQFNKHPGRTKSEAKISFLKIIYRWPTFGSAFFEVK\n",
      "QGTEPNFPDNLLIAINKSGVNLINPQTKEILATYPFTKISNWSSGNTYFHMTIGSLVKGSKLLCETSLGY\n",
      "KMDDLLTSYISLMLTNMNKQRKAPALRAVKK\n",
      "\n",
      ">XP_001637626.1 predicted protein, partial [Nematostella vectensis]\n",
      "MAFKAQGDHVWLEAGDGENDVAIGACVKEVQGASVILVDDEGKEVVIDRSVAESLKHMHPSSVEGVENMI\n",
      "ELGDLDEAGILRNLLIRYRANKIYTYVGSVLVAVNPYCSFPIYGTAYISRYQKAVNATDLPPHIYATGEM\n",
      "SFAMMKREKHNQCVVISGESGAGKTESTKFILQYLTAVSGRHSTIEEQILDANPILEAFGNAKTIRNDNS\n",
      "SRFGKYIDVHFNDSWVIEGAKIDHYLLEQSRIVAQMPNERNYHIFYRMLAGMSPQEKKSLHLTHAQDYYY\n",
      "LSQGNCLTCEGMDDAYEYDVIRKAMTALWFTEEETQFIFRSIAAVLHLGNISFEAKMEDNIEACDVMNPE\n",
      "TVAAAADLLQVPKEHMEEAFTRKSTFAEGEMIYSPVSVERATDIRDAFVKGLYSKVFIWIVNKINSSIYK\n",
      "PRGKDDTSGRQSIGVLDIFGFEKFDMNSFEQLCINYANENLQQFFVAQIFKNEQEEYDREGIEWNFVTFV\n",
      "DNQEVLDMLAEKPMNFIALIDEESRFPQGTDESFLDKLNYNHKDNKHFVRPKSRVQSQFGVVHFAGTVYY\n",
      "DTTGFLDKNRNTFSADLVDLISSSKCNFFLNMFFKERSMGTETRKRSPTLGVQFRRSLDVLMKTLASCRS\n",
      "FFVRCVKPNNYKKPMEFDRELCWQQLRYSGMLETVRIRKSGYAMRHTFEEFVTRYHMLVRDSLRDMSSRD\n",
      "ASHLIATSLLGQENWKLGTKRIFLKESQDVLLEESRAQLLSSKIIFLQRAMRRYLRMRRARRTRKGAVLI\n",
      "QSRWRGYRNRKAFLAMKRGFARLQATFRARKL\n",
      "\n",
      ">XP_001633882.1 predicted protein, partial [Nematostella vectensis]\n",
      "ARVWIPHPDLVWIGGELTKDIEDKILEILLEDGREIIIDTRKSRLPPLRNPEILVGENDLTTLSYLHEPA\n",
      "VLHNLNVRFIQSNAIYTYCGIVLVAINPYEELPLYGPDIVAAYRGRSMGDMDPHIFAVAEDAFQSMIRDE\n",
      "RNQSVIVSGESGAGKTVSAKYAMRYFSAVGGASTETQIEKKVIATNPIMEAIGNAKTIRNDNSSRFGKYL\n",
      "EISFDRNHHIIGAHMRTYLLEKSRVVFQAAEERNYHVFYQMCAACELPEMKDFRLAHPDNFSYLNQGDAP\n",
      "VVDSIDDADCFEELREALSMVGINDDEQLMLFRILSAILHLGNVEILQAGDDECTVEENDFHLEMTAVLL\n",
      "GIDKNQLRKWLCNRKIVTVGEVLIKPLSITEANYGREAISKRIYSQLFKWVVNTINCTLTSTSKPHSFIG\n",
      "VLDIYGFETFEINSFEQFCINYANEKLQQQFTQHVFKLEQDEYVREEIQWSFINFYDNQPCIDLIEAKLG\n",
      "ILDLLDEECKMPKGSDSQWAQKLYKQHLQKSKHFSKPRMSNLAFVIHHFADHVEYFVSGFVEKNRDTVND\n",
      "EHLALLRASEDEMVGEMFTENDAHSAPRKRAASRAGKQGGKGGKMFKSVGSQFSVSLSKLMETLNSTTPH\n",
      "YVRCIKPNDTKAPFEFHPKRSIQQLRACGVLETIRISAAGYPSRWTYREFFARYIMLLPSKKINRKKPRE\n",
      "TIKLILETFIKDEDMFQMGKTKIFFRAGQVAYLEKLRGDKLRRSCVMIQKNYRCYREHKLYLRMRKAAIL\n",
      "IQAWVRGDQARNLARSLRRNKSATTIQRYYRGFHLRQAYLRKHAAILTIQSYARGMSARRQRQVLLYNAK\n",
      "AGVIQRCWRGYKGRQKYRNYFKKIIFLQSCVRRMRARKELKKLKIEARSVEHFKALNKGMENKIIELQQR\n",
      "LDQEVRPAIQVAERTAVLRSDVLQQTCSNRHARQEAERTDAAERDLSEARKELDEARKWKGHYESSSARL\n",
      "VEMELVVSELRDELKRSMEARERVEKETKEEIEEKDEVTTLDERLEEQRVQILSEFEAERLNHQRVLRDY\n",
      "SRLEQRYQNLQDELEIVQTSPQKPLRSLDSVSTASSETSLVDALEKELREQEAEEPDEVRSIITKSQLFV\n",
      "RLRSKVMDLENRLVDAQSQLNKQSGETSAPNVPSIKVEEGDAWKQKTGKLQEIMKERDALKEEKEKVEAE\n",
      "QKKMGSELVLLRKLVSQRN\n",
      "\n",
      ">XP_001641578.1 predicted protein [Nematostella vectensis]\n",
      "MATSQNGPVVWGGRSILDNMVGVSDMVLLEPLTEDAIMENLWDRYNAKAIYTYIGNVVVSINPYRKFPLY\n",
      "TREVIAEYRSRNIYELPPHIYAIADDAYRSMRDHNKDQCIIITGESGSGKTEASKVIMQYVAAVCGKGRE\n",
      "VDRVKEQLLQSNPILEAFGNAKTLRNDNSSRFGKYMDIEFDFKGDPVGGVITKYLLEKSRLVYQNKGERN\n",
      "FHIFYHLLRGASDNLLDDLRLTRDFDGYHYLNQSECVSVPTKDDKEDFSVVEKAMEVVGFTEDEISAVYK\n",
      "LLSAILNLGNTELEEFTTSDGTEAVTVLNEQVLKNTCEMLQCDVELLLNSLRERTVETKTERVHTPLNVA\n",
      "QASYARDALAKAVYQRLFAWIVDRVNDSIQVRKRGKRKVIGVLDIYGFEIFVDNSFEQFIINYCNEKLQQ\n",
      "IFIELTLKSEQEEYVREGIEWTTIEYFNNAVICELIEKNHSGILALLDEECLRPGEVSDLTFLEKLDKQW\n",
      "IHHEHYESRKDKKYLSDKTLPHGYFRLKHYAGKVTYDVDGFLDKNNDLLFRGLSQCMYSCNHPLTKKLFP\n",
      "EGCPTKSSKRRPKTTATQFKESVAELMKNLKSKNPNYIRCIKPNERKAAGVFDERLIKHQVRYLGLMENI\n",
      "RVRRAGFAFRQEYPVALQRYKMLCPRTWPNWLGAPRDGIVELLKHLNVKPTEYAYGRTKIFIRNPRTLFA\n",
      "LEEKRKDGMEDLAVIIQKIFRGWRRKKQYQNMRRSEITIAKYYRRFRDQRDYRRMRNAAILIASYARGWK\n",
      "ARKAYRAILYERQCIWAVGIIKAYFVGWRVRKLFNPKFRRNAAPKIIRFIRHFLMFRYFTNLKKNLPSRR\n",
      "PLDTYWPSASPLFRRTNSILKNMYHRWRCMMYRKSLDNGRKAVLREKLQASELFKDKKVIYPATVSVPFL\n",
      "GDRLELVSNPKWKKNAVAHEVIVWSDNVLKVHRKDGKTVPRVLAVTCSEFIVADPKSMSAKYRVSLGDVQ\n",
      "KISVSPLKDGLVVFHVRPEKTDKDHVKGDYVFQTDHVIELVTKVMMQLDAERDLLADVHVAENIAVNFQG\n",
      "HILEMHFQNSGRELPQALCKRKGATIDIFV\n",
      "\n",
      ">XP_001624024.1 predicted protein, partial [Nematostella vectensis]\n",
      "GTLVWFDGEQGYLLPGFVIGSSGNSVKVQHENSMRTYIGKILLSVNPYKQLDSYTPELVEKYADQAIGRL\n",
      "PPHIFAIGSAAYAEIQKGGAHQVIVISGESGAGKTESTKQLVQYLATANPTKGSLTTEQIVEATPLLESF\n",
      "GNAKTVKNDNSSRFGKYLEIFFDSEGSICGARISEYLLERSRIVGQVRKERNYHIFYEMLAGLPQEKKQQ\n",
      "LQLKSAEEHHYLNKGHGLIQKRCDLAAFSKVISAMEILEISESERDGIFTTLAAVLHLGDAGFYKGLASA\n",
      "HDVAVLRDEHEAEITAHLLGLDAQHLIKALMHKQTEARGEQIFSPRNTEQAIDARDAIAKELYSRVFTWL\n",
      "VNRVNGMVFHGKQRSSIAILDIFGFEDFRINSFEQLCINYANESLQFFFNQFIFKMEQDEYTIEGIPWHE\n",
      "VKYTDNQACLDLMAKPPHGILHLLSDESNFPKATDLSFLEKCHQYHKASKAYVKPKMHVPEFAVSHFAGT\n",
      "VTYKVHGFLDKNRDGLKQDLTDLLCKTNSEVMMEIGSLKMPRENRKNSLKAPPNSIQKSTVCAKFNDSLI\n",
      "RLVVAMKRCNPFFVRCIRPNPDKAPDEFVEKLVLDQIRYCGILETVKIRKTGFPIRIVYPNFVKR\n",
      "\n",
      "\n"
     ]
    }
   ],
   "source": [
    "handle3 = Entrez.efetch(db=\"protein\",\n",
    "                       rettype=\"fasta\",\n",
    "                       retmode=\"text\", \n",
    "                       webenv = webenvtest, \n",
    "                       query_key = query_keytest)\n",
    "print(handle3.read())\n",
    "\n",
    "# works fine"
   ]
  },
  {
   "cell_type": "code",
   "execution_count": 72,
   "metadata": {
    "collapsed": false,
    "scrolled": true
   },
   "outputs": [
    {
     "ename": "KeyError",
     "evalue": "'Count'",
     "output_type": "error",
     "traceback": [
      "\u001b[0;31m---------------------------------------------------------------------------\u001b[0m",
      "\u001b[0;31mKeyError\u001b[0m                                  Traceback (most recent call last)",
      "\u001b[0;32m<ipython-input-72-5934203b3c2f>\u001b[0m in \u001b[0;36m<module>\u001b[0;34m()\u001b[0m\n\u001b[1;32m      5\u001b[0m \u001b[0mwebenvtest\u001b[0m \u001b[0;34m=\u001b[0m \u001b[0msearch_results\u001b[0m\u001b[0;34m[\u001b[0m\u001b[0;34m\"WebEnv\"\u001b[0m\u001b[0;34m]\u001b[0m\u001b[0;34m\u001b[0m\u001b[0m\n\u001b[1;32m      6\u001b[0m \u001b[0mquery_keytest\u001b[0m \u001b[0;34m=\u001b[0m \u001b[0msearch_results\u001b[0m\u001b[0;34m[\u001b[0m\u001b[0;34m\"QueryKey\"\u001b[0m\u001b[0;34m]\u001b[0m\u001b[0;34m\u001b[0m\u001b[0m\n\u001b[0;32m----> 7\u001b[0;31m \u001b[0mcount\u001b[0m \u001b[0;34m=\u001b[0m \u001b[0mint\u001b[0m\u001b[0;34m(\u001b[0m\u001b[0msearch_results\u001b[0m\u001b[0;34m[\u001b[0m\u001b[0;34m\"Count\"\u001b[0m\u001b[0;34m]\u001b[0m\u001b[0;34m)\u001b[0m\u001b[0;34m\u001b[0m\u001b[0m\n\u001b[0m\u001b[1;32m      8\u001b[0m \u001b[0;34m\u001b[0m\u001b[0m\n\u001b[1;32m      9\u001b[0m \u001b[0;31m#handleQ = Entrez.efetch(db=\"protein\",\u001b[0m\u001b[0;34m\u001b[0m\u001b[0;34m\u001b[0m\u001b[0m\n",
      "\u001b[0;31mKeyError\u001b[0m: 'Count'"
     ]
    }
   ],
   "source": [
    "from Bio import Entrez\n",
    "Entrez.email = \"hspeck@ucla.edu\"\n",
    "search_results = Entrez.read(Entrez.epost(db =\"protein\", \n",
    "                   id = \",\".join(pruned_query_ids)))\n",
    "webenvtest = search_results[\"WebEnv\"]\n",
    "query_keytest = search_results[\"QueryKey\"]\n",
    "handleQ = Entrez.efetch(db=\"protein\",\n",
    "                       rettype=\"fasta\",\n",
    "                       retmode=\"text\", \n",
    "                       webenv = webenvtest, \n",
    "                       query_key = query_keytest)\n",
    "print(handleQ.read())\n",
    "count"
   ]
  },
  {
   "cell_type": "code",
   "execution_count": 73,
   "metadata": {
    "collapsed": false
   },
   "outputs": [
    {
     "data": {
      "text/plain": [
       "dict_keys(['WebEnv', 'QueryKey'])"
      ]
     },
     "execution_count": 73,
     "metadata": {},
     "output_type": "execute_result"
    }
   ],
   "source": []
  },
  {
   "cell_type": "code",
   "execution_count": null,
   "metadata": {
    "collapsed": true
   },
   "outputs": [],
   "source": [
    "# here is current way to post and retrieve sequences\n",
    "\n",
    "with open(\"/home/eeb177-student/Desktop/eeb-177/project/sandbox/Testrun_multi_genes_same_org/Batch_run_workspace/entrez_test_mult_queries.txt\", \"r\") as query_file:\n",
    "    query_ids = query_file.read().splitlines()\n",
    "# get the list of ids\n",
    "    \n",
    "from Bio import Entrez\n",
    "Entrez.email = \"hspeck@ucla.edu\"\n",
    "# import library, let NCBI know who I am \n",
    "\n",
    "output_file = open(\"test_seq_download.fasta\", \"w\")\n",
    "# open the output file to write\n",
    "\n",
    "search_results = Entrez.read(Entrez.epost(db =\"protein\", \n",
    "                                          id = \",\".join(pruned_query_ids)))  # needs the id's to be as a list separated by commas\n",
    "#post the results to NCBI, assign the dictionary to search_results variable\n",
    "\n",
    "webenv_return = search_results[\"WebEnv\"]\n",
    "query_key_return = search_results[\"QueryKey\"]\n",
    "#grab the relevant objects, although I could just call them in the search\n",
    "\n",
    "handle = Entrez.efetch(db=\"protein\",\n",
    "                       rettype=\"fasta\",\n",
    "                       retmode=\"text\", \n",
    "                       webenv = webenv_return, \n",
    "                       query_key = query_key_return)\n",
    "\n",
    "output_file.write(handle.read())\n",
    "    #writes to the file\n",
    "handle.close()\n",
    "    #closes the handle, not sure if needed, but do it anyway\n",
    "output_file.close()\n",
    "    #closes the file to actually write to it"
   ]
  },
  {
   "cell_type": "markdown",
   "metadata": {},
   "source": [
    "# Ok let's adapt their loop!\n",
    "\n",
    "assumes we have run the search as above, they used esearch\n",
    "we've used epost, let's see if works out\n",
    "\n",
    "need to assign a count variable to the output of search results for their loop to work,\n",
    "this makes me unsure that it will actually work\n",
    "tested it above, the only keys epost returns are the webenv and query_key\n",
    "\n",
    "however, I already know the length of the returns, because I specifically asked for a certain number\n",
    "can just use len(query_ids) to get the appropriate stop position"
   ]
  },
  {
   "cell_type": "code",
   "execution_count": 74,
   "metadata": {
    "collapsed": false
   },
   "outputs": [
    {
     "name": "stdout",
     "output_type": "stream",
     "text": [
      "Going to download record 1 to 3\n",
      "Going to download record 4 to 6\n",
      "Going to download record 7 to 9\n",
      "Going to download record 10 to 12\n",
      "Going to download record 13 to 15\n",
      "Going to download record 16 to 18\n",
      "Going to download record 19 to 21\n",
      "Going to download record 22 to 24\n",
      "Going to download record 25 to 27\n",
      "Going to download record 28 to 29\n"
     ]
    }
   ],
   "source": [
    "with open(\"/home/eeb177-student/Desktop/eeb-177/project/sandbox/Testrun_multi_genes_same_org/Batch_run_workspace/entrez_test_mult_queries.txt\", \"r\") as query_file:\n",
    "    query_ids = query_file.read().splitlines()\n",
    "#open the file, grab the ids\n",
    "\n",
    "from Bio import Entrez\n",
    "Entrez.email = \"hspeck@ucla.edu\"\n",
    "# import Bio Entrez, let NCBI know who I am\n",
    "\n",
    "search_results = Entrez.read(Entrez.epost(db =\"protein\", \n",
    "                                          id = \",\".join(query_ids)))  # needs the id's to be as a list separated by commas\n",
    "#upload the IDs to NCBI\n",
    "webenv_return = search_results[\"WebEnv\"]\n",
    "query_key_return = search_results[\"QueryKey\"]\n",
    "#grab the relevant variables to call on the stuff we posted\n",
    "\n",
    "count = len(query_ids)\n",
    "#assigns the count based on the number of sequences we searched for\n",
    "\n",
    "from urllib.error import HTTPError\n",
    "# load required library for the try and except conditions\n",
    "\n",
    "batch_size = 7\n",
    "#this determines how many things we retrieve and write to the file\n",
    "#can safely be larger in the future\n",
    "\n",
    "out_handle = open(\"testing_loop_downloads.fasta\", \"w\")\n",
    "#open file to write to\n",
    "\n",
    "for start in range(0, count, batch_size):\n",
    "    end = min(count, start+batch_size)\n",
    "    print(\"Going to download record %i to %i\" % (start+1, end))\n",
    "    attempt = 0\n",
    "    while attempt < 3:\n",
    "        attempt += 1\n",
    "        try:\n",
    "            fetch_handle = Entrez.efetch(db=\"protein\", #says which db\n",
    "                                         rettype=\"fasta\", #says what format the data should be in\n",
    "                                         retmode=\"text\", #what the output should be\n",
    "                                         retstart = start, #say what range of results you want returned\n",
    "                                         retmax = batch_size, #say end of range of results want returned\n",
    "                                         webenv = webenv_return, #specify the info we uploaded with ePost\n",
    "                                         query_key = query_key_return)\n",
    "        except HTTPError as err:\n",
    "            if 500 <= err.code <= 599:\n",
    "                print(\"Recieved error from server %s\" % err)\n",
    "                print(\"Attempt %i of 3\" % attempt)\n",
    "                time.sleep\n",
    "            else:\n",
    "                raise\n",
    "    data = fetch_handle.read()\n",
    "    fetch_handle.close()\n",
    "    out_handle.write(data)\n",
    "out_handle.close()\n",
    "\n"
   ]
  },
  {
   "cell_type": "markdown",
   "metadata": {},
   "source": [
    "# The Loop Works!"
   ]
  },
  {
   "cell_type": "markdown",
   "metadata": {},
   "source": [
    "## MAKE IT A FUNCTION!\n"
   ]
  },
  {
   "cell_type": "code",
   "execution_count": 81,
   "metadata": {
    "collapsed": false
   },
   "outputs": [],
   "source": [
    "def download_seqs_from_list(filename):    \n",
    "    with open(filename, \"r\") as query_file:\n",
    "        query_ids = query_file.read().splitlines()\n",
    "    #open the file, grab the ids\n",
    "\n",
    "    from Bio import Entrez\n",
    "    Entrez.email = \"hspeck@ucla.edu\"\n",
    "    # import Bio Entrez, let NCBI know who I am\n",
    "\n",
    "    search_results = Entrez.read(Entrez.epost(db =\"protein\", \n",
    "                                              id = \",\".join(query_ids)))  # needs the id's to be as a list separated by commas\n",
    "    #upload the IDs to NCBI\n",
    "    webenv_return = search_results[\"WebEnv\"]\n",
    "    query_key_return = search_results[\"QueryKey\"]\n",
    "    #grab the relevant variables to call on the stuff we posted\n",
    "\n",
    "    count = len(query_ids)\n",
    "    #assigns the count based on the number of sequences we searched for\n",
    "\n",
    "    from urllib.error import HTTPError\n",
    "    # load required library for the try and except conditions\n",
    "\n",
    "    batch_size = 20\n",
    "    #this determines how many things we retrieve and write to the file\n",
    "    #can safely be larger in the future\n",
    "\n",
    "    out_handle = open(\"testing_loop_downloads.fasta\", \"w\")\n",
    "    #open file to write to\n",
    "\n",
    "    for start in range(0, count, batch_size):\n",
    "        end = min(count, start+batch_size)\n",
    "        print(\"Going to download record %i to %i\" % (start+1, end))\n",
    "        attempt = 0\n",
    "        while attempt < 3:\n",
    "            attempt += 1\n",
    "            try:\n",
    "                fetch_handle = Entrez.efetch(db=\"protein\", #says which db\n",
    "                                             rettype=\"fasta\", #says what format the data should be in\n",
    "                                             retmode=\"text\", #what the output should be\n",
    "                                             retstart = start, #say what range of results you want returned\n",
    "                                             retmax = batch_size, #say end of range of results want returned\n",
    "                                             webenv = webenv_return, #specify the info we uploaded with ePost\n",
    "                                             query_key = query_key_return)\n",
    "            except HTTPError as err:\n",
    "                if 500 <= err.code <= 599:\n",
    "                    print(\"Recieved error from server %s\" % err)\n",
    "                    print(\"Attempt %i of 3\" % attempt)\n",
    "                    time.sleep\n",
    "                else:\n",
    "                    raise\n",
    "        data = fetch_handle.read()\n",
    "        fetch_handle.close()\n",
    "        out_handle.write(data)\n",
    "    out_handle.close()\n"
   ]
  },
  {
   "cell_type": "code",
   "execution_count": 80,
   "metadata": {
    "collapsed": false
   },
   "outputs": [
    {
     "name": "stdout",
     "output_type": "stream",
     "text": [
      "Going to download record 1 to 20\n",
      "Going to download record 21 to 40\n",
      "Going to download record 41 to 59\n"
     ]
    }
   ],
   "source": [
    "# testing the function form of the thingy\n",
    "test_file_input = \"/home/eeb177-student/Desktop/eeb-177/project/sandbox/Testrun_multi_genes_same_org/Batch_run_workspace/entrez_test_mult_queries.txt\"\n",
    "download_seqs_from_list(test_file_input)\n",
    "#still outputs into Testing loop Fasta\n",
    "#having trouble finding a way to name the output automatically, will have to think on it"
   ]
  },
  {
   "cell_type": "markdown",
   "metadata": {},
   "source": [
    "Now to test it with one of my full length sequences\n",
    "```\n",
    "cat myosin_VIIA_summary.csv | cut -d \",\" -f 1 | cut -d \":\" -f 2 > myosin_VIIa_gi.txt\n",
    "```\n",
    "used to grab the sequences of interst\n",
    "\n",
    "Actually, let's go with Whirlin, it should be more interesting\n",
    "```\n",
    "cat WHRN_summary.csv | cut -d \",\" -f 1 | cut -d \":\" -f 2 > WHRN_gi.txt\n",
    "```\n",
    "plus it only has 649 sequences unlike most of the other ones\n"
   ]
  },
  {
   "cell_type": "code",
   "execution_count": 82,
   "metadata": {
    "collapsed": true
   },
   "outputs": [],
   "source": [
    "#for now I am going to manually change the names of the output file\n",
    "def download_seqs_from_list(filename):    \n",
    "    with open(filename, \"r\") as query_file:\n",
    "        query_ids = query_file.read().splitlines()\n",
    "    #open the file, grab the ids\n",
    "\n",
    "    from Bio import Entrez\n",
    "    Entrez.email = \"hspeck@ucla.edu\"\n",
    "    # import Bio Entrez, let NCBI know who I am\n",
    "\n",
    "    search_results = Entrez.read(Entrez.epost(db =\"protein\", \n",
    "                                              id = \",\".join(query_ids)))  # needs the id's to be as a list separated by commas\n",
    "    #upload the IDs to NCBI\n",
    "    webenv_return = search_results[\"WebEnv\"]\n",
    "    query_key_return = search_results[\"QueryKey\"]\n",
    "    #grab the relevant variables to call on the stuff we posted\n",
    "\n",
    "    count = len(query_ids)\n",
    "    #assigns the count based on the number of sequences we searched for\n",
    "\n",
    "    from urllib.error import HTTPError\n",
    "    # load required library for the try and except conditions\n",
    "\n",
    "    batch_size = 20\n",
    "    #this determines how many things we retrieve and write to the file\n",
    "    #can safely be larger in the future\n",
    "\n",
    "    out_handle = open(\"WHRN_loop_downloads.fasta\", \"w\")\n",
    "    #open file to write to\n",
    "\n",
    "    for start in range(0, count, batch_size):\n",
    "        end = min(count, start+batch_size)\n",
    "        print(\"Going to download record %i to %i\" % (start+1, end))\n",
    "        attempt = 0\n",
    "        while attempt < 3:\n",
    "            attempt += 1\n",
    "            try:\n",
    "                fetch_handle = Entrez.efetch(db=\"protein\", #says which db\n",
    "                                             rettype=\"fasta\", #says what format the data should be in\n",
    "                                             retmode=\"text\", #what the output should be\n",
    "                                             retstart = start, #say what range of results you want returned\n",
    "                                             retmax = batch_size, #say end of range of results want returned\n",
    "                                             webenv = webenv_return, #specify the info we uploaded with ePost\n",
    "                                             query_key = query_key_return)\n",
    "            except HTTPError as err:\n",
    "                if 500 <= err.code <= 599:\n",
    "                    print(\"Recieved error from server %s\" % err)\n",
    "                    print(\"Attempt %i of 3\" % attempt)\n",
    "                    time.sleep\n",
    "                else:\n",
    "                    raise\n",
    "        data = fetch_handle.read()\n",
    "        fetch_handle.close()\n",
    "        out_handle.write(data)\n",
    "    out_handle.close()\n"
   ]
  },
  {
   "cell_type": "code",
   "execution_count": 83,
   "metadata": {
    "collapsed": false
   },
   "outputs": [
    {
     "name": "stdout",
     "output_type": "stream",
     "text": [
      "Going to download record 1 to 20\n",
      "Going to download record 21 to 40\n",
      "Going to download record 41 to 60\n",
      "Going to download record 61 to 80\n",
      "Going to download record 81 to 100\n",
      "Going to download record 101 to 120\n",
      "Going to download record 121 to 140\n",
      "Going to download record 141 to 160\n",
      "Going to download record 161 to 180\n",
      "Going to download record 181 to 200\n",
      "Going to download record 201 to 220\n",
      "Going to download record 221 to 240\n",
      "Going to download record 241 to 260\n",
      "Going to download record 261 to 280\n",
      "Going to download record 281 to 300\n",
      "Going to download record 301 to 320\n",
      "Going to download record 321 to 340\n",
      "Going to download record 341 to 360\n",
      "Going to download record 361 to 380\n",
      "Going to download record 381 to 400\n",
      "Going to download record 401 to 420\n",
      "Going to download record 421 to 440\n",
      "Going to download record 441 to 460\n",
      "Going to download record 461 to 480\n",
      "Going to download record 481 to 500\n",
      "Going to download record 501 to 520\n",
      "Going to download record 521 to 540\n",
      "Going to download record 541 to 560\n",
      "Going to download record 561 to 580\n",
      "Going to download record 581 to 600\n",
      "Going to download record 601 to 620\n",
      "Going to download record 621 to 640\n",
      "Going to download record 641 to 649\n"
     ]
    }
   ],
   "source": [
    "whirlin_gi_file = \"/home/eeb177-student/Desktop/eeb-177/project/sandbox/Testrun_multi_genes_same_org/Batch_run_workspace/WHRN_gi.txt\"\n",
    "download_seqs_from_list(whirlin_gi_file)"
   ]
  },
  {
   "cell_type": "code",
   "execution_count": null,
   "metadata": {
    "collapsed": true
   },
   "outputs": [],
   "source": []
  }
 ],
 "metadata": {
  "anaconda-cloud": {},
  "kernelspec": {
   "display_name": "Python [default]",
   "language": "python",
   "name": "python3"
  },
  "language_info": {
   "codemirror_mode": {
    "name": "ipython",
    "version": 3
   },
   "file_extension": ".py",
   "mimetype": "text/x-python",
   "name": "python",
   "nbconvert_exporter": "python",
   "pygments_lexer": "ipython3",
   "version": "3.5.2"
  }
 },
 "nbformat": 4,
 "nbformat_minor": 2
}
