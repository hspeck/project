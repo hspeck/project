{
 "cells": [
  {
   "cell_type": "markdown",
   "metadata": {},
   "source": [
    "# Multiple Sequence Alignment Pseudocode\n",
    "\n",
    "\n",
    "idea is to download sequences and align them at the last step\n",
    "    \n",
    "    for gene in genelist\n",
    "        open and read file contents of gene_AscNum.txt into list Asc_list\n",
    "            #created with BLAST previously\n",
    "        for Ascension_number in Asc_list\n",
    "            go to appropriate GENBANK page\n",
    "            download FASTA file into temp-holder-file\n",
    "            append contents of temp-holder-file to gene_seq-input.txt\n",
    "        feed to Multiple Alignment tool\n",
    "            assign output to gene_align-output.txt\n",
    "        feed gene_align-output.txt to TreeMakerTool\n",
    "            assign output to gene_tree-output.tree \n",
    "                #or whatever appropriate file configuration.\n",
    "    "
   ]
  },
  {
   "cell_type": "code",
   "execution_count": null,
   "metadata": {
    "collapsed": true
   },
   "outputs": [],
   "source": []
  }
 ],
 "metadata": {
  "anaconda-cloud": {},
  "kernelspec": {
   "display_name": "Python [default]",
   "language": "python",
   "name": "python3"
  },
  "language_info": {
   "codemirror_mode": {
    "name": "ipython",
    "version": 3
   },
   "file_extension": ".py",
   "mimetype": "text/x-python",
   "name": "python",
   "nbconvert_exporter": "python",
   "pygments_lexer": "ipython3",
   "version": "3.5.2"
  }
 },
 "nbformat": 4,
 "nbformat_minor": 2
}
