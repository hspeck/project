{
 "cells": [
  {
   "cell_type": "markdown",
   "metadata": {},
   "source": [
    "# Usher Syndrome and the Evolution of Metazoan Sensory Structures\n"
   ]
  },
  {
   "cell_type": "markdown",
   "metadata": {},
   "source": [
    "## Introduction\n",
    "\n",
    "Usher Syndrome (USH), a genetic sensory disorder, is the most common cause of combined blindness-deafness in humans.  The genes associated with Usher syndrome play key structural and functional roles in ciliated sensory cells of the vertebrate retina and inner ear.  Usher genes form interciliary links and their anchoring complexes in photoreceptors and the mechanosensory hair cell (Kremer et al 2006).  When a mutation occurs in one of these genes,  mechanotransduction is abolished and the retina degenerates, resulting in blindness, deafness and impaired vestibular function.  \n",
    "\n",
    "Given the key role these genes play in vertebrate sensory structures, it is concievable that these genes may serve similar sensory functions in other Metazoan groups.   Previously thought to be confined to vertebrates, USH homologs were identifed within an Echinoderm genome (Sodergren 2006).  Recently, USH homologs have been shown to be upregulated in the choanocytes of the sponge *Ephydatia*, hinting that these genes may play a conserved role in the evolution of ciliated sensory structures of the Metazoa, and begging the question of how early these genes arose (Pena et al 2016).  By investigating the evolutionary history of the genes involved in Usher syndrome, this project can better determine how the suite of genes involved with Usher syndrome were assembled within the Metazoa and its close relatives, and what role these genes might have played in the sensory evolution of early animals."
   ]
  },
  {
   "cell_type": "markdown",
   "metadata": {},
   "source": [
    "## Steps to the process"
   ]
  },
  {
   "cell_type": "markdown",
   "metadata": {},
   "source": [
    "### BLAST  Human USH sequences against NCBI data base\n",
    "\n",
    "```\n",
    "def search_taxa_all_gene_delay(list_of_taxa):\n",
    "    # blasts sequences in a file against a user submitted list of taxa\n",
    "    # loop through the list and run blast for each one\n",
    "    # will save each result to a separate xml file\n",
    "    \n",
    "    \n",
    "    from Bio.Blast import NCBIWWW\n",
    "        # imports the NCBIWWW module from Biopython to allow remote querry \n",
    "        \n",
    "    import time\n",
    "        # let's us delay imputs to not spam the NCBI servers and get kicked off\n",
    "    \n",
    "    with open(\"USH_Search_seq.fasta\", \"r\") as fasta_file:\n",
    "        sequences = fasta_file.read()\n",
    "        fasta_file.close()\n",
    "        #reads in sequences we will be searching\n",
    "        \n",
    "    for i in list_of_taxa:\n",
    "        result_handle = NCBIWWW.qblast(\"blastp\", # specifies the program for a protein-protein search\n",
    "                                       \"refseq_protein\",  #  database of protein sequences\n",
    "                                       sequences, # our list of sequences we read in\n",
    "                                       alignments = 100, # asks for 100 best hits\n",
    "                                       descriptions = 100, \n",
    "                                       expect = 0.00001, # specifies the E-value cut off (i.e. how likely a random match for our query would be\n",
    "                                       entrez_query = str(i)) # specifies the taxa as we loop through it\n",
    "                                       \n",
    "        file_name=str(\"USH_Search_\"+str(i)+\".xml\") #this creates a name for the file\n",
    "        \n",
    "        save_file=open(file_name, \"w\")  #we are opening a file that does not yet exist to write to it\n",
    "        \n",
    "        save_file.write(result_handle.read())  #writing the result of our blast search to local file\n",
    "        \n",
    "        save_file.close() #closing it to allow the file to actually write it\n",
    "        result_handle.close() #close the results handle\n",
    "        \n",
    "        print(\"created \"+ file_name) #this is just a nice way to track the progress of the program\n",
    "        \n",
    "        time.sleep(60)  #this gives 1 minute between writing the output and sending another request to the ncbi server\n",
    "            # NCBI is a shared resource, so you can't monopolize computer time\n",
    "        \n",
    "```\n",
    "\n",
    "\n",
    "Here is the list of taxa:\n",
    "```\n",
    "full_taxa_file_name=open(\"/home/eeb177-student/Desktop/eeb-177/project/sandbox/Testrun_multi_genes_same_org/full_list_taxa_NCBI.txt\", \"r\")\n",
    "```\n",
    "please note that this only includes all the taxa from NCBI's database, there are still a number I want to include in the analysis from separate databases"
   ]
  },
  {
   "cell_type": "markdown",
   "metadata": {},
   "source": [
    "### Parse BLAST Output to CSV\n",
    "```\n",
    "def parse_and_summarize(blast_output_xml):\n",
    "    #  goes through the output of a BLAST xml file and finds the relevant stats to summarize the search\n",
    "    from Bio.Blast import NCBIXML\n",
    "    from Bio.SeqRecord import SeqRecord\n",
    "    #import the required libraries\n",
    "    \n",
    "    for file_name in blast_output_xml:\n",
    "        result_handle = open(str(file_name), \"r\") #sets the result handle\n",
    "        \n",
    "        blast_records = NCBIXML.parse(result_handle)\n",
    "        #need to use parse if it has multiple records in it\n",
    "        \n",
    "        for blast_record in blast_records:\n",
    "            org_desig=file_name.split(\"_\")[2].split(\"[\")[0].replace(\" \", \"_\")\n",
    "            #properly formats the taxa id so we can use it to name things\n",
    "            \n",
    "            homo_sapiens = \"[Homo sapiens]\"\n",
    "            blast_query=blast_record.query\n",
    "            if homo_sapiens in blast_query:\n",
    "                gene_name=blast_record.query.split(\"|\")[4].split(\"[\")[0].replace(\" \", \"_\").replace(\"_protein\", \"\").replace(\"_isoform_b3\", \"\")\n",
    "                formated_gene_name = gene_name[1:-1]\n",
    "            else:\n",
    "                formated_gene_name=blast_query.split(\"|\")[4].split(\"_\")[0]\n",
    "            #this conditional properly formats the gene name so we can use it to name things\n",
    "                #Basically there are 2 formats of sequence names I used to do the search\n",
    "                #this statement switches the naming convention depending on which is used\n",
    "                #it's not very general, so in the future I will make sure to properly name my search sequences\n",
    "                #that should make this statement unnecessary \n",
    "```\n",
    "This gives us the BLAST results for one gene in one species as a CSV"
   ]
  },
  {
   "cell_type": "markdown",
   "metadata": {},
   "source": [
    "### Further functions needed\n",
    "\n",
    "##### Combine Records for a gene into one CSV and download from NCBI\n",
    "\n",
    "```\n",
    "for gene in list of genes:\n",
    "    Search the names of files for the common gene, regardless of organism\n",
    "        if file matches this,\n",
    "        grab the column with gene ids and append to txt document holding all the sequences for one gene\n",
    "    Check for redundant gene ids (use sort and uniq\n",
    "    \n",
    "    Submit list of genes to NCBI for retrieval\n",
    "        (do this during a low useage moment so as to not get banned from the system)\n",
    "    save sequences and IDs to file > list_of_retrieved_sequences.\n",
    "```"
   ]
  },
  {
   "cell_type": "markdown",
   "metadata": {},
   "source": [
    "##### Check for Homology\n",
    "use HMMER to annotate domains of sequences and see if the appropriate domains are there\n",
    "\n",
    "```\n",
    "for gene in list_of_retrieved_sequences:\n",
    "    hmmer gene vs pfam database\n",
    "        for hit from hmmer of sufficient significance:\n",
    "            add domain id and length to metadata of sequence\n",
    "        if annotated sequence has at least one of each domain present in search sequence:\n",
    "            add to document containing list of potential homologs and their sequence\n",
    "```"
   ]
  },
  {
   "cell_type": "markdown",
   "metadata": {},
   "source": [
    "##### Align and build tree\n",
    "Use Muscle and tree builder to build the trees:\n",
    "```\n",
    "for all docs in list of vetted sequences:\n",
    "    alignment_muscle = muscle align(sequences within the docs)\n",
    "    tree object = treemaker(alingment_muscle)\n",
    "```\n",
    "##### Vet the genes again:\n",
    "    ```\n",
    "    If gene in gene_list clusters with known_human_USH_gene\n",
    "        Search CSV of taxa for gene ID\n",
    "        Extract taxa ID associated with gene ID\n",
    "        write to homolog_summary_doc: \"ORG NAME\" + \"GENE NAME\" + \"PRESENT\"\n",
    "    Create summary Table\n",
    "        \n",
    "    ```    \n",
    "    \n",
    "<img src= \"USH_SummaryTable_dummy.png\">\n",
    "Summary table of homologs I made prior to this class by hand, not programmatically"
   ]
  },
  {
   "cell_type": "markdown",
   "metadata": {},
   "source": [
    "##### Reconcile tree with species tree\n",
    "compare the trees generated to established species trees\n",
    "```\n",
    "for gene_tree in list_of_tree_objects:\n",
    "    comparison_tree = (well support tree of Metazoa)\n",
    "    calibrate gene_tree with comparison_tree\n",
    "    \n",
    "```\n",
    "<img src=\"Darwins_first_tree.jpg\">\n",
    "\n",
    "Placeholder image of tree,  by Charles Darwin, retrieved from Wikimedia Commons"
   ]
  },
  {
   "cell_type": "markdown",
   "metadata": {},
   "source": [
    "## References\n",
    "Kremer, H., van Wijk, E., Märker, T., Wolfrum, U., & Roepman, R. (2006). Usher syndrome: molecular links of pathogenesis, proteins and pathways. Human molecular genetics, 15(suppl 2), R262-R270.\n",
    "\n",
    "Sodergren, E., Weinstock, G.M., Davidson, E.H., Cameron, R.A., Gibbs, R.A., Angerer, R.C., Angerer, L.M., Arnone, M.I., Burgess, D.R., Burke, R.D. and Coffman, J.A., 2006. The genome of the sea urchin Strongylocentrotus purpuratus. Science, 314(5801), pp.941-952.\n",
    "\n",
    "Peña, J. F., Alié, A., Richter, D. J., Wang, L., Funayama, N., & Nichols, S. A. (2016). Conserved expression of vertebrate microvillar gene homologs in choanocytes of freshwater sponges. EvoDevo, 7(1), 13."
   ]
  },
  {
   "cell_type": "code",
   "execution_count": null,
   "metadata": {
    "collapsed": true
   },
   "outputs": [],
   "source": []
  }
 ],
 "metadata": {
  "anaconda-cloud": {},
  "kernelspec": {
   "display_name": "Python [default]",
   "language": "python",
   "name": "python3"
  },
  "language_info": {
   "codemirror_mode": {
    "name": "ipython",
    "version": 3
   },
   "file_extension": ".py",
   "mimetype": "text/x-python",
   "name": "python",
   "nbconvert_exporter": "python",
   "pygments_lexer": "ipython3",
   "version": "3.5.2"
  }
 },
 "nbformat": 4,
 "nbformat_minor": 2
}
