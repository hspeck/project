{
 "cells": [
  {
   "cell_type": "markdown",
   "metadata": {},
   "source": [
    "### I have improved on this quite a bit\n",
    "here is my new function:\n",
    "\n",
    "\n"
   ]
  },
  {
   "cell_type": "code",
   "execution_count": 1,
   "metadata": {
    "collapsed": true
   },
   "outputs": [],
   "source": [
    "def search_taxa_all_gene_delay(list_of_taxa):\n",
    "    #takes a list of taxa and will run blast for sequences contained in a file\n",
    "    #will loop through the list and run blast for each one\n",
    "    #will save each result to a separate xml file\n",
    "    from Bio.Blast import NCBIWWW\n",
    "        #imports the NCBIWWW module from Biopython\n",
    "    import time\n",
    "        #gives us the ability to delay our imputs to not spam the NCBI servers and get kicked off\n",
    "    \n",
    "    with open(\"USH_Search_seq.fasta\", \"r\") as fasta_file:\n",
    "        sequences = fasta_file.read()\n",
    "        fasta_file.close()\n",
    "        #reads in the file we will be searching\n",
    "        \n",
    "    for i in list_of_taxa:\n",
    "        result_handle = NCBIWWW.qblast(\"blastp\", \"refseq_protein\", sequences, alignments=100, descriptions=100, expect=0.00001, entrez_query=str(i))\n",
    "        file_name=str(\"USH_Search_\"+str(i)+\".xml\") #this creates a name for the file\n",
    "        save_file=open(file_name, \"w\")  #we are opening a file that does not yet exist to write to it\n",
    "        save_file.write(result_handle.read())  #writing the result of our blast search to local file\n",
    "        save_file.close() #closing it to allow the file to actually write it\n",
    "        result_handle.close() #close the results handle\n",
    "        print(\"created \"+ file_name)\n",
    "        time.sleep(60)  #this gives 1 minute between writing the output and sending another request to the ncbi server\n",
    "            #hopefully this will prevent spamming the server \n",
    "        "
   ]
  },
  {
   "cell_type": "code",
   "execution_count": 2,
   "metadata": {
    "collapsed": true
   },
   "outputs": [],
   "source": [
    "taxa_list=[\"txid81824[ORGN]\", \"txid44689[ORGN]\", \"txid946362[ORGN]\", \"txid529818[ORGN]\", \"txid192875[ORGN]\", \"txid10228[ORGN]\", \"txid400682[ORGN]\", \"txid9606[ORGN]\", \"txid45351[ORGN]\", \"txid6087[ORGN]\", \"txid7668[ORGN]\", \"txid6239[ORGN]\", \"txid7227[ORGN]\", \"txid37653[ORGN]\", \"txid10228[ORGN]\", \"txid400682[ORGN]\", \"txid7574[ORGN]\"]"
   ]
  },
  {
   "cell_type": "code",
   "execution_count": null,
   "metadata": {
    "collapsed": true
   },
   "outputs": [],
   "source": [
    "#search_taxa_all_gene_delay(taxa_list)\n",
    "\n",
    "#this is for the full search, it takes quite a while"
   ]
  },
  {
   "cell_type": "code",
   "execution_count": null,
   "metadata": {
    "collapsed": true
   },
   "outputs": [],
   "source": [
    "taxa_2_list=[\"txid400682[ORGN]\",\"txid45351[ORGN]\"]\n",
    "taxa_all_gene_delay(taxa_2_list)\n",
    "#this is a more manageable chunk"
   ]
  },
  {
   "cell_type": "markdown",
   "metadata": {},
   "source": [
    "### The output of this command is found in the directory\n",
    "project/sandbox/Testrun_multi_genes_same_org/Batch_run_workspace\n",
    "\n",
    "which is in a folder within this directory "
   ]
  },
  {
   "cell_type": "code",
   "execution_count": null,
   "metadata": {
    "collapsed": true
   },
   "outputs": [],
   "source": [
    "\n"
   ]
  },
  {
   "cell_type": "markdown",
   "metadata": {},
   "source": [
    "# For Posterity here is the old function"
   ]
  },
  {
   "cell_type": "markdown",
   "metadata": {},
   "source": [
    "here is the set up needed"
   ]
  },
  {
   "cell_type": "code",
   "execution_count": 1,
   "metadata": {
    "collapsed": true
   },
   "outputs": [],
   "source": [
    "taxa_2_list=[\"txid400682[ORGN]\",\"txid45351[ORGN]\"]\n",
    "#input this into the function\n",
    "#these correspond to Amphimedon queenslandica and Nematostella vectensis"
   ]
  },
  {
   "cell_type": "code",
   "execution_count": 2,
   "metadata": {
    "collapsed": true
   },
   "outputs": [],
   "source": [
    "def get_results_for_gene(taxa_list):\n",
    "    for i in taxa_list:\n",
    "        from Bio.Blast import NCBIWWW\n",
    "        result_handle=NCBIWWW.qblast(\"blastp\", \"refseq_protein\", \"Q495M9.1\",entrez_query = str(i))\n",
    "        file_name=str(\"SANS_fromlist_\"+str(i)+\".xml\")\n",
    "        save_file=open(file_name, \"w\")  #we are opening a file that does not yet exist to write to it\n",
    "        save_file.write(result_handle.read())  #writing the result of our blast search to local file\n",
    "        save_file.close() #closing it to allow the file to actually write it\n",
    "        result_handle.close() #close the results handle\n"
   ]
  },
  {
   "cell_type": "markdown",
   "metadata": {},
   "source": [
    "Here is a screenshot of the output"
   ]
  },
  {
   "cell_type": "markdown",
   "metadata": {},
   "source": [
    "output <img src=\"files/Screenshot executable_funct_output.png\">"
   ]
  },
  {
   "cell_type": "markdown",
   "metadata": {
    "collapsed": true
   },
   "source": [
    "# End Old Function"
   ]
  },
  {
   "cell_type": "code",
   "execution_count": null,
   "metadata": {
    "collapsed": true
   },
   "outputs": [],
   "source": []
  },
  {
   "cell_type": "code",
   "execution_count": null,
   "metadata": {
    "collapsed": true
   },
   "outputs": [],
   "source": []
  },
  {
   "cell_type": "code",
   "execution_count": null,
   "metadata": {
    "collapsed": true
   },
   "outputs": [],
   "source": []
  },
  {
   "cell_type": "code",
   "execution_count": null,
   "metadata": {
    "collapsed": true
   },
   "outputs": [],
   "source": []
  },
  {
   "cell_type": "markdown",
   "metadata": {},
   "source": [
    "### Alternate function"
   ]
  },
  {
   "cell_type": "code",
   "execution_count": null,
   "metadata": {
    "collapsed": true
   },
   "outputs": [],
   "source": [
    "#SET UP\n",
    "\n",
    "from Bio.Blast import NCBIWWW\n",
    "result_handle=NCBIWWW.qblast(\"blastn\", \"refseq_rna\", \"8332116\")\n",
    "#this is using the example sequence from biopython\n",
    "\n",
    "save_file=open(\"my_blast2.xml\", \"w\")  #we are opening a file that does not yet exist to write to it\n",
    "save_file.write(result_handle.read())  #writing the result of our blast search to local file\n",
    "save_file.close() #closing it to allow the file to actually write it\n",
    "result_handle.close()\n",
    "\n",
    "result_handle=open('my_blast2.xml')\n",
    "\n",
    "#this is to get the file needed for the function\n"
   ]
  },
  {
   "cell_type": "code",
   "execution_count": null,
   "metadata": {
    "collapsed": true
   },
   "outputs": [],
   "source": [
    "#defining the function\n",
    "def get_csv_summary(handle):\n",
    "    from Bio.Blast import NCBIXML\n",
    "    blast_record = NCBIXML.read(handle)\n",
    "    E_VALUE_THRESH=0.00001  #this sets the e_value cut of\n",
    "    for alignment in blast_record.alignments:\n",
    "        for hsp in alignment.hsps:\n",
    "            if hsp.expect < E_VALUE_THRESH:\n",
    "                print(alignment.title +\" ; \"+  #prints the sequence aligned to\n",
    "                      \"length: \", str(alignment.length) +\" ; \"+ #the length of the alignment\n",
    "                      \"e value:\", str(hsp.expect)+\" ; \"+ #the evalue\n",
    "                      \"score:\", str(hsp.score)+\"; \\n\") #the bitscore\n",
    "            #can then work over these columns and subdivide them as necessary\n",
    "                #i.e. spliting on ; to get the columns, then : or | as appropriate\n",
    "                #| for the name of the thing, : for the values associated\n",
    "            #for later work I will make this write to a file, but to show it works I will print these items to the screen"
   ]
  },
  {
   "cell_type": "code",
   "execution_count": null,
   "metadata": {
    "collapsed": true
   },
   "outputs": [],
   "source": [
    "get_csv_summary(result_handle)\n",
    "#calling the function"
   ]
  },
  {
   "cell_type": "code",
   "execution_count": null,
   "metadata": {
    "collapsed": true
   },
   "outputs": [],
   "source": []
  },
  {
   "cell_type": "code",
   "execution_count": null,
   "metadata": {
    "collapsed": true
   },
   "outputs": [],
   "source": []
  },
  {
   "cell_type": "code",
   "execution_count": null,
   "metadata": {
    "collapsed": true
   },
   "outputs": [],
   "source": []
  },
  {
   "cell_type": "code",
   "execution_count": null,
   "metadata": {
    "collapsed": true
   },
   "outputs": [],
   "source": []
  },
  {
   "cell_type": "code",
   "execution_count": null,
   "metadata": {
    "collapsed": true
   },
   "outputs": [],
   "source": []
  },
  {
   "cell_type": "code",
   "execution_count": null,
   "metadata": {
    "collapsed": true
   },
   "outputs": [],
   "source": []
  },
  {
   "cell_type": "markdown",
   "metadata": {},
   "source": [
    "Below this point is a function I am working on.\n",
    "\n",
    "I am having trouble getting the function to work.\n",
    "\n",
    "I keep getting no associated database with the entrez queries I call.  I have tried all manner calling the entrez entries with quotes and such, but it never works\n",
    "\n",
    "Unfortunately, the program takes a long time to respond, due to remotely accessing the NCBI servers.  This makes trouble shooting difficult, so I can't make it work in time for the deadline."
   ]
  },
  {
   "cell_type": "code",
   "execution_count": 6,
   "metadata": {
    "collapsed": false
   },
   "outputs": [],
   "source": [
    "\n",
    "def gene_find_and_save(gene):\n",
    "    ####want to take a gene sequence and blast it against an organism's database on NCBI remotely\n",
    "    ####then will output the result to a file that is formatted correctly\n",
    "    ####then go through a loop and do it again\n",
    "    from Bio.Blast import NCBIWWW\n",
    "    for key, value in org_search_Dict.items():\n",
    "        org_query='txid'+str(org)+'[ORGN]' \n",
    "            #creates the properly fomated name to send to NCBI for the taxa\n",
    "        Blast_handle=NCBIWWW.qblast(program=\"blastp\", sequence=str(search_seq_Dict[gene]), database=\"refseq_rna\", entrez_query=str(org_query))\n",
    "        blast_file_name=gene+\"-\"+org+\".xml\"  #creates the file name in the right format\n",
    "        saved_file=open(blast_file_name, \"w\")\n",
    "        saved_file.write(Blast_handle.read())  #writing the result of our blast search to local file\n",
    "        saved_file.close() #closing it to allow the file to actually write it\n",
    "        Blast_handle.close()\n"
   ]
  },
  {
   "cell_type": "code",
   "execution_count": 10,
   "metadata": {
    "collapsed": true
   },
   "outputs": [],
   "source": [
    "\n",
    "seq_search_Dict={}\n",
    "seq_search_Dict[\"MYOVIIA\"]='\"AAB03679.1\"'\n",
    "seq_search_Dict[\"Harmonin\"]='\"NP_710142.1\"'\n",
    "seq_search_Dict[\"SANS\"]='\"Q495M9.1\"'\n",
    "    #setting up the dictionary to hold the sequences to be searched\n",
    "        #side note:there is almost certainly a better way to do this\n",
    "        #I will make this more elegant in the future and more generic\n",
    "            #i.e. hopefully not needing the dictionary etc\n",
    "    #put in \"MYOVIIA\" to the function"
   ]
  },
  {
   "cell_type": "code",
   "execution_count": 11,
   "metadata": {
    "collapsed": false
   },
   "outputs": [
    {
     "name": "stdout",
     "output_type": "stream",
     "text": [
      "{'SANS': '\"Q495M9.1\"', 'Harmonin': '\"NP_710142.1\"', 'MYOVIIA': '\"AAB03679.1\"'}\n",
      "\"AAB03679.1\"\n"
     ]
    }
   ],
   "source": [
    "print(seq_search_Dict)\n",
    "print(seq_search_Dict[\"MYOVIIA\"])"
   ]
  },
  {
   "cell_type": "code",
   "execution_count": 21,
   "metadata": {
    "collapsed": false
   },
   "outputs": [
    {
     "data": {
      "text/plain": [
       "'\"AAB03679.1\"'"
      ]
     },
     "execution_count": 21,
     "metadata": {},
     "output_type": "execute_result"
    }
   ],
   "source": [
    "seq_search_Dict[\"MYOVIIA\"]"
   ]
  },
  {
   "cell_type": "code",
   "execution_count": 22,
   "metadata": {
    "collapsed": true
   },
   "outputs": [],
   "source": [
    "org_search_Dict={}\n",
    "#org_search_Dict[\"Nema_vec\"] = 45351\n",
    "org_search_Dict[\"Amph_que\"] = 400682"
   ]
  },
  {
   "cell_type": "code",
   "execution_count": 23,
   "metadata": {
    "collapsed": false
   },
   "outputs": [
    {
     "name": "stdout",
     "output_type": "stream",
     "text": [
      "{'Amph_que': 400682}\n"
     ]
    }
   ],
   "source": [
    "print(org_search_Dict)"
   ]
  },
  {
   "cell_type": "code",
   "execution_count": 12,
   "metadata": {
    "collapsed": false
   },
   "outputs": [
    {
     "name": "stdout",
     "output_type": "stream",
     "text": [
      "SANS Amph_que\n",
      "Harmonin Amph_que\n",
      "MYOVIIA Amph_que\n",
      "__________________________\n",
      "\"Q495M9.1\" 400682\n",
      "\"NP_710142.1\" 400682\n",
      "\"AAB03679.1\" 400682\n"
     ]
    }
   ],
   "source": [
    "for gene in seq_search_Dict.keys():\n",
    "    for org in org_search_Dict.keys():\n",
    "        print(gene +\" \"+ org)\n",
    "print(\"__________________________\")\n",
    "for gene in seq_search_Dict.values():\n",
    "    for org in org_search_Dict.values():\n",
    "        print(str(gene) +\" \"+ str(org))"
   ]
  },
  {
   "cell_type": "code",
   "execution_count": 5,
   "metadata": {
    "collapsed": false
   },
   "outputs": [
    {
     "name": "stdout",
     "output_type": "stream",
     "text": [
      "Amph_que 400682\n"
     ]
    }
   ],
   "source": [
    "for org, ID in org_search_Dict.items():\n",
    "    print(org + \" \" + str(ID))"
   ]
  },
  {
   "cell_type": "code",
   "execution_count": 19,
   "metadata": {
    "collapsed": false
   },
   "outputs": [
    {
     "ename": "ValueError",
     "evalue": "Error message from NCBI: Message ID#68 Error: Error occurred while trying to set up a Blast Object from CGI context: CFastaReader: Near line 1, there's a line that doesn't look like plausible data, but it's not marked as defline or comment.",
     "output_type": "error",
     "traceback": [
      "\u001b[0;31m---------------------------------------------------------------------------\u001b[0m",
      "\u001b[0;31mValueError\u001b[0m                                Traceback (most recent call last)",
      "\u001b[0;32m<ipython-input-19-c324574d367e>\u001b[0m in \u001b[0;36m<module>\u001b[0;34m()\u001b[0m\n\u001b[1;32m      7\u001b[0m                                   \u001b[0msequence\u001b[0m \u001b[0;34m=\u001b[0m \u001b[0mseq_search_Dict\u001b[0m\u001b[0;34m[\u001b[0m\u001b[0mgene\u001b[0m\u001b[0;34m]\u001b[0m\u001b[0;34m,\u001b[0m \u001b[0;31m#specifies which seq to search\u001b[0m\u001b[0;34m\u001b[0m\u001b[0m\n\u001b[1;32m      8\u001b[0m                                   \u001b[0mdatabase\u001b[0m\u001b[0;34m=\u001b[0m\u001b[0;34m\"refseq_protein\"\u001b[0m\u001b[0;34m,\u001b[0m \u001b[0;31m#specifies which general database\u001b[0m\u001b[0;34m\u001b[0m\u001b[0m\n\u001b[0;32m----> 9\u001b[0;31m                                   entrez_query=\"txid400682[orgn]\") #specifies which organism\n\u001b[0m\u001b[1;32m     10\u001b[0m     \u001b[0mblast_file_name\u001b[0m \u001b[0;34m=\u001b[0m \u001b[0mkey\u001b[0m \u001b[0;34m+\u001b[0m \u001b[0;34m\"Amph_que\"\u001b[0m \u001b[0;34m+\u001b[0m \u001b[0;34m\".xml\"\u001b[0m  \u001b[0;31m#creates a file name which incorporates the name of the org\u001b[0m\u001b[0;34m\u001b[0m\u001b[0m\n\u001b[1;32m     11\u001b[0m     \u001b[0msaved_file\u001b[0m\u001b[0;34m=\u001b[0m\u001b[0mopen\u001b[0m\u001b[0;34m(\u001b[0m\u001b[0mblast_file_name\u001b[0m\u001b[0;34m,\u001b[0m \u001b[0;34m\"w\"\u001b[0m\u001b[0;34m)\u001b[0m  \u001b[0;31m#uses that file name to open a file that we can write to\u001b[0m\u001b[0;34m\u001b[0m\u001b[0m\n",
      "\u001b[0;32m/home/eeb177-student/miniconda3/lib/python3.5/site-packages/Bio/Blast/NCBIWWW.py\u001b[0m in \u001b[0;36mqblast\u001b[0;34m(program, database, sequence, url_base, auto_format, composition_based_statistics, db_genetic_code, endpoints, entrez_query, expect, filter, gapcosts, genetic_code, hitlist_size, i_thresh, layout, lcase_mask, matrix_name, nucl_penalty, nucl_reward, other_advanced, perc_ident, phi_pattern, query_file, query_believe_defline, query_from, query_to, searchsp_eff, service, threshold, ungapped_alignment, word_size, alignments, alignment_view, descriptions, entrez_links_new_window, expect_low, expect_high, format_entrez_query, format_object, format_type, ncbi_gi, results_file, show_overview, megablast)\u001b[0m\n\u001b[1;32m    134\u001b[0m     \u001b[0;31m# Format the \"Get\" command, which gets the formatted results from qblast\u001b[0m\u001b[0;34m\u001b[0m\u001b[0;34m\u001b[0m\u001b[0m\n\u001b[1;32m    135\u001b[0m     \u001b[0;31m# Parameters taken from http://www.ncbi.nlm.nih.gov/BLAST/Doc/node6.html on 9 July 2007\u001b[0m\u001b[0;34m\u001b[0m\u001b[0;34m\u001b[0m\u001b[0m\n\u001b[0;32m--> 136\u001b[0;31m     \u001b[0mrid\u001b[0m\u001b[0;34m,\u001b[0m \u001b[0mrtoe\u001b[0m \u001b[0;34m=\u001b[0m \u001b[0m_parse_qblast_ref_page\u001b[0m\u001b[0;34m(\u001b[0m\u001b[0mhandle\u001b[0m\u001b[0;34m)\u001b[0m\u001b[0;34m\u001b[0m\u001b[0m\n\u001b[0m\u001b[1;32m    137\u001b[0m     parameters = [\n\u001b[1;32m    138\u001b[0m         \u001b[0;34m(\u001b[0m\u001b[0;34m'ALIGNMENTS'\u001b[0m\u001b[0;34m,\u001b[0m \u001b[0malignments\u001b[0m\u001b[0;34m)\u001b[0m\u001b[0;34m,\u001b[0m\u001b[0;34m\u001b[0m\u001b[0m\n",
      "\u001b[0;32m/home/eeb177-student/miniconda3/lib/python3.5/site-packages/Bio/Blast/NCBIWWW.py\u001b[0m in \u001b[0;36m_parse_qblast_ref_page\u001b[0;34m(handle)\u001b[0m\n\u001b[1;32m    234\u001b[0m             \u001b[0mmsg\u001b[0m \u001b[0;34m=\u001b[0m \u001b[0mmsg\u001b[0m\u001b[0;34m.\u001b[0m\u001b[0msplit\u001b[0m\u001b[0;34m(\u001b[0m\u001b[0;34m\"</p>\"\u001b[0m\u001b[0;34m,\u001b[0m \u001b[0;36m1\u001b[0m\u001b[0;34m)\u001b[0m\u001b[0;34m[\u001b[0m\u001b[0;36m0\u001b[0m\u001b[0;34m]\u001b[0m\u001b[0;34m.\u001b[0m\u001b[0msplit\u001b[0m\u001b[0;34m(\u001b[0m\u001b[0;34m\"\\n\"\u001b[0m\u001b[0;34m,\u001b[0m \u001b[0;36m1\u001b[0m\u001b[0;34m)\u001b[0m\u001b[0;34m[\u001b[0m\u001b[0;36m0\u001b[0m\u001b[0;34m]\u001b[0m\u001b[0;34m.\u001b[0m\u001b[0mstrip\u001b[0m\u001b[0;34m(\u001b[0m\u001b[0;34m)\u001b[0m\u001b[0;34m\u001b[0m\u001b[0m\n\u001b[1;32m    235\u001b[0m             \u001b[0;32mif\u001b[0m \u001b[0mmsg\u001b[0m\u001b[0;34m:\u001b[0m\u001b[0;34m\u001b[0m\u001b[0m\n\u001b[0;32m--> 236\u001b[0;31m                 \u001b[0;32mraise\u001b[0m \u001b[0mValueError\u001b[0m\u001b[0;34m(\u001b[0m\u001b[0;34m\"Error message from NCBI: %s\"\u001b[0m \u001b[0;34m%\u001b[0m \u001b[0mmsg\u001b[0m\u001b[0;34m)\u001b[0m\u001b[0;34m\u001b[0m\u001b[0m\n\u001b[0m\u001b[1;32m    237\u001b[0m         \u001b[0;31m# Generic search based on the way the error messages start:\u001b[0m\u001b[0;34m\u001b[0m\u001b[0;34m\u001b[0m\u001b[0m\n\u001b[1;32m    238\u001b[0m         \u001b[0mi\u001b[0m \u001b[0;34m=\u001b[0m \u001b[0ms\u001b[0m\u001b[0;34m.\u001b[0m\u001b[0mfind\u001b[0m\u001b[0;34m(\u001b[0m\u001b[0;34m'Message ID#'\u001b[0m\u001b[0;34m)\u001b[0m\u001b[0;34m\u001b[0m\u001b[0m\n",
      "\u001b[0;31mValueError\u001b[0m: Error message from NCBI: Message ID#68 Error: Error occurred while trying to set up a Blast Object from CGI context: CFastaReader: Near line 1, there's a line that doesn't look like plausible data, but it's not marked as defline or comment."
     ]
    }
   ],
   "source": [
    "for gene in seq_search_Dict.keys():\n",
    "    \n",
    "    from Bio.Blast import NCBIWWW #imports NCBIWWW which is needed to blast vs NCBI's database\n",
    "    \n",
    "    # org_query = 'txid' + str(value) + '[ORGN]'  # concatenates to a string indicating which taxa database to blast against\n",
    "    Blast_handle = NCBIWWW.qblast(program=\"blastp\",\n",
    "                                  sequence = seq_search_Dict[gene], \n",
    "                                  database=\"refseq_protein\", \n",
    "                                  entrez_query=\"txid400682[orgn]\") \n",
    "    blast_file_name = key + \"Amph_que\" + \".xml\"  #creates a file name which incorporates the name of the org\n",
    "    saved_file=open(blast_file_name, \"w\")  #uses that file name to open a file that we can write to\n",
    "    saved_file.write(Blast_handle.read())  #writing the results of our blast to this file\n",
    "    saved_file.close()  #closes the file to allow the program to write to it\n",
    "    \n"
   ]
  },
  {
   "cell_type": "code",
   "execution_count": null,
   "metadata": {
    "collapsed": true
   },
   "outputs": [],
   "source": []
  },
  {
   "cell_type": "code",
   "execution_count": null,
   "metadata": {
    "collapsed": false
   },
   "outputs": [],
   "source": [
    "gene_find_and_save(\"MYOVIIA\")"
   ]
  },
  {
   "cell_type": "code",
   "execution_count": null,
   "metadata": {
    "collapsed": true
   },
   "outputs": [],
   "source": []
  },
  {
   "cell_type": "markdown",
   "metadata": {},
   "source": [
    "# STUFF BELOW HERE IS NOTES AND WORK"
   ]
  },
  {
   "cell_type": "code",
   "execution_count": 9,
   "metadata": {
    "collapsed": false
   },
   "outputs": [
    {
     "name": "stdout",
     "output_type": "stream",
     "text": [
      "{'Hyd_vulg': 12836, 'Acro_por': 10529, 'Nem_vect': 45351, 'Amph_que': 2698}\n"
     ]
    }
   ],
   "source": [
    "org_list=[\"Nem_vect\", \"Acro_por\", \"Hyd_vulg\", \"Amph_que\"]\n",
    "taxon_number=[45351, 10529, 12836, 2698]\n",
    "org_dict={}\n",
    "for org in range(0, len(org_list)):\n",
    "    org_dict[org_list[org]]=taxon_number[int(org)]\n",
    "    \n",
    "print(org_dict)\n"
   ]
  },
  {
   "cell_type": "code",
   "execution_count": 12,
   "metadata": {
    "collapsed": false
   },
   "outputs": [
    {
     "name": "stdout",
     "output_type": "stream",
     "text": [
      "txid45351[ORGN]\n",
      "txid10529[ORGN]\n",
      "txid12836[ORGN]\n",
      "txid2698[ORGN]\n"
     ]
    }
   ],
   "source": [
    "\n",
    "for org in org_list:\n",
    "    org_query=str(\"txid\"+str(org_dict[org])+\"[ORGN]\")\n",
    "    print(org_query)"
   ]
  },
  {
   "cell_type": "code",
   "execution_count": null,
   "metadata": {
    "collapsed": true
   },
   "outputs": [],
   "source": [
    "org_list=[\"Nem_vect\", \"Acro_por\", \"Hyd_vulg\", \"Amph_que\"]\n",
    "\n",
    "org_db={}\n",
    "def gene_find_and_summarize(gene, org):\n",
    "    from Bio.Blast import NCBIWWW\n",
    "    org_query=str(\"txid\"+str(org_dict[org])+\"[ORGN]\")\n",
    "    Blast_handle=NCBIWWW.qblast(program=\"tblastn\", sequence=gene, database=\"refseq_rna\", entrez_query=org_query)\n"
   ]
  },
  {
   "cell_type": "code",
   "execution_count": null,
   "metadata": {
    "collapsed": true
   },
   "outputs": [],
   "source": [
    "from Bio.Blast import NCBIWWW\n",
    "MYOVIIA_seq=\"MVILQQGDHVWMDLRLGQEFDVPIGAVVKLCDSGQVQVVDDEDNEHWISPQNATHIKPMHPTSVHGVEDMIRLGDLNEAGILRNLLIRYRDHLIYTYTGSILVAVNPYQLLSIYSPEHIRQYTNKKIGEMPPHIFAIADNCYFNMKRNSRDQCCIISGESGAGKTESTKLILQFLAAISGQHSWIEQQVLEATPILEAFGNAKTIRNDNSSRFGKYIDIHFNKRGAIEGAKIEQYLLEKSRVCRQALDERNYHVFYCMLEGMSEDQKKKLGLGQASDYNYLAMGNCITCEGRVDSQEYANIRSAMKVLMFTDTENWEISKLLAAILHLGNLQYEARTFENLDACEVLFSPSLATAASLLEVNPPDLMSCLTSRTLITRGETVSTPLSREQALDVRDAFVKGIYGRLFVWIVDKINAAIYKPPSQDVKNSRRSIGLLDIFGFENFAVNSFEQLCINFANEHLQQFFVRHVFKLEQEEYDLESIDWLHIEFTDNQDALDMIANKPMNIISLIDEESKFPKGTDTTMLHKLNSQHKLNANYIPPKNNHETQFGINHFAGIVYYETQGFLEKNRDTLHGDIIQLVHSSRNKFIKQIFQADVAMGAETRKRSPTLSSQFKRSLELLMRTLGACQPFFVRCIKPNEFKKPMLFDRHLCVRQLRYSGMMETIRIRRAGYPIRYSFVEFVERYRVLLPGVKPAYKQGDLRGTCQRMAEAVLGTHDDWQIGKTKIFLKDHHDMLLEVERDKAITDRVILLQKVIRGFKDRSNFLKLKNAATLIQRHWRGHNCRKNYGLMRLGFLRLQALHRSRKLHQQYRLARQRIIQFQARCRAYLVRKAFRHRLWAVLTVQAYARGMIARRLHQRLRAEYLWRLEAEKMRLAEEEKLRKEMSAKKAKEEAERKHQERLAQLAREDAERELKEKEAARRKKELLEQMERARHEPVNHSDMVDKMFGFLGTSGGLPGQEGQAPSGFEDLERGRREMVEEDLDAALPLPDEDEEDLSEYKFAKFAATYFQGTTTHSYTRRPLKQPLLYHDDEGDQLAALAVWITILRFMGDLPEPKYHTAMSDGSEKIPVMTKIYETLGKKTYKRELQALQGEGEAQLPEGQKKSSVRHKLVHLTLKKKSKLTEEVTKRLHDGESTVQGNSMLEDRPTSNLEKLHFIIGNGILRPALRDEIYCQISKQLTHNPSKSSYARGWILVSLCVGCFAPSEKFVKYLRNFIHGGPPGYAPYCEERLRRTFVNGTRTQPPSWLELQATKSKKPIMLPVTFMDGTTKTLLTDSATTAKELCNALADKISLKDRFGFSLYIALFDKVSSLGSGSDHVMDAISQCEQYAKEQGAQERNAPWRLFFRKEVFTPWHSPSEDNVATNLIYQQVVRGVKFGEYRCEKEDDLAELASQQYFVDYGSEMILERLLNLVPTYIPDREITPLKTLEKWAQLAIAAHKKGIYAQRRTDAQKVKEDVVSYARFKWPLLFSRFYEAYKFSGPSLPKNDVIVAVNWTGVYFVDEQEQVLLELSFPEIMAVSSSRECRVWLSLGCSDLGCAAPHSGWAGLTPAGPCSPCWSCRGAKTTAPSFTLATIKGDEYTFTSSNAEDIRDLVVTFLEGLRKRSKYVVALQDNPNPAGEESGFLSFAKGDLIILDHDTGEQVMNSGWANGINERTKQRGDFPTDCVYVMPTVTMPPREIVALVTMTPDQRQDVVRLLQLRTAEPEVRAKPYTLEEFSYDYFRPPPKHTLSRVMVSKARGKDRLWSHTREPLKQALLKKLLGSEELSQEACLAFIAVLKYMGDYPSKRTRSVNELTDQIFEGPLKAEPLKDEAYVQILKQLTDNHIRYSEERGWELLWLCTGLFPPSNILLPHVQRFLQSRKHCPLAIDCLQRLQKALRNGSRKYPPHLVEVEAIQHKTTQIFHKVYFPDDTDEAFEVESSTKAKDFCQNIATRLLLKSSEGFSLFVKIADKVISVPENDFFFDFVRHLTDWIKKARPIKDGIVPSLTYQVFFMKKLWTTTVPGKDPMADSIFHYYQELPKYLRGYHKCTREEVLQLGALIYRVKFEEDKSYFPSIPKLLRELVPQDLIRQVSPDDWKRSIVAYFNKHAGKSKEEAKLAFLKLIFKWPTFGSAFFEVKQTTEPNFPEILLIAINKYGVSLIDPKTKDILTTHPFTKISNWSSGNTYFHITIGNLVRGSKLLCETSLGYKMDDLLTSYISQMLTAMSKQRGSRSGK\"\n",
    "test_handle=NCBIWWW.qblast(program=\"tblastn\", sequence=MYOVIIA_seq, database=\"refseq_rna\", entrez_query=\"txid45351[ORGN]\")\n",
    "saved_file=open(\"MYO_VII_BLASTres.xml\", \"w\")\n",
    "saved_file.write(test_handle.read())  #writing the result of our blast search to local file\n",
    "saved_file.close() #closing it to allow the file to actually write it\n",
    "test_handle.close()\n",
    "from Bio.Blast import NCBIXML\n",
    "blast_record = NCBIXML.read(open(\"MYO_VII_BLASTres.xml\"))\n",
    "MYO_CSV=open(\"MYO_VII_BLAST_Nematostella_Summary.csv\", \"w\")\n",
    "for alignment in blast_record.alignments:\n",
    "    for hsp in alignment.hsps:\n",
    "        length=str(alignment.length)\n",
    "        title=alignment.title\n",
    "        evalue=str(hsp.expect)\n",
    "        score=str(hsp.score)\n",
    "        output=(title+\"|\" + length + \"|\" + score + \"|\" + evalue + \"\\n\")\n",
    "        MYO_CSV.write(output)\n",
    "MYO_CSV.close()"
   ]
  },
  {
   "cell_type": "code",
   "execution_count": null,
   "metadata": {
    "collapsed": true
   },
   "outputs": [],
   "source": [
    "from Bio.Blast import NCBIXML\n",
    "blast_record = NCBIXML.read(open(\"MYO_VII_BLASTres.xml\"))\n",
    "MYO_CSV=open(\"MYO_VII_BLAST_Nematostella_Summary.csv\", \"w\")\n",
    "for alignment in blast_record.alignments:\n",
    "    for hsp in alignment.hsps:\n",
    "        length=str(alignment.length)\n",
    "        title=alignment.title\n",
    "        evalue=str(hsp.expect)\n",
    "        score=str(hsp.score)\n",
    "        output=(title+\"|\" + length + \"|\" + score + \"|\" + evalue + \"\\n\")\n",
    "        MYO_CSV.write(output)\n",
    "MYO_CSV.close()"
   ]
  },
  {
   "cell_type": "code",
   "execution_count": 35,
   "metadata": {
    "collapsed": true
   },
   "outputs": [],
   "source": [
    "search_seq_Dict={}\n",
    "search_seq_Dict[\"MYOVIIA\"]=\"MVILQQGDHVWMDLRLGQEFDVPIGAVVKLCDSGQVQVVDDEDNEHWISPQNATHIKPMHPTSVHGVEDMIRLGDLNEAGILRNLLIRYRDHLIYTYTGSILVAVNPYQLLSIYSPEHIRQYTNKKIGEMPPHIFAIADNCYFNMKRNSRDQCCIISGESGAGKTESTKLILQFLAAISGQHSWIEQQVLEATPILEAFGNAKTIRNDNSSRFGKYIDIHFNKRGAIEGAKIEQYLLEKSRVCRQALDERNYHVFYCMLEGMSEDQKKKLGLGQASDYNYLAMGNCITCEGRVDSQEYANIRSAMKVLMFTDTENWEISKLLAAILHLGNLQYEARTFENLDACEVLFSPSLATAASLLEVNPPDLMSCLTSRTLITRGETVSTPLSREQALDVRDAFVKGIYGRLFVWIVDKINAAIYKPPSQDVKNSRRSIGLLDIFGFENFAVNSFEQLCINFANEHLQQFFVRHVFKLEQEEYDLESIDWLHIEFTDNQDALDMIANKPMNIISLIDEESKFPKGTDTTMLHKLNSQHKLNANYIPPKNNHETQFGINHFAGIVYYETQGFLEKNRDTLHGDIIQLVHSSRNKFIKQIFQADVAMGAETRKRSPTLSSQFKRSLELLMRTLGACQPFFVRCIKPNEFKKPMLFDRHLCVRQLRYSGMMETIRIRRAGYPIRYSFVEFVERYRVLLPGVKPAYKQGDLRGTCQRMAEAVLGTHDDWQIGKTKIFLKDHHDMLLEVERDKAITDRVILLQKVIRGFKDRSNFLKLKNAATLIQRHWRGHNCRKNYGLMRLGFLRLQALHRSRKLHQQYRLARQRIIQFQARCRAYLVRKAFRHRLWAVLTVQAYARGMIARRLHQRLRAEYLWRLEAEKMRLAEEEKLRKEMSAKKAKEEAERKHQERLAQLAREDAERELKEKEAARRKKELLEQMERARHEPVNHSDMVDKMFGFLGTSGGLPGQEGQAPSGFEDLERGRREMVEEDLDAALPLPDEDEEDLSEYKFAKFAATYFQGTTTHSYTRRPLKQPLLYHDDEGDQLAALAVWITILRFMGDLPEPKYHTAMSDGSEKIPVMTKIYETLGKKTYKRELQALQGEGEAQLPEGQKKSSVRHKLVHLTLKKKSKLTEEVTKRLHDGESTVQGNSMLEDRPTSNLEKLHFIIGNGILRPALRDEIYCQISKQLTHNPSKSSYARGWILVSLCVGCFAPSEKFVKYLRNFIHGGPPGYAPYCEERLRRTFVNGTRTQPPSWLELQATKSKKPIMLPVTFMDGTTKTLLTDSATTAKELCNALADKISLKDRFGFSLYIALFDKVSSLGSGSDHVMDAISQCEQYAKEQGAQERNAPWRLFFRKEVFTPWHSPSEDNVATNLIYQQVVRGVKFGEYRCEKEDDLAELASQQYFVDYGSEMILERLLNLVPTYIPDREITPLKTLEKWAQLAIAAHKKGIYAQRRTDAQKVKEDVVSYARFKWPLLFSRFYEAYKFSGPSLPKNDVIVAVNWTGVYFVDEQEQVLLELSFPEIMAVSSSRECRVWLSLGCSDLGCAAPHSGWAGLTPAGPCSPCWSCRGAKTTAPSFTLATIKGDEYTFTSSNAEDIRDLVVTFLEGLRKRSKYVVALQDNPNPAGEESGFLSFAKGDLIILDHDTGEQVMNSGWANGINERTKQRGDFPTDCVYVMPTVTMPPREIVALVTMTPDQRQDVVRLLQLRTAEPEVRAKPYTLEEFSYDYFRPPPKHTLSRVMVSKARGKDRLWSHTREPLKQALLKKLLGSEELSQEACLAFIAVLKYMGDYPSKRTRSVNELTDQIFEGPLKAEPLKDEAYVQILKQLTDNHIRYSEERGWELLWLCTGLFPPSNILLPHVQRFLQSRKHCPLAIDCLQRLQKALRNGSRKYPPHLVEVEAIQHKTTQIFHKVYFPDDTDEAFEVESSTKAKDFCQNIATRLLLKSSEGFSLFVKIADKVISVPENDFFFDFVRHLTDWIKKARPIKDGIVPSLTYQVFFMKKLWTTTVPGKDPMADSIFHYYQELPKYLRGYHKCTREEVLQLGALIYRVKFEEDKSYFPSIPKLLRELVPQDLIRQVSPDDWKRSIVAYFNKHAGKSKEEAKLAFLKLIFKWPTFGSAFFEVKQTTEPNFPEILLIAINKYGVSLIDPKTKDILTTHPFTKISNWSSGNTYFHITIGNLVRGSKLLCETSLGYKMDDLLTSYISQMLTAMSKQRGSRSGK\"\n",
    "#put in \"MYOVIIA\" to the function"
   ]
  },
  {
   "cell_type": "code",
   "execution_count": 14,
   "metadata": {
    "collapsed": false
   },
   "outputs": [
    {
     "name": "stdout",
     "output_type": "stream",
     "text": [
      "txid2698[ORGN]\n"
     ]
    }
   ],
   "source": [
    "print(str(\"txid\"+str(org_dict[org])+\"[ORGN]\"))"
   ]
  },
  {
   "cell_type": "markdown",
   "metadata": {},
   "source": [
    "#here is a second part I am working on\n",
    "\n",
    "\n",
    "from Bio.Blast import NCBIXML\n",
    "        blast_record = NCBIXML.read(open(blast_file_name))\n",
    "        summary_name=gene+\"-\"+org+\".csv\"\n",
    "        MYO_CSV=open(summary_name, \"w\")\n",
    "        for alignment in blast_record.alignments:\n",
    "        for hsp in alignment.hsps:\n",
    "            length=str(alignment.length)\n",
    "            title=alignment.title\n",
    "            evalue=str(hsp.expect)\n",
    "            score=str(hsp.score)\n",
    "            output=(title+\"|\" + length + \"|\" + score + \"|\" + evalue + \"\\n\")\n",
    "            MYO_CSV.write(output)\n",
    "MYO_CSV.close()"
   ]
  },
  {
   "cell_type": "code",
   "execution_count": 5,
   "metadata": {
    "collapsed": false
   },
   "outputs": [
    {
     "name": "stdout",
     "output_type": "stream",
     "text": [
      "\"something\"\n"
     ]
    }
   ],
   "source": [
    "print(str('\"'+'something'+'\"'))"
   ]
  },
  {
   "cell_type": "code",
   "execution_count": null,
   "metadata": {
    "collapsed": true
   },
   "outputs": [],
   "source": []
  }
 ],
 "metadata": {
  "anaconda-cloud": {},
  "kernelspec": {
   "display_name": "Python [default]",
   "language": "python",
   "name": "python3"
  },
  "language_info": {
   "codemirror_mode": {
    "name": "ipython",
    "version": 3
   },
   "file_extension": ".py",
   "mimetype": "text/x-python",
   "name": "python",
   "nbconvert_exporter": "python",
   "pygments_lexer": "ipython3",
   "version": "3.5.2"
  }
 },
 "nbformat": 4,
 "nbformat_minor": 2
}
