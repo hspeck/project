{
 "cells": [
  {
   "cell_type": "code",
   "execution_count": null,
   "metadata": {
    "collapsed": true
   },
   "outputs": [],
   "source": [
    "def search_taxa_all_gene_delay(list_of_taxa):\n",
    "    #takes a list of taxa and will run blast for sequences contained in a file\n",
    "    #will loop through the list and run blast for each one\n",
    "    #will save each result to a separate xml file\n",
    "    from Bio.Blast import NCBIWWW\n",
    "        #imports the NCBIWWW module from Biopython\n",
    "    import time\n",
    "        #gives us the ability to delay our imputs to not spam the NCBI servers and get kicked off\n",
    "    \n",
    "    with open(\"USH_Search_seq.fasta\", \"r\") as fasta_file:\n",
    "        sequences = fasta_file.read()\n",
    "        fasta_file.close()\n",
    "        #reads in the file we will be searching\n",
    "        \n",
    "    for i in list_of_taxa:\n",
    "        result_handle = NCBIWWW.qblast(\"blastp\", \n",
    "                                       \"refseq_protein\", \n",
    "                                       sequences, \n",
    "                                       alignments=100, \n",
    "                                       descriptions=100, \n",
    "                                       expect=0.00001, \n",
    "                                       entrez_query=str(i))\n",
    "        file_name=str(\"USH_Search_\"+str(i)+\".xml\") #this creates a name for the file\n",
    "        save_file=open(file_name, \"w\")  #we are opening a file that does not yet exist to write to it\n",
    "        save_file.write(result_handle.read())  #writing the result of our blast search to local file\n",
    "        save_file.close() #closing it to allow the file to actually write it\n",
    "        result_handle.close() #close the results handle\n",
    "        print(\"created \"+ file_name)\n",
    "        time.sleep(60)  #this gives 1 minute between writing the output and sending another request to the ncbi server\n",
    "            #hopefully this will prevent spamming the server \n"
   ]
  },
  {
   "cell_type": "markdown",
   "metadata": {},
   "source": [
    "The output of a typical blast search against the Uniprot/swissprot database looks like this on the blast screen\n",
    "\n",
    "RecName: Full=Unconventional myosin-VIIa\n",
    "\n",
    "RecName: Full=Unconventional myosin-VIIb\n",
    "\n",
    "Ok we can parse this probably.\n",
    "\n",
    "let's run a simple search to search and see what the xml output will be, as it might include far more of the annotation\n",
    "\n",
    "\n",
    "\n",
    "\n",
    "Should use for database:\n",
    "swissprot\n",
    "\n",
    "should use txid 9606 for humans\n",
    "\n",
    "sequences should be the file where we have the best hits first search\n",
    "\n",
    "can limit alignments to only return the top one\n",
    "\n",
    "should have an evalue cutoff-\n",
    "what of? 0.00001 again? in most cases it won't matter as the reciprocal hit will be automatically much lower than that\n",
    "\n",
    "our output file should have \n",
    "sequence searched, sequence found, the E value or bit score, the "
   ]
  },
  {
   "cell_type": "code",
   "execution_count": 2,
   "metadata": {
    "collapsed": true
   },
   "outputs": [],
   "source": [
    "def reciprocal_best_hit_search(sequence_list):\n",
    "    #takes a file and will run blast for sequences contained in a file\n",
    "    #will find best hit for each\n",
    "    #will save as a single xml file\n",
    "    from Bio.Blast import NCBIWWW\n",
    "        #imports the NCBIWWW module from Biopython\n",
    "    import time\n",
    "        #gives us the ability to delay our imputs to not spam the NCBI servers and get kicked off\n",
    "    \n",
    "    with open(sequence_list, \"r\") as fasta_file:\n",
    "        sequences = fasta_file.read()\n",
    "        fasta_file.close()\n",
    "        #reads in the file we will be searching\n",
    "        \n",
    "\n",
    "    result_handle = NCBIWWW.qblast(\"blastp\",\n",
    "                                   \"swissprot\", \n",
    "                                   sequences, \n",
    "                                   alignments=1, \n",
    "                                   descriptions=1, \n",
    "                                   expect=0.00001, \n",
    "                                   entrez_query=\"txid9606[ORGN]\")\n",
    "#        file_name=str(\"USH_Search_\"+str(i)+\".xml\") #this creates a name for the file\n",
    "    save_file=open(\"testing_reciprocal_hits.xml\", \"w\")  #we are opening a file that does not yet exist to write to it\n",
    "    save_file.write(result_handle.read())  #writing the result of our blast search to local file\n",
    "    save_file.close() #closing it to allow the file to actually write it\n",
    "    result_handle.close() #close the results handle\n",
    "    print(\"created \"+ file_name)\n",
    "    time.sleep(60)  #this gives 1 minute between writing the output and sending another request to the ncbi server\n",
    "        #hopefully this will prevent spamming the server \n"
   ]
  },
  {
   "cell_type": "markdown",
   "metadata": {
    "collapsed": true
   },
   "source": [
    "Here is the file we are going to search against the blast database\n",
    "\n",
    "\n",
    "\"/home/eeb177-student/Desktop/eeb-177/project/sandbox/Best_hits/seqs_WHRN_best_hit_reduced_taxa_gi.txt\"\n",
    "\n"
   ]
  },
  {
   "cell_type": "markdown",
   "metadata": {},
   "source": [
    "# Testing out the blast function to make it work"
   ]
  },
  {
   "cell_type": "code",
   "execution_count": 6,
   "metadata": {
    "collapsed": false
   },
   "outputs": [
    {
     "name": "stdout",
     "output_type": "stream",
     "text": [
      "created testing_reciprocal_hits.xml\n"
     ]
    }
   ],
   "source": [
    "from Bio.Blast import NCBIWWW\n",
    "with open(\"/home/eeb177-student/Desktop/eeb-177/project/sandbox/Best_hits/seqs_WHRN_best_hit_reduced_taxa_gi.txt\", \"r\") as fasta_file:\n",
    "    sequences = fasta_file.read()\n",
    "    fasta_file.close()\n",
    "        \n",
    "result_handle = NCBIWWW.qblast(\"blastp\",\n",
    "                                \"swissprot\", \n",
    "                               sequences, \n",
    "                               alignments=1, \n",
    "                               descriptions=1, \n",
    "                               expect=0.00001, \n",
    "                               entrez_query=\"txid9606[ORGN]\")\n",
    "\n",
    "output_file_name = \"testing_reciprocal_hits.xml\"\n",
    "save_file=open(output_file_name, \"w\")  #we are opening a file that does not yet exist to write to it\n",
    "save_file.write(result_handle.read())  #writing the result of our blast search to local file\n",
    "save_file.close() #closing it to allow the file to actually write it\n",
    "result_handle.close() #close the results handle\n",
    "print(\"created \"+ output_file_name)\n"
   ]
  },
  {
   "cell_type": "markdown",
   "metadata": {},
   "source": [
    "# Now to parse the output"
   ]
  },
  {
   "cell_type": "code",
   "execution_count": 50,
   "metadata": {
    "collapsed": false,
    "scrolled": true
   },
   "outputs": [],
   "source": [
    "result_handle = open(\"testing_reciprocal_hits.xml\", \"r\")\n",
    "\n",
    "reciprocal_results = open(\"reciprocal_results.csv\", \"w\")\n",
    "from Bio.Blast import NCBIXML\n",
    "blast_records = NCBIXML.parse(result_handle)\n",
    "E_VALUE_THRESH=0.04\n",
    "for blast_record in blast_records:\n",
    "    for alignment in blast_record.alignments[:1]:\n",
    "        score_counter=[]\n",
    "        e_val_counter=[]\n",
    "        for hsp in alignment.hsps:\n",
    "            score=hsp.score\n",
    "            score_counter.append(score)\n",
    "            evalue=hsp.expect\n",
    "            e_val_counter.append(evalue)\n",
    "            query = hsp.query\n",
    "\n",
    "        seq_designation = alignment.title.split(\"|\")\n",
    "        gi_number = seq_designation[1]\n",
    "        ref_number = seq_designation[3]\n",
    "        annotation = seq_designation[4]\n",
    "        #breaking apart the annoation of the sequence name\n",
    "        #otherwise we'd have way too many delimiters within delimiters\n",
    "        output_line = str(ref_number + \",\" +\n",
    "                          annotation+ \",\" +\n",
    "                          str(min(e_val_counter))+ \"\\n\")\n",
    "        #this sets up the output for each alignment\n",
    "        reciprocal_results.write(output_line)\n",
    "\n",
    "reciprocal_results.close()       "
   ]
  },
  {
   "cell_type": "markdown",
   "metadata": {},
   "source": [
    "Ok so what we want to do is take the top result of this search\n",
    "add the annotation at the end to a file\n",
    "\n",
    "Merge this file with info from the original blast summary search\n",
    "\n",
    "namely:\n",
    "gene ID of search from human sequence,\n",
    "species it was found in\n",
    "Annotation of it\n",
    "then gene ID of top reciprocal hit\n",
    "annotation of riciprocal hit\n",
    "if this annotation matches what was expected (aka 1 or 0, or Y and N or TRUE and FALSE)\n",
    "\n",
    "Ok we took the top result for each thingy\n",
    "\n",
    "\n",
    "\n",
    "Let's walk through the first file we used to search.\n",
    "\n"
   ]
  },
  {
   "cell_type": "code",
   "execution_count": 51,
   "metadata": {
    "collapsed": false,
    "scrolled": true
   },
   "outputs": [
    {
     "name": "stdout",
     "output_type": "stream",
     "text": [
      "514683987,XP_004989574.1, hypothetical protein PTSG_09316 [Salpingoeca rosetta],1.00915e-47\n",
      "\n",
      "best reciprocal hit was:\n",
      "Q9P202.3,WHRN_HUMAN RecName: Full=Whirlin; AltName: Full=Autosomal recessive deafness type 31 protein,3.13045e-47\n",
      "\n",
      "470296585,XP_004345405.1, hypothetical protein CAOG_05815 [Capsaspora owczarzaki ATCC 30864],2.61943e-09\n",
      "\n",
      "best reciprocal hit was:\n",
      "Q9NSN8.1,SNTG1_HUMAN RecName: Full=Gamma-1-syntrophin; Short=G1SYN; AltName: Full=Syntrophin-4; Short=SYN4,3.6078e-31\n",
      "\n",
      "196008055,XP_002113893.1, hypothetical protein TRIADDRAFT_27973 [Trichoplax adhaerens],2.6604e-15\n",
      "\n",
      "best reciprocal hit was:\n",
      "O75970.2,MPDZ_HUMAN RecName: Full=Multiple PDZ domain protein; AltName: Full=Multi-PDZ domain protein 1,9.71117e-169\n",
      "\n",
      "1133456164,XP_003385034.3, PREDICTED: titin homolog isoform X1 [Amphimedon queenslandica],4.45008e-74\n",
      "\n",
      "best reciprocal hit was:\n",
      "Q9P202.3,WHRN_HUMAN RecName: Full=Whirlin; AltName: Full=Autosomal recessive deafness type 31 protein,3.52564e-73\n",
      "\n",
      "290746376,NP_056219.3, whirlin isoform 1 [Homo sapiens],0.0\n",
      "\n",
      "best reciprocal hit was:\n",
      "Q9P202.3,WHRN_HUMAN RecName: Full=Whirlin; AltName: Full=Autosomal recessive deafness type 31 protein,0.0\n",
      "\n",
      "156393382,XP_001636307.1, predicted protein [Nematostella vectensis],3.10421e-119\n",
      "\n",
      "best reciprocal hit was:\n",
      "Q9P202.3,WHRN_HUMAN RecName: Full=Whirlin; AltName: Full=Autosomal recessive deafness type 31 protein,2.02045e-124\n",
      "\n",
      "828213713,XP_002158118.2, PREDICTED: whirlin-like, partial [Hydra vulgaris],2.1641e-46\n",
      "\n",
      "best reciprocal hit was:\n",
      "Q9P202.3,WHRN_HUMAN RecName: Full=Whirlin; AltName: Full=Autosomal recessive deafness type 31 protein,1.42603e-45\n",
      "\n",
      "780112217,XP_011676653.1, PREDICTED: whirlin isoform X2 [Strongylocentrotus purpuratus],1.5316e-119\n",
      "\n",
      "best reciprocal hit was:\n",
      "Q9P202.3,WHRN_HUMAN RecName: Full=Whirlin; AltName: Full=Autosomal recessive deafness type 31 protein,4.35178e-122\n",
      "\n",
      "71984092,NP_001024431.1, Drosophila Discs LarGe homolog [Caenorhabditis elegans],7.68087e-13\n",
      "\n",
      "best reciprocal hit was:\n",
      "Q92796.2,DLG3_HUMAN RecName: Full=Disks large homolog 3; AltName: Full=Neuroendocrine-DLG; AltName: Full=Synapse-associated protein 102; Short=SAP-102; Short=SAP102; AltName: Full=XLMR,7.2538e-166\n",
      "\n",
      "442632182,NP_001261813.1, dyschronic, isoform J [Drosophila melanogaster],1.56322e-56\n",
      "\n",
      "best reciprocal hit was:\n",
      "Q9P202.3,WHRN_HUMAN RecName: Full=Whirlin; AltName: Full=Autosomal recessive deafness type 31 protein,4.00648e-58\n",
      "\n",
      "961078947,XP_014767796.1, PREDICTED: harmonin-like, partial [Octopus bimaculoides],3.05563e-24\n",
      "\n",
      "best reciprocal hit was:\n",
      "Q9Y6N9.3,USH1C_HUMAN RecName: Full=Harmonin; AltName: Full=Antigen NY-CO-38/NY-CO-37; AltName: Full=Autoimmune enteropathy-related antigen AIE-75; AltName: Full=Protein PDZ-73; AltName: Full=Renal carcinoma antigen NY-REN-3; AltName: Full=Usher syndrome type-1C protein,6.79269e-61\n",
      "\n",
      "919077915,XP_013420098.1, PREDICTED: uncharacterized protein LOC106180619 [Lingula anatina],4.54117e-141\n",
      "\n",
      "best reciprocal hit was:\n",
      "Q9P202.3,WHRN_HUMAN RecName: Full=Whirlin; AltName: Full=Autosomal recessive deafness type 31 protein,6.09303e-148\n",
      "\n"
     ]
    }
   ],
   "source": [
    "with open(\"/home/eeb177-student/Desktop/eeb-177/project/sandbox/Best_hits/gene_WHRN_best_hit_reduced_taxa_summary.csv\", \"r\") as initial_search:\n",
    "    possible_homologs_sequences = initial_search.readlines()\n",
    "\n",
    "with open(\"reciprocal_results.csv\", \"r\") as reciprocal_summary:\n",
    "    recip_results = reciprocal_summary.readlines()\n",
    "    \n",
    "for i in range(0, len(possible_homologs_sequences)):\n",
    "    print(possible_homologs_sequences[i])\n",
    "    print(\"best reciprocal hit was:\")\n",
    "    print(recip_results[i])"
   ]
  },
  {
   "cell_type": "markdown",
   "metadata": {},
   "source": [
    "That gives us a way to interperpolate the results, let's try to format them into a single line"
   ]
  },
  {
   "cell_type": "code",
   "execution_count": 62,
   "metadata": {
    "collapsed": false
   },
   "outputs": [
    {
     "name": "stdout",
     "output_type": "stream",
     "text": [
      "for the gene:\n",
      "Salpingoeca rosetta, hypothetical protein PTSG_09316 \n",
      "best reciprocal hit was:\n",
      "Q9P202.3, Whirlin\n",
      "for the gene:\n",
      "Capsaspora owczarzaki ATCC 30864, hypothetical protein CAOG_05815 \n",
      "best reciprocal hit was:\n",
      "Q9NSN8.1, Gamma-1-syntrophin\n",
      "for the gene:\n",
      "Trichoplax adhaerens, hypothetical protein TRIADDRAFT_27973 \n",
      "best reciprocal hit was:\n",
      "O75970.2, Multiple PDZ domain protein\n",
      "for the gene:\n",
      "Amphimedon queenslandica, PREDICTED: titin homolog isoform X1 \n",
      "best reciprocal hit was:\n",
      "Q9P202.3, Whirlin\n",
      "for the gene:\n",
      "Homo sapiens, whirlin isoform 1 \n",
      "best reciprocal hit was:\n",
      "Q9P202.3, Whirlin\n",
      "for the gene:\n",
      "Nematostella vectensis, predicted protein \n",
      "best reciprocal hit was:\n",
      "Q9P202.3, Whirlin\n"
     ]
    },
    {
     "ename": "IndexError",
     "evalue": "list index out of range",
     "output_type": "error",
     "traceback": [
      "\u001b[0;31m---------------------------------------------------------------------------\u001b[0m",
      "\u001b[0;31mIndexError\u001b[0m                                Traceback (most recent call last)",
      "\u001b[0;32m<ipython-input-62-f1664c995098>\u001b[0m in \u001b[0;36m<module>\u001b[0;34m()\u001b[0m\n\u001b[1;32m      9\u001b[0m     \u001b[0mhomolog_id\u001b[0m \u001b[0;34m=\u001b[0m \u001b[0mhomolog_info\u001b[0m\u001b[0;34m[\u001b[0m\u001b[0;36m1\u001b[0m\u001b[0;34m]\u001b[0m\u001b[0;34m\u001b[0m\u001b[0m\n\u001b[1;32m     10\u001b[0m     \u001b[0mhomolog_annotation\u001b[0m \u001b[0;34m=\u001b[0m \u001b[0mhomolog_info\u001b[0m\u001b[0;34m[\u001b[0m\u001b[0;36m2\u001b[0m\u001b[0;34m]\u001b[0m\u001b[0;34m\u001b[0m\u001b[0m\n\u001b[0;32m---> 11\u001b[0;31m     \u001b[0morganism\u001b[0m \u001b[0;34m=\u001b[0m \u001b[0mhomolog_annotation\u001b[0m\u001b[0;34m.\u001b[0m\u001b[0msplit\u001b[0m\u001b[0;34m(\u001b[0m\u001b[0;34m\"[\"\u001b[0m\u001b[0;34m)\u001b[0m\u001b[0;34m[\u001b[0m\u001b[0;36m1\u001b[0m\u001b[0;34m]\u001b[0m\u001b[0;34m.\u001b[0m\u001b[0mreplace\u001b[0m\u001b[0;34m(\u001b[0m\u001b[0;34m\"]\"\u001b[0m\u001b[0;34m,\u001b[0m \u001b[0;34m\"\"\u001b[0m\u001b[0;34m)\u001b[0m\u001b[0;34m\u001b[0m\u001b[0m\n\u001b[0m\u001b[1;32m     12\u001b[0m     \u001b[0mpredicted_gene\u001b[0m \u001b[0;34m=\u001b[0m \u001b[0mhomolog_annotation\u001b[0m\u001b[0;34m.\u001b[0m\u001b[0msplit\u001b[0m\u001b[0;34m(\u001b[0m\u001b[0;34m\"[\"\u001b[0m\u001b[0;34m)\u001b[0m\u001b[0;34m[\u001b[0m\u001b[0;36m0\u001b[0m\u001b[0;34m]\u001b[0m\u001b[0;34m\u001b[0m\u001b[0m\n\u001b[1;32m     13\u001b[0m \u001b[0;34m\u001b[0m\u001b[0m\n",
      "\u001b[0;31mIndexError\u001b[0m: list index out of range"
     ]
    }
   ],
   "source": [
    "with open(\"/home/eeb177-student/Desktop/eeb-177/project/sandbox/Best_hits/gene_WHRN_best_hit_reduced_taxa_summary.csv\", \"r\") as initial_search:\n",
    "    possible_homologs_sequences = initial_search.readlines()\n",
    "\n",
    "with open(\"reciprocal_results.csv\", \"r\") as reciprocal_summary:\n",
    "    recip_results = reciprocal_summary.readlines()\n",
    "    \n",
    "for i in range(0, len(possible_homologs_sequences)):\n",
    "    homolog_info = possible_homologs_sequences[i].split(\",\")\n",
    "    homolog_id = homolog_info[1]\n",
    "    homolog_annotation = homolog_info[2]\n",
    "    organism = homolog_annotation.split(\"[\")[1].replace(\"]\", \"\")\n",
    "    predicted_gene = homolog_annotation.split(\"[\")[0]\n",
    "    \n",
    "    recip_hit = recip_results[i].split(\",\")\n",
    "    recip_id = recip_hit[0]\n",
    "    recip_annotation = recip_hit[1].split(\":\")[1].split(\";\")[0].replace(\"Full=\", \"\")\n",
    "    \n",
    "    print(\"for the gene:\")\n",
    "    print(organism + \",\" + predicted_gene)\n",
    "    print(\"best reciprocal hit was:\")\n",
    "    print(recip_id + \",\" + recip_annotation )"
   ]
  },
  {
   "cell_type": "code",
   "execution_count": null,
   "metadata": {
    "collapsed": true
   },
   "outputs": [],
   "source": []
  }
 ],
 "metadata": {
  "anaconda-cloud": {},
  "kernelspec": {
   "display_name": "Python [default]",
   "language": "python",
   "name": "python3"
  },
  "language_info": {
   "codemirror_mode": {
    "name": "ipython",
    "version": 3
   },
   "file_extension": ".py",
   "mimetype": "text/x-python",
   "name": "python",
   "nbconvert_exporter": "python",
   "pygments_lexer": "ipython3",
   "version": "3.5.2"
  }
 },
 "nbformat": 4,
 "nbformat_minor": 2
}
